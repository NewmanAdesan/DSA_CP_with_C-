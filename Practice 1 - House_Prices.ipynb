{
 "cells": [
  {
   "cell_type": "code",
   "execution_count": 1,
   "metadata": {},
   "outputs": [
    {
     "data": {
      "text/plain": [
       "'C:\\\\Users\\\\hp\\\\Machine Leaning & Deep Learning in Python Course\\\\Data Files\\\\1. ST Academy - Crash course and Regression files'"
      ]
     },
     "execution_count": 1,
     "metadata": {},
     "output_type": "execute_result"
    }
   ],
   "source": [
    "pwd"
   ]
  },
  {
   "cell_type": "code",
   "execution_count": 2,
   "metadata": {},
   "outputs": [],
   "source": [
    "import numpy as np\n",
    "import pandas as pd\n",
    "import seaborn as sns"
   ]
  },
  {
   "cell_type": "code",
   "execution_count": 3,
   "metadata": {},
   "outputs": [],
   "source": [
    "df = pd.read_csv('House_Price.csv', header = 0)\n"
   ]
  },
  {
   "cell_type": "code",
   "execution_count": 4,
   "metadata": {},
   "outputs": [
    {
     "data": {
      "text/html": [
       "<div>\n",
       "<style scoped>\n",
       "    .dataframe tbody tr th:only-of-type {\n",
       "        vertical-align: middle;\n",
       "    }\n",
       "\n",
       "    .dataframe tbody tr th {\n",
       "        vertical-align: top;\n",
       "    }\n",
       "\n",
       "    .dataframe thead th {\n",
       "        text-align: right;\n",
       "    }\n",
       "</style>\n",
       "<table border=\"1\" class=\"dataframe\">\n",
       "  <thead>\n",
       "    <tr style=\"text-align: right;\">\n",
       "      <th></th>\n",
       "      <th>price</th>\n",
       "      <th>crime_rate</th>\n",
       "      <th>resid_area</th>\n",
       "      <th>air_qual</th>\n",
       "      <th>room_num</th>\n",
       "      <th>age</th>\n",
       "      <th>dist1</th>\n",
       "      <th>dist2</th>\n",
       "      <th>dist3</th>\n",
       "      <th>dist4</th>\n",
       "      <th>teachers</th>\n",
       "      <th>poor_prop</th>\n",
       "      <th>airport</th>\n",
       "      <th>n_hos_beds</th>\n",
       "      <th>n_hot_rooms</th>\n",
       "      <th>waterbody</th>\n",
       "      <th>rainfall</th>\n",
       "      <th>bus_ter</th>\n",
       "      <th>parks</th>\n",
       "    </tr>\n",
       "  </thead>\n",
       "  <tbody>\n",
       "    <tr>\n",
       "      <th>0</th>\n",
       "      <td>24.0</td>\n",
       "      <td>0.00632</td>\n",
       "      <td>32.31</td>\n",
       "      <td>0.538</td>\n",
       "      <td>6.575</td>\n",
       "      <td>65.2</td>\n",
       "      <td>4.35</td>\n",
       "      <td>3.81</td>\n",
       "      <td>4.18</td>\n",
       "      <td>4.01</td>\n",
       "      <td>24.7</td>\n",
       "      <td>4.98</td>\n",
       "      <td>YES</td>\n",
       "      <td>5.480</td>\n",
       "      <td>11.1920</td>\n",
       "      <td>River</td>\n",
       "      <td>23</td>\n",
       "      <td>YES</td>\n",
       "      <td>0.049347</td>\n",
       "    </tr>\n",
       "    <tr>\n",
       "      <th>1</th>\n",
       "      <td>21.6</td>\n",
       "      <td>0.02731</td>\n",
       "      <td>37.07</td>\n",
       "      <td>0.469</td>\n",
       "      <td>6.421</td>\n",
       "      <td>78.9</td>\n",
       "      <td>4.99</td>\n",
       "      <td>4.70</td>\n",
       "      <td>5.12</td>\n",
       "      <td>5.06</td>\n",
       "      <td>22.2</td>\n",
       "      <td>9.14</td>\n",
       "      <td>NO</td>\n",
       "      <td>7.332</td>\n",
       "      <td>12.1728</td>\n",
       "      <td>Lake</td>\n",
       "      <td>42</td>\n",
       "      <td>YES</td>\n",
       "      <td>0.046146</td>\n",
       "    </tr>\n",
       "    <tr>\n",
       "      <th>2</th>\n",
       "      <td>34.7</td>\n",
       "      <td>0.02729</td>\n",
       "      <td>37.07</td>\n",
       "      <td>0.469</td>\n",
       "      <td>7.185</td>\n",
       "      <td>61.1</td>\n",
       "      <td>5.03</td>\n",
       "      <td>4.86</td>\n",
       "      <td>5.01</td>\n",
       "      <td>4.97</td>\n",
       "      <td>22.2</td>\n",
       "      <td>4.03</td>\n",
       "      <td>NO</td>\n",
       "      <td>7.394</td>\n",
       "      <td>101.1200</td>\n",
       "      <td>None</td>\n",
       "      <td>38</td>\n",
       "      <td>YES</td>\n",
       "      <td>0.045764</td>\n",
       "    </tr>\n",
       "    <tr>\n",
       "      <th>3</th>\n",
       "      <td>33.4</td>\n",
       "      <td>0.03237</td>\n",
       "      <td>32.18</td>\n",
       "      <td>0.458</td>\n",
       "      <td>6.998</td>\n",
       "      <td>45.8</td>\n",
       "      <td>6.21</td>\n",
       "      <td>5.93</td>\n",
       "      <td>6.16</td>\n",
       "      <td>5.96</td>\n",
       "      <td>21.3</td>\n",
       "      <td>2.94</td>\n",
       "      <td>YES</td>\n",
       "      <td>9.268</td>\n",
       "      <td>11.2672</td>\n",
       "      <td>Lake</td>\n",
       "      <td>45</td>\n",
       "      <td>YES</td>\n",
       "      <td>0.047151</td>\n",
       "    </tr>\n",
       "    <tr>\n",
       "      <th>4</th>\n",
       "      <td>36.2</td>\n",
       "      <td>0.06905</td>\n",
       "      <td>32.18</td>\n",
       "      <td>0.458</td>\n",
       "      <td>7.147</td>\n",
       "      <td>54.2</td>\n",
       "      <td>6.16</td>\n",
       "      <td>5.86</td>\n",
       "      <td>6.37</td>\n",
       "      <td>5.86</td>\n",
       "      <td>21.3</td>\n",
       "      <td>5.33</td>\n",
       "      <td>NO</td>\n",
       "      <td>8.824</td>\n",
       "      <td>11.2896</td>\n",
       "      <td>Lake</td>\n",
       "      <td>55</td>\n",
       "      <td>YES</td>\n",
       "      <td>0.039474</td>\n",
       "    </tr>\n",
       "  </tbody>\n",
       "</table>\n",
       "</div>"
      ],
      "text/plain": [
       "   price  crime_rate  resid_area  air_qual  room_num   age  dist1  dist2  \\\n",
       "0   24.0     0.00632       32.31     0.538     6.575  65.2   4.35   3.81   \n",
       "1   21.6     0.02731       37.07     0.469     6.421  78.9   4.99   4.70   \n",
       "2   34.7     0.02729       37.07     0.469     7.185  61.1   5.03   4.86   \n",
       "3   33.4     0.03237       32.18     0.458     6.998  45.8   6.21   5.93   \n",
       "4   36.2     0.06905       32.18     0.458     7.147  54.2   6.16   5.86   \n",
       "\n",
       "   dist3  dist4  teachers  poor_prop airport  n_hos_beds  n_hot_rooms  \\\n",
       "0   4.18   4.01      24.7       4.98     YES       5.480      11.1920   \n",
       "1   5.12   5.06      22.2       9.14      NO       7.332      12.1728   \n",
       "2   5.01   4.97      22.2       4.03      NO       7.394     101.1200   \n",
       "3   6.16   5.96      21.3       2.94     YES       9.268      11.2672   \n",
       "4   6.37   5.86      21.3       5.33      NO       8.824      11.2896   \n",
       "\n",
       "  waterbody  rainfall bus_ter     parks  \n",
       "0     River        23     YES  0.049347  \n",
       "1      Lake        42     YES  0.046146  \n",
       "2      None        38     YES  0.045764  \n",
       "3      Lake        45     YES  0.047151  \n",
       "4      Lake        55     YES  0.039474  "
      ]
     },
     "execution_count": 4,
     "metadata": {},
     "output_type": "execute_result"
    }
   ],
   "source": [
    "df.head()"
   ]
  },
  {
   "cell_type": "code",
   "execution_count": 5,
   "metadata": {},
   "outputs": [
    {
     "data": {
      "text/plain": [
       "(506, 19)"
      ]
     },
     "execution_count": 5,
     "metadata": {},
     "output_type": "execute_result"
    }
   ],
   "source": [
    "\n",
    "df.shape"
   ]
  },
  {
   "cell_type": "markdown",
   "metadata": {},
   "source": [
    "\n",
    "* Univarate Analysis - EDD"
   ]
  },
  {
   "cell_type": "code",
   "execution_count": 6,
   "metadata": {},
   "outputs": [
    {
     "data": {
      "text/html": [
       "<div>\n",
       "<style scoped>\n",
       "    .dataframe tbody tr th:only-of-type {\n",
       "        vertical-align: middle;\n",
       "    }\n",
       "\n",
       "    .dataframe tbody tr th {\n",
       "        vertical-align: top;\n",
       "    }\n",
       "\n",
       "    .dataframe thead th {\n",
       "        text-align: right;\n",
       "    }\n",
       "</style>\n",
       "<table border=\"1\" class=\"dataframe\">\n",
       "  <thead>\n",
       "    <tr style=\"text-align: right;\">\n",
       "      <th></th>\n",
       "      <th>price</th>\n",
       "      <th>crime_rate</th>\n",
       "      <th>resid_area</th>\n",
       "      <th>air_qual</th>\n",
       "      <th>room_num</th>\n",
       "      <th>age</th>\n",
       "      <th>dist1</th>\n",
       "      <th>dist2</th>\n",
       "      <th>dist3</th>\n",
       "      <th>dist4</th>\n",
       "      <th>teachers</th>\n",
       "      <th>poor_prop</th>\n",
       "      <th>n_hos_beds</th>\n",
       "      <th>n_hot_rooms</th>\n",
       "      <th>rainfall</th>\n",
       "      <th>parks</th>\n",
       "    </tr>\n",
       "  </thead>\n",
       "  <tbody>\n",
       "    <tr>\n",
       "      <th>count</th>\n",
       "      <td>506.000000</td>\n",
       "      <td>506.000000</td>\n",
       "      <td>506.000000</td>\n",
       "      <td>506.000000</td>\n",
       "      <td>506.000000</td>\n",
       "      <td>506.000000</td>\n",
       "      <td>506.000000</td>\n",
       "      <td>506.000000</td>\n",
       "      <td>506.000000</td>\n",
       "      <td>506.000000</td>\n",
       "      <td>506.000000</td>\n",
       "      <td>506.000000</td>\n",
       "      <td>498.000000</td>\n",
       "      <td>506.000000</td>\n",
       "      <td>506.000000</td>\n",
       "      <td>506.000000</td>\n",
       "    </tr>\n",
       "    <tr>\n",
       "      <th>mean</th>\n",
       "      <td>22.528854</td>\n",
       "      <td>3.613524</td>\n",
       "      <td>41.136779</td>\n",
       "      <td>0.554695</td>\n",
       "      <td>6.284634</td>\n",
       "      <td>68.574901</td>\n",
       "      <td>3.971996</td>\n",
       "      <td>3.628775</td>\n",
       "      <td>3.960672</td>\n",
       "      <td>3.618972</td>\n",
       "      <td>21.544466</td>\n",
       "      <td>12.653063</td>\n",
       "      <td>7.899767</td>\n",
       "      <td>13.041605</td>\n",
       "      <td>39.181818</td>\n",
       "      <td>0.054454</td>\n",
       "    </tr>\n",
       "    <tr>\n",
       "      <th>std</th>\n",
       "      <td>9.182176</td>\n",
       "      <td>8.601545</td>\n",
       "      <td>6.860353</td>\n",
       "      <td>0.115878</td>\n",
       "      <td>0.702617</td>\n",
       "      <td>28.148861</td>\n",
       "      <td>2.108532</td>\n",
       "      <td>2.108580</td>\n",
       "      <td>2.119797</td>\n",
       "      <td>2.099203</td>\n",
       "      <td>2.164946</td>\n",
       "      <td>7.141062</td>\n",
       "      <td>1.476683</td>\n",
       "      <td>5.238957</td>\n",
       "      <td>12.513697</td>\n",
       "      <td>0.010632</td>\n",
       "    </tr>\n",
       "    <tr>\n",
       "      <th>min</th>\n",
       "      <td>5.000000</td>\n",
       "      <td>0.006320</td>\n",
       "      <td>30.460000</td>\n",
       "      <td>0.385000</td>\n",
       "      <td>3.561000</td>\n",
       "      <td>2.900000</td>\n",
       "      <td>1.130000</td>\n",
       "      <td>0.920000</td>\n",
       "      <td>1.150000</td>\n",
       "      <td>0.730000</td>\n",
       "      <td>18.000000</td>\n",
       "      <td>1.730000</td>\n",
       "      <td>5.268000</td>\n",
       "      <td>10.057600</td>\n",
       "      <td>3.000000</td>\n",
       "      <td>0.033292</td>\n",
       "    </tr>\n",
       "    <tr>\n",
       "      <th>25%</th>\n",
       "      <td>17.025000</td>\n",
       "      <td>0.082045</td>\n",
       "      <td>35.190000</td>\n",
       "      <td>0.449000</td>\n",
       "      <td>5.885500</td>\n",
       "      <td>45.025000</td>\n",
       "      <td>2.270000</td>\n",
       "      <td>1.940000</td>\n",
       "      <td>2.232500</td>\n",
       "      <td>1.940000</td>\n",
       "      <td>19.800000</td>\n",
       "      <td>6.950000</td>\n",
       "      <td>6.634500</td>\n",
       "      <td>11.189800</td>\n",
       "      <td>28.000000</td>\n",
       "      <td>0.046464</td>\n",
       "    </tr>\n",
       "    <tr>\n",
       "      <th>50%</th>\n",
       "      <td>21.200000</td>\n",
       "      <td>0.256510</td>\n",
       "      <td>39.690000</td>\n",
       "      <td>0.538000</td>\n",
       "      <td>6.208500</td>\n",
       "      <td>77.500000</td>\n",
       "      <td>3.385000</td>\n",
       "      <td>3.010000</td>\n",
       "      <td>3.375000</td>\n",
       "      <td>3.070000</td>\n",
       "      <td>20.950000</td>\n",
       "      <td>11.360000</td>\n",
       "      <td>7.999000</td>\n",
       "      <td>12.720000</td>\n",
       "      <td>39.000000</td>\n",
       "      <td>0.053507</td>\n",
       "    </tr>\n",
       "    <tr>\n",
       "      <th>75%</th>\n",
       "      <td>25.000000</td>\n",
       "      <td>3.677082</td>\n",
       "      <td>48.100000</td>\n",
       "      <td>0.624000</td>\n",
       "      <td>6.623500</td>\n",
       "      <td>94.075000</td>\n",
       "      <td>5.367500</td>\n",
       "      <td>4.992500</td>\n",
       "      <td>5.407500</td>\n",
       "      <td>4.985000</td>\n",
       "      <td>22.600000</td>\n",
       "      <td>16.955000</td>\n",
       "      <td>9.088000</td>\n",
       "      <td>14.170800</td>\n",
       "      <td>50.000000</td>\n",
       "      <td>0.061397</td>\n",
       "    </tr>\n",
       "    <tr>\n",
       "      <th>max</th>\n",
       "      <td>50.000000</td>\n",
       "      <td>88.976200</td>\n",
       "      <td>57.740000</td>\n",
       "      <td>0.871000</td>\n",
       "      <td>8.780000</td>\n",
       "      <td>100.000000</td>\n",
       "      <td>12.320000</td>\n",
       "      <td>11.930000</td>\n",
       "      <td>12.320000</td>\n",
       "      <td>11.940000</td>\n",
       "      <td>27.400000</td>\n",
       "      <td>37.970000</td>\n",
       "      <td>10.876000</td>\n",
       "      <td>101.120000</td>\n",
       "      <td>60.000000</td>\n",
       "      <td>0.086711</td>\n",
       "    </tr>\n",
       "  </tbody>\n",
       "</table>\n",
       "</div>"
      ],
      "text/plain": [
       "            price  crime_rate  resid_area    air_qual    room_num         age  \\\n",
       "count  506.000000  506.000000  506.000000  506.000000  506.000000  506.000000   \n",
       "mean    22.528854    3.613524   41.136779    0.554695    6.284634   68.574901   \n",
       "std      9.182176    8.601545    6.860353    0.115878    0.702617   28.148861   \n",
       "min      5.000000    0.006320   30.460000    0.385000    3.561000    2.900000   \n",
       "25%     17.025000    0.082045   35.190000    0.449000    5.885500   45.025000   \n",
       "50%     21.200000    0.256510   39.690000    0.538000    6.208500   77.500000   \n",
       "75%     25.000000    3.677082   48.100000    0.624000    6.623500   94.075000   \n",
       "max     50.000000   88.976200   57.740000    0.871000    8.780000  100.000000   \n",
       "\n",
       "            dist1       dist2       dist3       dist4    teachers   poor_prop  \\\n",
       "count  506.000000  506.000000  506.000000  506.000000  506.000000  506.000000   \n",
       "mean     3.971996    3.628775    3.960672    3.618972   21.544466   12.653063   \n",
       "std      2.108532    2.108580    2.119797    2.099203    2.164946    7.141062   \n",
       "min      1.130000    0.920000    1.150000    0.730000   18.000000    1.730000   \n",
       "25%      2.270000    1.940000    2.232500    1.940000   19.800000    6.950000   \n",
       "50%      3.385000    3.010000    3.375000    3.070000   20.950000   11.360000   \n",
       "75%      5.367500    4.992500    5.407500    4.985000   22.600000   16.955000   \n",
       "max     12.320000   11.930000   12.320000   11.940000   27.400000   37.970000   \n",
       "\n",
       "       n_hos_beds  n_hot_rooms    rainfall       parks  \n",
       "count  498.000000   506.000000  506.000000  506.000000  \n",
       "mean     7.899767    13.041605   39.181818    0.054454  \n",
       "std      1.476683     5.238957   12.513697    0.010632  \n",
       "min      5.268000    10.057600    3.000000    0.033292  \n",
       "25%      6.634500    11.189800   28.000000    0.046464  \n",
       "50%      7.999000    12.720000   39.000000    0.053507  \n",
       "75%      9.088000    14.170800   50.000000    0.061397  \n",
       "max     10.876000   101.120000   60.000000    0.086711  "
      ]
     },
     "execution_count": 6,
     "metadata": {},
     "output_type": "execute_result"
    }
   ],
   "source": [
    "df.describe()"
   ]
  },
  {
   "cell_type": "markdown",
   "metadata": {},
   "source": [
    "* check out crime_rate, check out the difference of mean and median\n",
    "  check out its min, 25%, 50%, 75%, max as it gives an idea about the \n",
    "  distribution of the variable-- how skewed or is it outlier problem\n",
    "  \n",
    "* check the same for n_hot_rooms and rainfall"
   ]
  },
  {
   "cell_type": "code",
   "execution_count": 7,
   "metadata": {},
   "outputs": [
    {
     "name": "stdout",
     "output_type": "stream",
     "text": [
      "253\n",
      "21.2\n"
     ]
    },
    {
     "data": {
      "text/plain": [
       "[5.0,\n",
       " 5.0,\n",
       " 5.6,\n",
       " 6.3,\n",
       " 7.0,\n",
       " 7.0,\n",
       " 7.2,\n",
       " 7.2,\n",
       " 7.2,\n",
       " 7.4,\n",
       " 7.5,\n",
       " 8.1,\n",
       " 8.2,\n",
       " 8.3,\n",
       " 8.3,\n",
       " 8.4,\n",
       " 8.4,\n",
       " 8.5,\n",
       " 8.5,\n",
       " 8.8,\n",
       " 8.8,\n",
       " 9.5,\n",
       " 9.6,\n",
       " 9.7,\n",
       " 10.2,\n",
       " 10.2,\n",
       " 10.2,\n",
       " 10.4,\n",
       " 10.4,\n",
       " 10.5,\n",
       " 10.5,\n",
       " 10.8,\n",
       " 10.9,\n",
       " 10.9,\n",
       " 11.0,\n",
       " 11.3,\n",
       " 11.5,\n",
       " 11.7,\n",
       " 11.7,\n",
       " 11.8,\n",
       " 11.8,\n",
       " 11.9,\n",
       " 12.0,\n",
       " 12.1,\n",
       " 12.3,\n",
       " 12.5,\n",
       " 12.6,\n",
       " 12.7,\n",
       " 12.7,\n",
       " 12.7,\n",
       " 12.8,\n",
       " 13.0,\n",
       " 13.1,\n",
       " 13.1,\n",
       " 13.1,\n",
       " 13.1,\n",
       " 13.2,\n",
       " 13.3,\n",
       " 13.3,\n",
       " 13.3,\n",
       " 13.4,\n",
       " 13.4,\n",
       " 13.4,\n",
       " 13.4,\n",
       " 13.5,\n",
       " 13.5,\n",
       " 13.6,\n",
       " 13.6,\n",
       " 13.8,\n",
       " 13.8,\n",
       " 13.8,\n",
       " 13.8,\n",
       " 13.8,\n",
       " 13.9,\n",
       " 13.9,\n",
       " 14.0,\n",
       " 14.1,\n",
       " 14.1,\n",
       " 14.1,\n",
       " 14.2,\n",
       " 14.3,\n",
       " 14.3,\n",
       " 14.4,\n",
       " 14.4,\n",
       " 14.4,\n",
       " 14.5,\n",
       " 14.5,\n",
       " 14.5,\n",
       " 14.6,\n",
       " 14.6,\n",
       " 14.8,\n",
       " 14.8,\n",
       " 14.9,\n",
       " 14.9,\n",
       " 15.0,\n",
       " 15.0,\n",
       " 15.0,\n",
       " 15.1,\n",
       " 15.2,\n",
       " 15.2,\n",
       " 15.2,\n",
       " 15.3,\n",
       " 15.4,\n",
       " 15.4,\n",
       " 15.6,\n",
       " 15.6,\n",
       " 15.6,\n",
       " 15.6,\n",
       " 15.6,\n",
       " 15.7,\n",
       " 16.0,\n",
       " 16.1,\n",
       " 16.1,\n",
       " 16.1,\n",
       " 16.2,\n",
       " 16.2,\n",
       " 16.3,\n",
       " 16.4,\n",
       " 16.5,\n",
       " 16.5,\n",
       " 16.6,\n",
       " 16.6,\n",
       " 16.7,\n",
       " 16.7,\n",
       " 16.8,\n",
       " 16.8,\n",
       " 17.0,\n",
       " 17.1,\n",
       " 17.1,\n",
       " 17.1,\n",
       " 17.2,\n",
       " 17.2,\n",
       " 17.2,\n",
       " 17.3,\n",
       " 17.4,\n",
       " 17.4,\n",
       " 17.4,\n",
       " 17.5,\n",
       " 17.5,\n",
       " 17.5,\n",
       " 17.6,\n",
       " 17.7,\n",
       " 17.8,\n",
       " 17.8,\n",
       " 17.8,\n",
       " 17.8,\n",
       " 17.8,\n",
       " 17.9,\n",
       " 18.0,\n",
       " 18.1,\n",
       " 18.2,\n",
       " 18.2,\n",
       " 18.2,\n",
       " 18.3,\n",
       " 18.3,\n",
       " 18.4,\n",
       " 18.4,\n",
       " 18.5,\n",
       " 18.5,\n",
       " 18.5,\n",
       " 18.5,\n",
       " 18.6,\n",
       " 18.6,\n",
       " 18.7,\n",
       " 18.7,\n",
       " 18.7,\n",
       " 18.8,\n",
       " 18.8,\n",
       " 18.9,\n",
       " 18.9,\n",
       " 18.9,\n",
       " 18.9,\n",
       " 19.0,\n",
       " 19.0,\n",
       " 19.0,\n",
       " 19.1,\n",
       " 19.1,\n",
       " 19.1,\n",
       " 19.1,\n",
       " 19.2,\n",
       " 19.2,\n",
       " 19.3,\n",
       " 19.3,\n",
       " 19.3,\n",
       " 19.3,\n",
       " 19.3,\n",
       " 19.4,\n",
       " 19.4,\n",
       " 19.4,\n",
       " 19.4,\n",
       " 19.4,\n",
       " 19.4,\n",
       " 19.5,\n",
       " 19.5,\n",
       " 19.5,\n",
       " 19.5,\n",
       " 19.6,\n",
       " 19.6,\n",
       " 19.6,\n",
       " 19.6,\n",
       " 19.6,\n",
       " 19.7,\n",
       " 19.7,\n",
       " 19.8,\n",
       " 19.8,\n",
       " 19.8,\n",
       " 19.9,\n",
       " 19.9,\n",
       " 19.9,\n",
       " 19.9,\n",
       " 20.0,\n",
       " 20.0,\n",
       " 20.0,\n",
       " 20.0,\n",
       " 20.0,\n",
       " 20.1,\n",
       " 20.1,\n",
       " 20.1,\n",
       " 20.1,\n",
       " 20.1,\n",
       " 20.2,\n",
       " 20.2,\n",
       " 20.3,\n",
       " 20.3,\n",
       " 20.3,\n",
       " 20.3,\n",
       " 20.4,\n",
       " 20.4,\n",
       " 20.4,\n",
       " 20.4,\n",
       " 20.5,\n",
       " 20.5,\n",
       " 20.5,\n",
       " 20.6,\n",
       " 20.6,\n",
       " 20.6,\n",
       " 20.6,\n",
       " 20.6,\n",
       " 20.6,\n",
       " 20.7,\n",
       " 20.7,\n",
       " 20.8,\n",
       " 20.8,\n",
       " 20.8,\n",
       " 20.9,\n",
       " 20.9,\n",
       " 21.0,\n",
       " 21.0,\n",
       " 21.0,\n",
       " 21.1,\n",
       " 21.1,\n",
       " 21.2,\n",
       " 21.2]"
      ]
     },
     "execution_count": 7,
     "metadata": {},
     "output_type": "execute_result"
    }
   ],
   "source": [
    "\n",
    "## trying to prove what 50% means median\n",
    "## remember median right \n",
    "## to get it we have to sort our data first\n",
    "## the the middle value\n",
    "\n",
    "# getting what 50% is, in 506 given data\n",
    "median_index = (int) (50/100 * 506)\n",
    "print(median_index)\n",
    "\n",
    "\n",
    "\n",
    "# Lets check\n",
    "print(df.price.sort_values().iloc[median_index-1])\n",
    "\n",
    "# notice i used .iloc and not just the df.price.sort_values()[m]\n",
    "# because we have already sorted the data\n",
    "# meaning their previously given index will be shuffled from dataset\n",
    "# we cant use that to get the 50% element of our sorted data\n",
    "\n",
    "\n",
    "# Have a bigger View  \n",
    "list(df.price.sort_values()[:median_index])"
   ]
  },
  {
   "cell_type": "code",
   "execution_count": null,
   "metadata": {},
   "outputs": [],
   "source": []
  },
  {
   "cell_type": "markdown",
   "metadata": {},
   "source": [
    "* Lets see what is really going on with a scatter plot"
   ]
  },
  {
   "cell_type": "code",
   "execution_count": 8,
   "metadata": {},
   "outputs": [
    {
     "data": {
      "text/plain": [
       "<seaborn.axisgrid.JointGrid at 0x1f9d06a60d0>"
      ]
     },
     "execution_count": 8,
     "metadata": {},
     "output_type": "execute_result"
    },
    {
     "data": {
      "image/png": "[encoded data removed]",
      "text/plain": [
       "<Figure size 432x432 with 3 Axes>"
      ]
     },
     "metadata": {
      "needs_background": "light"
     },
     "output_type": "display_data"
    }
   ],
   "source": [
    "sns.jointplot(x = 'n_hot_rooms', y = 'price', data = df)"
   ]
  },
  {
   "cell_type": "markdown",
   "metadata": {},
   "source": [
    "* You can easily identify the outliers "
   ]
  },
  {
   "cell_type": "code",
   "execution_count": 9,
   "metadata": {},
   "outputs": [
    {
     "data": {
      "text/plain": [
       "<seaborn.axisgrid.JointGrid at 0x1f9d0789820>"
      ]
     },
     "execution_count": 9,
     "metadata": {},
     "output_type": "execute_result"
    },
    {
     "data": {
      "image/png": "[encoded data removed]",
      "text/plain": [
       "<Figure size 432x432 with 3 Axes>"
      ]
     },
     "metadata": {
      "needs_background": "light"
     },
     "output_type": "display_data"
    }
   ],
   "source": [
    "sns.jointplot(x = 'rainfall', y = 'price', data = df)"
   ]
  },
  {
   "cell_type": "code",
   "execution_count": 10,
   "metadata": {},
   "outputs": [],
   "source": [
    "# Lets Have a view of the distribution of variables with categorical data\n"
   ]
  },
  {
   "cell_type": "code",
   "execution_count": 11,
   "metadata": {},
   "outputs": [
    {
     "data": {
      "text/plain": [
       "<AxesSubplot:xlabel='airport', ylabel='count'>"
      ]
     },
     "execution_count": 11,
     "metadata": {},
     "output_type": "execute_result"
    },
    {
     "data": {
      "image/png": "[encoded data removed]",
      "text/plain": [
       "<Figure size 432x288 with 1 Axes>"
      ]
     },
     "metadata": {
      "needs_background": "light"
     },
     "output_type": "display_data"
    }
   ],
   "source": [
    "sns.countplot(x = 'airport', data = df)"
   ]
  },
  {
   "cell_type": "code",
   "execution_count": 12,
   "metadata": {},
   "outputs": [
    {
     "data": {
      "text/plain": [
       "<AxesSubplot:xlabel='bus_ter', ylabel='count'>"
      ]
     },
     "execution_count": 12,
     "metadata": {},
     "output_type": "execute_result"
    },
    {
     "data": {
      "image/png": "[encoded data removed]",
      "text/plain": [
       "<Figure size 432x288 with 1 Axes>"
      ]
     },
     "metadata": {
      "needs_background": "light"
     },
     "output_type": "display_data"
    }
   ],
   "source": [
    "sns.countplot(x = 'bus_ter', data = df)"
   ]
  },
  {
   "cell_type": "markdown",
   "metadata": {},
   "source": [
    "* Hmm... You see what is going on here right\n",
    "  as it will not impact outr model in anyway"
   ]
  },
  {
   "cell_type": "markdown",
   "metadata": {},
   "source": [
    "Observations\n",
    "\n",
    "1. Missing values in n_hos_beds\n",
    "2. skewness or outliers in crime_rate\n",
    "3. Outliers in rainfall and n_hot_rooms\n",
    "4. bus_ter has only \"YES\" value"
   ]
  },
  {
   "cell_type": "code",
   "execution_count": null,
   "metadata": {},
   "outputs": [],
   "source": []
  },
  {
   "cell_type": "code",
   "execution_count": 13,
   "metadata": {},
   "outputs": [
    {
     "name": "stdout",
     "output_type": "stream",
     "text": [
      "<class 'pandas.core.frame.DataFrame'>\n",
      "RangeIndex: 506 entries, 0 to 505\n",
      "Data columns (total 19 columns):\n",
      " #   Column       Non-Null Count  Dtype  \n",
      "---  ------       --------------  -----  \n",
      " 0   price        506 non-null    float64\n",
      " 1   crime_rate   506 non-null    float64\n",
      " 2   resid_area   506 non-null    float64\n",
      " 3   air_qual     506 non-null    float64\n",
      " 4   room_num     506 non-null    float64\n",
      " 5   age          506 non-null    float64\n",
      " 6   dist1        506 non-null    float64\n",
      " 7   dist2        506 non-null    float64\n",
      " 8   dist3        506 non-null    float64\n",
      " 9   dist4        506 non-null    float64\n",
      " 10  teachers     506 non-null    float64\n",
      " 11  poor_prop    506 non-null    float64\n",
      " 12  airport      506 non-null    object \n",
      " 13  n_hos_beds   498 non-null    float64\n",
      " 14  n_hot_rooms  506 non-null    float64\n",
      " 15  waterbody    506 non-null    object \n",
      " 16  rainfall     506 non-null    int64  \n",
      " 17  bus_ter      506 non-null    object \n",
      " 18  parks        506 non-null    float64\n",
      "dtypes: float64(15), int64(1), object(3)\n",
      "memory usage: 75.2+ KB\n"
     ]
    }
   ],
   "source": [
    "df.info()"
   ]
  },
  {
   "cell_type": "code",
   "execution_count": null,
   "metadata": {},
   "outputs": [],
   "source": []
  },
  {
   "cell_type": "markdown",
   "metadata": {},
   "source": [
    "We identified Outliers in n_hot_rooms and rainfall right\n",
    "lets deal with them using the \n",
    "  * Capping and Flooring Technique"
   ]
  },
  {
   "cell_type": "code",
   "execution_count": null,
   "metadata": {},
   "outputs": [],
   "source": []
  },
  {
   "cell_type": "code",
   "execution_count": 14,
   "metadata": {},
   "outputs": [
    {
     "data": {
      "text/plain": [
       "60.0"
      ]
     },
     "execution_count": 14,
     "metadata": {},
     "output_type": "execute_result"
    }
   ],
   "source": [
    "np.percentile(df.rainfall, 99)"
   ]
  },
  {
   "cell_type": "code",
   "execution_count": 15,
   "metadata": {},
   "outputs": [
    {
     "data": {
      "text/plain": [
       "array([20.])"
      ]
     },
     "execution_count": 15,
     "metadata": {},
     "output_type": "execute_result"
    }
   ],
   "source": [
    "np.percentile(df.rainfall, [1])"
   ]
  },
  {
   "cell_type": "code",
   "execution_count": 16,
   "metadata": {},
   "outputs": [],
   "source": [
    "lv1 = np.percentile(df.rainfall, [1])[0]"
   ]
  },
  {
   "cell_type": "code",
   "execution_count": 17,
   "metadata": {},
   "outputs": [],
   "source": [
    "uv1 = np.percentile(df.rainfall, 99)"
   ]
  },
  {
   "cell_type": "code",
   "execution_count": 18,
   "metadata": {},
   "outputs": [
    {
     "data": {
      "text/html": [
       "<div>\n",
       "<style scoped>\n",
       "    .dataframe tbody tr th:only-of-type {\n",
       "        vertical-align: middle;\n",
       "    }\n",
       "\n",
       "    .dataframe tbody tr th {\n",
       "        vertical-align: top;\n",
       "    }\n",
       "\n",
       "    .dataframe thead th {\n",
       "        text-align: right;\n",
       "    }\n",
       "</style>\n",
       "<table border=\"1\" class=\"dataframe\">\n",
       "  <thead>\n",
       "    <tr style=\"text-align: right;\">\n",
       "      <th></th>\n",
       "      <th>price</th>\n",
       "      <th>crime_rate</th>\n",
       "      <th>resid_area</th>\n",
       "      <th>air_qual</th>\n",
       "      <th>room_num</th>\n",
       "      <th>age</th>\n",
       "      <th>dist1</th>\n",
       "      <th>dist2</th>\n",
       "      <th>dist3</th>\n",
       "      <th>dist4</th>\n",
       "      <th>teachers</th>\n",
       "      <th>poor_prop</th>\n",
       "      <th>airport</th>\n",
       "      <th>n_hos_beds</th>\n",
       "      <th>n_hot_rooms</th>\n",
       "      <th>waterbody</th>\n",
       "      <th>rainfall</th>\n",
       "      <th>bus_ter</th>\n",
       "      <th>parks</th>\n",
       "    </tr>\n",
       "  </thead>\n",
       "  <tbody>\n",
       "  </tbody>\n",
       "</table>\n",
       "</div>"
      ],
      "text/plain": [
       "Empty DataFrame\n",
       "Columns: [price, crime_rate, resid_area, air_qual, room_num, age, dist1, dist2, dist3, dist4, teachers, poor_prop, airport, n_hos_beds, n_hot_rooms, waterbody, rainfall, bus_ter, parks]\n",
       "Index: []"
      ]
     },
     "execution_count": 18,
     "metadata": {},
     "output_type": "execute_result"
    }
   ],
   "source": [
    "df[df['rainfall'] > uv1]"
   ]
  },
  {
   "cell_type": "markdown",
   "metadata": {},
   "source": [
    "* No serious upper bound rainfall outlier"
   ]
  },
  {
   "cell_type": "code",
   "execution_count": 19,
   "metadata": {},
   "outputs": [
    {
     "data": {
      "text/html": [
       "<div>\n",
       "<style scoped>\n",
       "    .dataframe tbody tr th:only-of-type {\n",
       "        vertical-align: middle;\n",
       "    }\n",
       "\n",
       "    .dataframe tbody tr th {\n",
       "        vertical-align: top;\n",
       "    }\n",
       "\n",
       "    .dataframe thead th {\n",
       "        text-align: right;\n",
       "    }\n",
       "</style>\n",
       "<table border=\"1\" class=\"dataframe\">\n",
       "  <thead>\n",
       "    <tr style=\"text-align: right;\">\n",
       "      <th></th>\n",
       "      <th>price</th>\n",
       "      <th>crime_rate</th>\n",
       "      <th>resid_area</th>\n",
       "      <th>air_qual</th>\n",
       "      <th>room_num</th>\n",
       "      <th>age</th>\n",
       "      <th>dist1</th>\n",
       "      <th>dist2</th>\n",
       "      <th>dist3</th>\n",
       "      <th>dist4</th>\n",
       "      <th>teachers</th>\n",
       "      <th>poor_prop</th>\n",
       "      <th>airport</th>\n",
       "      <th>n_hos_beds</th>\n",
       "      <th>n_hot_rooms</th>\n",
       "      <th>waterbody</th>\n",
       "      <th>rainfall</th>\n",
       "      <th>bus_ter</th>\n",
       "      <th>parks</th>\n",
       "    </tr>\n",
       "  </thead>\n",
       "  <tbody>\n",
       "    <tr>\n",
       "      <th>213</th>\n",
       "      <td>28.1</td>\n",
       "      <td>0.14052</td>\n",
       "      <td>40.59</td>\n",
       "      <td>0.489</td>\n",
       "      <td>6.375</td>\n",
       "      <td>32.3</td>\n",
       "      <td>4.11</td>\n",
       "      <td>3.92</td>\n",
       "      <td>4.18</td>\n",
       "      <td>3.57</td>\n",
       "      <td>21.4</td>\n",
       "      <td>9.38</td>\n",
       "      <td>YES</td>\n",
       "      <td>7.562</td>\n",
       "      <td>10.2248</td>\n",
       "      <td>None</td>\n",
       "      <td>3</td>\n",
       "      <td>YES</td>\n",
       "      <td>0.044019</td>\n",
       "    </tr>\n",
       "  </tbody>\n",
       "</table>\n",
       "</div>"
      ],
      "text/plain": [
       "     price  crime_rate  resid_area  air_qual  room_num   age  dist1  dist2  \\\n",
       "213   28.1     0.14052       40.59     0.489     6.375  32.3   4.11   3.92   \n",
       "\n",
       "     dist3  dist4  teachers  poor_prop airport  n_hos_beds  n_hot_rooms  \\\n",
       "213   4.18   3.57      21.4       9.38     YES       7.562      10.2248   \n",
       "\n",
       "    waterbody  rainfall bus_ter     parks  \n",
       "213      None         3     YES  0.044019  "
      ]
     },
     "execution_count": 19,
     "metadata": {},
     "output_type": "execute_result"
    }
   ],
   "source": [
    "df[df['rainfall'] <lv1]"
   ]
  },
  {
   "cell_type": "code",
   "execution_count": 20,
   "metadata": {},
   "outputs": [
    {
     "name": "stderr",
     "output_type": "stream",
     "text": [
      "<ipython-input-20-349afefd837a>:1: SettingWithCopyWarning: \n",
      "A value is trying to be set on a copy of a slice from a DataFrame\n",
      "\n",
      "See the caveats in the documentation: https://pandas.pydata.org/pandas-docs/stable/user_guide/indexing.html#returning-a-view-versus-a-copy\n",
      "  df.rainfall[ (df['rainfall'] < 0.3*lv1) ] = 0.3*lv1\n"
     ]
    }
   ],
   "source": [
    "df.rainfall[ (df['rainfall'] < 0.3*lv1) ] = 0.3*lv1"
   ]
  },
  {
   "cell_type": "code",
   "execution_count": null,
   "metadata": {},
   "outputs": [],
   "source": []
  },
  {
   "cell_type": "code",
   "execution_count": 21,
   "metadata": {},
   "outputs": [
    {
     "data": {
      "text/plain": [
       "15.399519999999999"
      ]
     },
     "execution_count": 21,
     "metadata": {},
     "output_type": "execute_result"
    }
   ],
   "source": [
    "uv2 = np.percentile(df.n_hot_rooms, 99)"
   ]
  },
  {
   "cell_type": "code",
   "execution_count": 22,
   "metadata": {},
   "outputs": [
    {
     "data": {
      "text/html": [
       "<div>\n",
       "<style scoped>\n",
       "    .dataframe tbody tr th:only-of-type {\n",
       "        vertical-align: middle;\n",
       "    }\n",
       "\n",
       "    .dataframe tbody tr th {\n",
       "        vertical-align: top;\n",
       "    }\n",
       "\n",
       "    .dataframe thead th {\n",
       "        text-align: right;\n",
       "    }\n",
       "</style>\n",
       "<table border=\"1\" class=\"dataframe\">\n",
       "  <thead>\n",
       "    <tr style=\"text-align: right;\">\n",
       "      <th></th>\n",
       "      <th>price</th>\n",
       "      <th>crime_rate</th>\n",
       "      <th>resid_area</th>\n",
       "      <th>air_qual</th>\n",
       "      <th>room_num</th>\n",
       "      <th>age</th>\n",
       "      <th>dist1</th>\n",
       "      <th>dist2</th>\n",
       "      <th>dist3</th>\n",
       "      <th>dist4</th>\n",
       "      <th>teachers</th>\n",
       "      <th>poor_prop</th>\n",
       "      <th>airport</th>\n",
       "      <th>n_hos_beds</th>\n",
       "      <th>n_hot_rooms</th>\n",
       "      <th>waterbody</th>\n",
       "      <th>rainfall</th>\n",
       "      <th>bus_ter</th>\n",
       "      <th>parks</th>\n",
       "    </tr>\n",
       "  </thead>\n",
       "  <tbody>\n",
       "    <tr>\n",
       "      <th>2</th>\n",
       "      <td>34.7</td>\n",
       "      <td>0.02729</td>\n",
       "      <td>37.07</td>\n",
       "      <td>0.4690</td>\n",
       "      <td>7.185</td>\n",
       "      <td>61.1</td>\n",
       "      <td>5.03</td>\n",
       "      <td>4.86</td>\n",
       "      <td>5.01</td>\n",
       "      <td>4.97</td>\n",
       "      <td>22.2</td>\n",
       "      <td>4.03</td>\n",
       "      <td>NO</td>\n",
       "      <td>7.394</td>\n",
       "      <td>101.12</td>\n",
       "      <td>None</td>\n",
       "      <td>38</td>\n",
       "      <td>YES</td>\n",
       "      <td>0.045764</td>\n",
       "    </tr>\n",
       "    <tr>\n",
       "      <th>166</th>\n",
       "      <td>50.0</td>\n",
       "      <td>2.01019</td>\n",
       "      <td>49.58</td>\n",
       "      <td>0.6050</td>\n",
       "      <td>7.929</td>\n",
       "      <td>96.2</td>\n",
       "      <td>2.11</td>\n",
       "      <td>1.91</td>\n",
       "      <td>2.31</td>\n",
       "      <td>1.86</td>\n",
       "      <td>25.3</td>\n",
       "      <td>3.70</td>\n",
       "      <td>YES</td>\n",
       "      <td>8.300</td>\n",
       "      <td>15.40</td>\n",
       "      <td>River</td>\n",
       "      <td>37</td>\n",
       "      <td>YES</td>\n",
       "      <td>0.052105</td>\n",
       "    </tr>\n",
       "    <tr>\n",
       "      <th>204</th>\n",
       "      <td>50.0</td>\n",
       "      <td>0.02009</td>\n",
       "      <td>32.68</td>\n",
       "      <td>0.4161</td>\n",
       "      <td>8.034</td>\n",
       "      <td>31.9</td>\n",
       "      <td>5.41</td>\n",
       "      <td>4.80</td>\n",
       "      <td>5.28</td>\n",
       "      <td>4.99</td>\n",
       "      <td>25.3</td>\n",
       "      <td>2.88</td>\n",
       "      <td>YES</td>\n",
       "      <td>8.900</td>\n",
       "      <td>15.40</td>\n",
       "      <td>River</td>\n",
       "      <td>51</td>\n",
       "      <td>YES</td>\n",
       "      <td>0.044178</td>\n",
       "    </tr>\n",
       "    <tr>\n",
       "      <th>267</th>\n",
       "      <td>50.0</td>\n",
       "      <td>0.57834</td>\n",
       "      <td>33.97</td>\n",
       "      <td>0.5750</td>\n",
       "      <td>8.297</td>\n",
       "      <td>67.0</td>\n",
       "      <td>2.60</td>\n",
       "      <td>2.13</td>\n",
       "      <td>2.43</td>\n",
       "      <td>2.52</td>\n",
       "      <td>27.0</td>\n",
       "      <td>7.44</td>\n",
       "      <td>YES</td>\n",
       "      <td>8.000</td>\n",
       "      <td>15.40</td>\n",
       "      <td>None</td>\n",
       "      <td>42</td>\n",
       "      <td>YES</td>\n",
       "      <td>0.063235</td>\n",
       "    </tr>\n",
       "    <tr>\n",
       "      <th>369</th>\n",
       "      <td>50.0</td>\n",
       "      <td>5.66998</td>\n",
       "      <td>48.10</td>\n",
       "      <td>0.6310</td>\n",
       "      <td>6.683</td>\n",
       "      <td>96.8</td>\n",
       "      <td>1.55</td>\n",
       "      <td>1.28</td>\n",
       "      <td>1.65</td>\n",
       "      <td>0.94</td>\n",
       "      <td>19.8</td>\n",
       "      <td>3.73</td>\n",
       "      <td>YES</td>\n",
       "      <td>6.700</td>\n",
       "      <td>15.40</td>\n",
       "      <td>River</td>\n",
       "      <td>58</td>\n",
       "      <td>YES</td>\n",
       "      <td>0.067477</td>\n",
       "    </tr>\n",
       "    <tr>\n",
       "      <th>423</th>\n",
       "      <td>13.4</td>\n",
       "      <td>7.05042</td>\n",
       "      <td>48.10</td>\n",
       "      <td>0.6140</td>\n",
       "      <td>6.103</td>\n",
       "      <td>85.1</td>\n",
       "      <td>2.08</td>\n",
       "      <td>1.80</td>\n",
       "      <td>2.34</td>\n",
       "      <td>1.87</td>\n",
       "      <td>19.8</td>\n",
       "      <td>23.29</td>\n",
       "      <td>NO</td>\n",
       "      <td>8.268</td>\n",
       "      <td>81.12</td>\n",
       "      <td>Lake</td>\n",
       "      <td>29</td>\n",
       "      <td>YES</td>\n",
       "      <td>0.063344</td>\n",
       "    </tr>\n",
       "  </tbody>\n",
       "</table>\n",
       "</div>"
      ],
      "text/plain": [
       "     price  crime_rate  resid_area  air_qual  room_num   age  dist1  dist2  \\\n",
       "2     34.7     0.02729       37.07    0.4690     7.185  61.1   5.03   4.86   \n",
       "166   50.0     2.01019       49.58    0.6050     7.929  96.2   2.11   1.91   \n",
       "204   50.0     0.02009       32.68    0.4161     8.034  31.9   5.41   4.80   \n",
       "267   50.0     0.57834       33.97    0.5750     8.297  67.0   2.60   2.13   \n",
       "369   50.0     5.66998       48.10    0.6310     6.683  96.8   1.55   1.28   \n",
       "423   13.4     7.05042       48.10    0.6140     6.103  85.1   2.08   1.80   \n",
       "\n",
       "     dist3  dist4  teachers  poor_prop airport  n_hos_beds  n_hot_rooms  \\\n",
       "2     5.01   4.97      22.2       4.03      NO       7.394       101.12   \n",
       "166   2.31   1.86      25.3       3.70     YES       8.300        15.40   \n",
       "204   5.28   4.99      25.3       2.88     YES       8.900        15.40   \n",
       "267   2.43   2.52      27.0       7.44     YES       8.000        15.40   \n",
       "369   1.65   0.94      19.8       3.73     YES       6.700        15.40   \n",
       "423   2.34   1.87      19.8      23.29      NO       8.268        81.12   \n",
       "\n",
       "    waterbody  rainfall bus_ter     parks  \n",
       "2        None        38     YES  0.045764  \n",
       "166     River        37     YES  0.052105  \n",
       "204     River        51     YES  0.044178  \n",
       "267      None        42     YES  0.063235  \n",
       "369     River        58     YES  0.067477  \n",
       "423      Lake        29     YES  0.063344  "
      ]
     },
     "execution_count": 22,
     "metadata": {},
     "output_type": "execute_result"
    }
   ],
   "source": [
    "df[df.n_hot_rooms > uv2]"
   ]
  },
  {
   "cell_type": "code",
   "execution_count": 23,
   "metadata": {},
   "outputs": [
    {
     "name": "stderr",
     "output_type": "stream",
     "text": [
      "<ipython-input-23-606b7e648447>:1: SettingWithCopyWarning: \n",
      "A value is trying to be set on a copy of a slice from a DataFrame\n",
      "\n",
      "See the caveats in the documentation: https://pandas.pydata.org/pandas-docs/stable/user_guide/indexing.html#returning-a-view-versus-a-copy\n",
      "  df.n_hot_rooms[df.n_hot_rooms > 3*uv2]= 3 * uv2\n"
     ]
    }
   ],
   "source": [
    "df.n_hot_rooms[df.n_hot_rooms > 3*uv2]= 3 * uv2"
   ]
  },
  {
   "cell_type": "code",
   "execution_count": 24,
   "metadata": {},
   "outputs": [
    {
     "data": {
      "text/html": [
       "<div>\n",
       "<style scoped>\n",
       "    .dataframe tbody tr th:only-of-type {\n",
       "        vertical-align: middle;\n",
       "    }\n",
       "\n",
       "    .dataframe tbody tr th {\n",
       "        vertical-align: top;\n",
       "    }\n",
       "\n",
       "    .dataframe thead th {\n",
       "        text-align: right;\n",
       "    }\n",
       "</style>\n",
       "<table border=\"1\" class=\"dataframe\">\n",
       "  <thead>\n",
       "    <tr style=\"text-align: right;\">\n",
       "      <th></th>\n",
       "      <th>price</th>\n",
       "      <th>crime_rate</th>\n",
       "      <th>resid_area</th>\n",
       "      <th>air_qual</th>\n",
       "      <th>room_num</th>\n",
       "      <th>age</th>\n",
       "      <th>dist1</th>\n",
       "      <th>dist2</th>\n",
       "      <th>dist3</th>\n",
       "      <th>dist4</th>\n",
       "      <th>teachers</th>\n",
       "      <th>poor_prop</th>\n",
       "      <th>airport</th>\n",
       "      <th>n_hos_beds</th>\n",
       "      <th>n_hot_rooms</th>\n",
       "      <th>waterbody</th>\n",
       "      <th>rainfall</th>\n",
       "      <th>bus_ter</th>\n",
       "      <th>parks</th>\n",
       "    </tr>\n",
       "  </thead>\n",
       "  <tbody>\n",
       "    <tr>\n",
       "      <th>2</th>\n",
       "      <td>34.7</td>\n",
       "      <td>0.02729</td>\n",
       "      <td>37.07</td>\n",
       "      <td>0.4690</td>\n",
       "      <td>7.185</td>\n",
       "      <td>61.1</td>\n",
       "      <td>5.03</td>\n",
       "      <td>4.86</td>\n",
       "      <td>5.01</td>\n",
       "      <td>4.97</td>\n",
       "      <td>22.2</td>\n",
       "      <td>4.03</td>\n",
       "      <td>NO</td>\n",
       "      <td>7.394</td>\n",
       "      <td>46.19856</td>\n",
       "      <td>None</td>\n",
       "      <td>38</td>\n",
       "      <td>YES</td>\n",
       "      <td>0.045764</td>\n",
       "    </tr>\n",
       "    <tr>\n",
       "      <th>166</th>\n",
       "      <td>50.0</td>\n",
       "      <td>2.01019</td>\n",
       "      <td>49.58</td>\n",
       "      <td>0.6050</td>\n",
       "      <td>7.929</td>\n",
       "      <td>96.2</td>\n",
       "      <td>2.11</td>\n",
       "      <td>1.91</td>\n",
       "      <td>2.31</td>\n",
       "      <td>1.86</td>\n",
       "      <td>25.3</td>\n",
       "      <td>3.70</td>\n",
       "      <td>YES</td>\n",
       "      <td>8.300</td>\n",
       "      <td>15.40000</td>\n",
       "      <td>River</td>\n",
       "      <td>37</td>\n",
       "      <td>YES</td>\n",
       "      <td>0.052105</td>\n",
       "    </tr>\n",
       "    <tr>\n",
       "      <th>204</th>\n",
       "      <td>50.0</td>\n",
       "      <td>0.02009</td>\n",
       "      <td>32.68</td>\n",
       "      <td>0.4161</td>\n",
       "      <td>8.034</td>\n",
       "      <td>31.9</td>\n",
       "      <td>5.41</td>\n",
       "      <td>4.80</td>\n",
       "      <td>5.28</td>\n",
       "      <td>4.99</td>\n",
       "      <td>25.3</td>\n",
       "      <td>2.88</td>\n",
       "      <td>YES</td>\n",
       "      <td>8.900</td>\n",
       "      <td>15.40000</td>\n",
       "      <td>River</td>\n",
       "      <td>51</td>\n",
       "      <td>YES</td>\n",
       "      <td>0.044178</td>\n",
       "    </tr>\n",
       "    <tr>\n",
       "      <th>267</th>\n",
       "      <td>50.0</td>\n",
       "      <td>0.57834</td>\n",
       "      <td>33.97</td>\n",
       "      <td>0.5750</td>\n",
       "      <td>8.297</td>\n",
       "      <td>67.0</td>\n",
       "      <td>2.60</td>\n",
       "      <td>2.13</td>\n",
       "      <td>2.43</td>\n",
       "      <td>2.52</td>\n",
       "      <td>27.0</td>\n",
       "      <td>7.44</td>\n",
       "      <td>YES</td>\n",
       "      <td>8.000</td>\n",
       "      <td>15.40000</td>\n",
       "      <td>None</td>\n",
       "      <td>42</td>\n",
       "      <td>YES</td>\n",
       "      <td>0.063235</td>\n",
       "    </tr>\n",
       "    <tr>\n",
       "      <th>369</th>\n",
       "      <td>50.0</td>\n",
       "      <td>5.66998</td>\n",
       "      <td>48.10</td>\n",
       "      <td>0.6310</td>\n",
       "      <td>6.683</td>\n",
       "      <td>96.8</td>\n",
       "      <td>1.55</td>\n",
       "      <td>1.28</td>\n",
       "      <td>1.65</td>\n",
       "      <td>0.94</td>\n",
       "      <td>19.8</td>\n",
       "      <td>3.73</td>\n",
       "      <td>YES</td>\n",
       "      <td>6.700</td>\n",
       "      <td>15.40000</td>\n",
       "      <td>River</td>\n",
       "      <td>58</td>\n",
       "      <td>YES</td>\n",
       "      <td>0.067477</td>\n",
       "    </tr>\n",
       "    <tr>\n",
       "      <th>423</th>\n",
       "      <td>13.4</td>\n",
       "      <td>7.05042</td>\n",
       "      <td>48.10</td>\n",
       "      <td>0.6140</td>\n",
       "      <td>6.103</td>\n",
       "      <td>85.1</td>\n",
       "      <td>2.08</td>\n",
       "      <td>1.80</td>\n",
       "      <td>2.34</td>\n",
       "      <td>1.87</td>\n",
       "      <td>19.8</td>\n",
       "      <td>23.29</td>\n",
       "      <td>NO</td>\n",
       "      <td>8.268</td>\n",
       "      <td>46.19856</td>\n",
       "      <td>Lake</td>\n",
       "      <td>29</td>\n",
       "      <td>YES</td>\n",
       "      <td>0.063344</td>\n",
       "    </tr>\n",
       "  </tbody>\n",
       "</table>\n",
       "</div>"
      ],
      "text/plain": [
       "     price  crime_rate  resid_area  air_qual  room_num   age  dist1  dist2  \\\n",
       "2     34.7     0.02729       37.07    0.4690     7.185  61.1   5.03   4.86   \n",
       "166   50.0     2.01019       49.58    0.6050     7.929  96.2   2.11   1.91   \n",
       "204   50.0     0.02009       32.68    0.4161     8.034  31.9   5.41   4.80   \n",
       "267   50.0     0.57834       33.97    0.5750     8.297  67.0   2.60   2.13   \n",
       "369   50.0     5.66998       48.10    0.6310     6.683  96.8   1.55   1.28   \n",
       "423   13.4     7.05042       48.10    0.6140     6.103  85.1   2.08   1.80   \n",
       "\n",
       "     dist3  dist4  teachers  poor_prop airport  n_hos_beds  n_hot_rooms  \\\n",
       "2     5.01   4.97      22.2       4.03      NO       7.394     46.19856   \n",
       "166   2.31   1.86      25.3       3.70     YES       8.300     15.40000   \n",
       "204   5.28   4.99      25.3       2.88     YES       8.900     15.40000   \n",
       "267   2.43   2.52      27.0       7.44     YES       8.000     15.40000   \n",
       "369   1.65   0.94      19.8       3.73     YES       6.700     15.40000   \n",
       "423   2.34   1.87      19.8      23.29      NO       8.268     46.19856   \n",
       "\n",
       "    waterbody  rainfall bus_ter     parks  \n",
       "2        None        38     YES  0.045764  \n",
       "166     River        37     YES  0.052105  \n",
       "204     River        51     YES  0.044178  \n",
       "267      None        42     YES  0.063235  \n",
       "369     River        58     YES  0.067477  \n",
       "423      Lake        29     YES  0.063344  "
      ]
     },
     "execution_count": 24,
     "metadata": {},
     "output_type": "execute_result"
    }
   ],
   "source": [
    "df[df.n_hot_rooms > uv2]"
   ]
  },
  {
   "cell_type": "code",
   "execution_count": null,
   "metadata": {},
   "outputs": [],
   "source": []
  },
  {
   "cell_type": "code",
   "execution_count": null,
   "metadata": {},
   "outputs": [],
   "source": []
  },
  {
   "cell_type": "markdown",
   "metadata": {},
   "source": [
    "\n",
    "\n",
    "- Now Lets have a look at the Crime Rate column"
   ]
  },
  {
   "cell_type": "code",
   "execution_count": 25,
   "metadata": {},
   "outputs": [
    {
     "data": {
      "text/plain": [
       "<seaborn.axisgrid.JointGrid at 0x1f9d0c2dbe0>"
      ]
     },
     "execution_count": 25,
     "metadata": {},
     "output_type": "execute_result"
    },
    {
     "data": {
      "image/png": "[encoded data removed]",
      "text/plain": [
       "<Figure size 432x432 with 3 Axes>"
      ]
     },
     "metadata": {
      "needs_background": "light"
     },
     "output_type": "display_data"
    }
   ],
   "source": [
    "sns.jointplot(x = df.crime_rate, y = df.price, data = df)"
   ]
  },
  {
   "cell_type": "markdown",
   "metadata": {},
   "source": [
    "* YOu can see, large concentration of values at the lower part\n",
    "  and increases slightly polynomically as we move along.\n",
    "    \n",
    "    \n",
    "* directly removing outlier will change the distribution so\n",
    "  we have to be more careful with this decision\n",
    "    \n",
    "    \n",
    "* apart from removing Outliers, there are other ways to treat them\n",
    "  for instance we can transform this variable, in other words\n",
    "  transforming the distribution, using mathematical manipulation tools\n",
    "  like log, exponential, e.t.c when this is done sometimes, we see that\n",
    "  the outlers gets reduced thus visuall seem to disapper  "
   ]
  },
  {
   "cell_type": "markdown",
   "metadata": {},
   "source": []
  },
  {
   "cell_type": "markdown",
   "metadata": {},
   "source": []
  },
  {
   "cell_type": "markdown",
   "metadata": {},
   "source": [
    "* Notice we have not dealt with the problem \n",
    "  of n_hos_beds missing value\n",
    "  Lets do something about that "
   ]
  },
  {
   "cell_type": "code",
   "execution_count": 26,
   "metadata": {},
   "outputs": [
    {
     "data": {
      "text/plain": [
       "count    498.000000\n",
       "mean       7.899767\n",
       "std        1.476683\n",
       "min        5.268000\n",
       "25%        6.634500\n",
       "50%        7.999000\n",
       "75%        9.088000\n",
       "max       10.876000\n",
       "Name: n_hos_beds, dtype: float64"
      ]
     },
     "execution_count": 26,
     "metadata": {},
     "output_type": "execute_result"
    }
   ],
   "source": [
    "# having a look at the Univariate analysis again,\n",
    "\n",
    "df.n_hos_beds.describe()"
   ]
  },
  {
   "cell_type": "markdown",
   "metadata": {},
   "source": [
    "* you see the median and mean are approximately equal\n",
    "  and missing values are not too much\n",
    "  we can impute with any....to validate our decision\n",
    "  look at the average spread....not too far off right?"
   ]
  },
  {
   "cell_type": "code",
   "execution_count": 27,
   "metadata": {},
   "outputs": [],
   "source": [
    "df['n_hos_beds'] = df['n_hos_beds'].fillna(df.n_hos_beds.mean())"
   ]
  },
  {
   "cell_type": "code",
   "execution_count": 28,
   "metadata": {},
   "outputs": [
    {
     "data": {
      "text/plain": [
       "count    506.000000\n",
       "mean       7.899767\n",
       "std        1.464939\n",
       "min        5.268000\n",
       "25%        6.659000\n",
       "50%        7.963000\n",
       "75%        9.076000\n",
       "max       10.876000\n",
       "Name: n_hos_beds, dtype: float64"
      ]
     },
     "execution_count": 28,
     "metadata": {},
     "output_type": "execute_result"
    }
   ],
   "source": [
    "# Have a New look\n",
    "df.n_hos_beds.describe()"
   ]
  },
  {
   "cell_type": "markdown",
   "metadata": {},
   "source": []
  },
  {
   "cell_type": "code",
   "execution_count": 29,
   "metadata": {},
   "outputs": [
    {
     "data": {
      "text/plain": [
       "<seaborn.axisgrid.JointGrid at 0x1f9d0dbd550>"
      ]
     },
     "execution_count": 29,
     "metadata": {},
     "output_type": "execute_result"
    },
    {
     "data": {
      "image/png": "[encoded data removed]",
      "text/plain": [
       "<Figure size 432x432 with 3 Axes>"
      ]
     },
     "metadata": {
      "needs_background": "light"
     },
     "output_type": "display_data"
    }
   ],
   "source": [
    "# Lets now deal with crime_rate\n",
    "# about we check that scatter plot again\n",
    "\n",
    "sns.jointplot(x = 'crime_rate', y = 'price', data = df)"
   ]
  },
  {
   "cell_type": "markdown",
   "metadata": {},
   "source": [
    "* Alright...Having a look at that, you'll notice the pattern of the curve here\n",
    "  a logrithmic pattern here right\n",
    "    \n",
    "* Thus we can legally perform a variable transformation to crime_rate variable\n",
    "  so that it has a linear relationship with target variable price, whilst\n",
    "  still keeping the information the varible originally presents\n",
    "\n",
    "* to do this transformation we take log(crime_rate).....but not so fast as\n",
    "  there is a problem here....take a look at crime_rate, most of its value\n",
    "  are close to zero...and we know log(0) tends to infinity...this is not good\n",
    "  what can we do?....why do we just shift the graph pattern by 1.............\n",
    "  since log(1) is alternatively 0"
   ]
  },
  {
   "cell_type": "code",
   "execution_count": 30,
   "metadata": {},
   "outputs": [],
   "source": [
    "df.crime_rate = np.log(1+df.crime_rate)"
   ]
  },
  {
   "cell_type": "code",
   "execution_count": 31,
   "metadata": {},
   "outputs": [
    {
     "data": {
      "text/plain": [
       "<seaborn.axisgrid.JointGrid at 0x1f9d10a7c10>"
      ]
     },
     "execution_count": 31,
     "metadata": {},
     "output_type": "execute_result"
    },
    {
     "data": {
      "image/png": "[encoded data removed]",
      "text/plain": [
       "<Figure size 432x432 with 3 Axes>"
      ]
     },
     "metadata": {
      "needs_background": "light"
     },
     "output_type": "display_data"
    }
   ],
   "source": [
    "# Lets now see a joint plot\n",
    "# cant wait to have a look\n",
    "sns.jointplot(x = 'crime_rate', y = 'price', data = df)"
   ]
  },
  {
   "cell_type": "markdown",
   "metadata": {},
   "source": [
    "* Hmmmm....Expecting More\n",
    "* At least it quite linearly related and even better....outliers are gone\n"
   ]
  },
  {
   "cell_type": "markdown",
   "metadata": {},
   "source": [
    "* Lets Move On\n",
    "\n",
    "\n",
    "\n",
    "\n",
    "\n",
    "\n"
   ]
  },
  {
   "cell_type": "code",
   "execution_count": 32,
   "metadata": {},
   "outputs": [],
   "source": [
    "##\n",
    "\n",
    "# having distance from employment hub expressed by four variables\n",
    "# quite an over-expression to our model dont you think, how about\n",
    "# we create a varible that is their mean"
   ]
  },
  {
   "cell_type": "code",
   "execution_count": 33,
   "metadata": {},
   "outputs": [
    {
     "data": {
      "text/plain": [
       "<seaborn.axisgrid.PairGrid at 0x1f9d11dbd30>"
      ]
     },
     "execution_count": 33,
     "metadata": {},
     "output_type": "execute_result"
    },
    {
     "data": {
      "image/png": "[encoded data removed]",
      "text/plain": [
       "<Figure size 720x720 with 20 Axes>"
      ]
     },
     "metadata": {
      "needs_background": "light"
     },
     "output_type": "display_data"
    }
   ],
   "source": [
    "\n",
    "sns.pairplot(df[['dist1','dist2','dist3','dist4']])"
   ]
  },
  {
   "cell_type": "code",
   "execution_count": 35,
   "metadata": {},
   "outputs": [
    {
     "data": {
      "text/html": [
       "<div>\n",
       "<style scoped>\n",
       "    .dataframe tbody tr th:only-of-type {\n",
       "        vertical-align: middle;\n",
       "    }\n",
       "\n",
       "    .dataframe tbody tr th {\n",
       "        vertical-align: top;\n",
       "    }\n",
       "\n",
       "    .dataframe thead th {\n",
       "        text-align: right;\n",
       "    }\n",
       "</style>\n",
       "<table border=\"1\" class=\"dataframe\">\n",
       "  <thead>\n",
       "    <tr style=\"text-align: right;\">\n",
       "      <th></th>\n",
       "      <th>dist1</th>\n",
       "      <th>dist2</th>\n",
       "      <th>dist3</th>\n",
       "      <th>dist4</th>\n",
       "    </tr>\n",
       "  </thead>\n",
       "  <tbody>\n",
       "    <tr>\n",
       "      <th>count</th>\n",
       "      <td>506.000000</td>\n",
       "      <td>506.000000</td>\n",
       "      <td>506.000000</td>\n",
       "      <td>506.000000</td>\n",
       "    </tr>\n",
       "    <tr>\n",
       "      <th>mean</th>\n",
       "      <td>3.971996</td>\n",
       "      <td>3.628775</td>\n",
       "      <td>3.960672</td>\n",
       "      <td>3.618972</td>\n",
       "    </tr>\n",
       "    <tr>\n",
       "      <th>std</th>\n",
       "      <td>2.108532</td>\n",
       "      <td>2.108580</td>\n",
       "      <td>2.119797</td>\n",
       "      <td>2.099203</td>\n",
       "    </tr>\n",
       "    <tr>\n",
       "      <th>min</th>\n",
       "      <td>1.130000</td>\n",
       "      <td>0.920000</td>\n",
       "      <td>1.150000</td>\n",
       "      <td>0.730000</td>\n",
       "    </tr>\n",
       "    <tr>\n",
       "      <th>25%</th>\n",
       "      <td>2.270000</td>\n",
       "      <td>1.940000</td>\n",
       "      <td>2.232500</td>\n",
       "      <td>1.940000</td>\n",
       "    </tr>\n",
       "    <tr>\n",
       "      <th>50%</th>\n",
       "      <td>3.385000</td>\n",
       "      <td>3.010000</td>\n",
       "      <td>3.375000</td>\n",
       "      <td>3.070000</td>\n",
       "    </tr>\n",
       "    <tr>\n",
       "      <th>75%</th>\n",
       "      <td>5.367500</td>\n",
       "      <td>4.992500</td>\n",
       "      <td>5.407500</td>\n",
       "      <td>4.985000</td>\n",
       "    </tr>\n",
       "    <tr>\n",
       "      <th>max</th>\n",
       "      <td>12.320000</td>\n",
       "      <td>11.930000</td>\n",
       "      <td>12.320000</td>\n",
       "      <td>11.940000</td>\n",
       "    </tr>\n",
       "  </tbody>\n",
       "</table>\n",
       "</div>"
      ],
      "text/plain": [
       "            dist1       dist2       dist3       dist4\n",
       "count  506.000000  506.000000  506.000000  506.000000\n",
       "mean     3.971996    3.628775    3.960672    3.618972\n",
       "std      2.108532    2.108580    2.119797    2.099203\n",
       "min      1.130000    0.920000    1.150000    0.730000\n",
       "25%      2.270000    1.940000    2.232500    1.940000\n",
       "50%      3.385000    3.010000    3.375000    3.070000\n",
       "75%      5.367500    4.992500    5.407500    4.985000\n",
       "max     12.320000   11.930000   12.320000   11.940000"
      ]
     },
     "execution_count": 35,
     "metadata": {},
     "output_type": "execute_result"
    }
   ],
   "source": [
    "\n",
    "df[['dist1','dist2','dist3','dist4']].describe()"
   ]
  },
  {
   "cell_type": "code",
   "execution_count": 36,
   "metadata": {},
   "outputs": [],
   "source": [
    "df['avg_dist'] = (df['dist1'] + df['dist2'] + df['dist3'] + df['dist4'])/4"
   ]
  },
  {
   "cell_type": "markdown",
   "metadata": {},
   "source": [
    "* we could have also taken minimum or maximum of this four distances,\n",
    "  it is all about your understanding and interpretation of features,\n",
    "  all deals with the quality of domain knowledge you have\n",
    " \n",
    "* basically the Questions...\n",
    "  What do you want to do? and Why do you want to do it?"
   ]
  },
  {
   "cell_type": "code",
   "execution_count": 40,
   "metadata": {},
   "outputs": [],
   "source": [
    "del df['dist1']\n",
    "del df['dist2']\n",
    "del df['dist3']\n",
    "del df['dist4']\n",
    "\n",
    "\n",
    "# remember we figured out bus_ter adds extra information\n",
    "del df['bus_ter']"
   ]
  },
  {
   "cell_type": "markdown",
   "metadata": {},
   "source": []
  },
  {
   "cell_type": "markdown",
   "metadata": {},
   "source": [
    "* Alright, having two categorical features,\n",
    "  we will create dummy variables for them.....\n",
    "  both df.waterbody and df.airport"
   ]
  },
  {
   "cell_type": "code",
   "execution_count": 41,
   "metadata": {},
   "outputs": [],
   "source": [
    "df = pd.get_dummies(df)"
   ]
  },
  {
   "cell_type": "code",
   "execution_count": 42,
   "metadata": {},
   "outputs": [
    {
     "data": {
      "text/html": [
       "<div>\n",
       "<style scoped>\n",
       "    .dataframe tbody tr th:only-of-type {\n",
       "        vertical-align: middle;\n",
       "    }\n",
       "\n",
       "    .dataframe tbody tr th {\n",
       "        vertical-align: top;\n",
       "    }\n",
       "\n",
       "    .dataframe thead th {\n",
       "        text-align: right;\n",
       "    }\n",
       "</style>\n",
       "<table border=\"1\" class=\"dataframe\">\n",
       "  <thead>\n",
       "    <tr style=\"text-align: right;\">\n",
       "      <th></th>\n",
       "      <th>price</th>\n",
       "      <th>crime_rate</th>\n",
       "      <th>resid_area</th>\n",
       "      <th>air_qual</th>\n",
       "      <th>room_num</th>\n",
       "      <th>age</th>\n",
       "      <th>teachers</th>\n",
       "      <th>poor_prop</th>\n",
       "      <th>n_hos_beds</th>\n",
       "      <th>n_hot_rooms</th>\n",
       "      <th>rainfall</th>\n",
       "      <th>parks</th>\n",
       "      <th>avg_dist</th>\n",
       "      <th>airport_NO</th>\n",
       "      <th>airport_YES</th>\n",
       "      <th>waterbody_Lake</th>\n",
       "      <th>waterbody_Lake and River</th>\n",
       "      <th>waterbody_None</th>\n",
       "      <th>waterbody_River</th>\n",
       "    </tr>\n",
       "  </thead>\n",
       "  <tbody>\n",
       "    <tr>\n",
       "      <th>0</th>\n",
       "      <td>24.0</td>\n",
       "      <td>0.006300</td>\n",
       "      <td>32.31</td>\n",
       "      <td>0.538</td>\n",
       "      <td>6.575</td>\n",
       "      <td>65.2</td>\n",
       "      <td>24.7</td>\n",
       "      <td>4.98</td>\n",
       "      <td>5.480</td>\n",
       "      <td>11.19200</td>\n",
       "      <td>23</td>\n",
       "      <td>0.049347</td>\n",
       "      <td>4.0875</td>\n",
       "      <td>0</td>\n",
       "      <td>1</td>\n",
       "      <td>0</td>\n",
       "      <td>0</td>\n",
       "      <td>0</td>\n",
       "      <td>1</td>\n",
       "    </tr>\n",
       "    <tr>\n",
       "      <th>1</th>\n",
       "      <td>21.6</td>\n",
       "      <td>0.026944</td>\n",
       "      <td>37.07</td>\n",
       "      <td>0.469</td>\n",
       "      <td>6.421</td>\n",
       "      <td>78.9</td>\n",
       "      <td>22.2</td>\n",
       "      <td>9.14</td>\n",
       "      <td>7.332</td>\n",
       "      <td>12.17280</td>\n",
       "      <td>42</td>\n",
       "      <td>0.046146</td>\n",
       "      <td>4.9675</td>\n",
       "      <td>1</td>\n",
       "      <td>0</td>\n",
       "      <td>1</td>\n",
       "      <td>0</td>\n",
       "      <td>0</td>\n",
       "      <td>0</td>\n",
       "    </tr>\n",
       "    <tr>\n",
       "      <th>2</th>\n",
       "      <td>34.7</td>\n",
       "      <td>0.026924</td>\n",
       "      <td>37.07</td>\n",
       "      <td>0.469</td>\n",
       "      <td>7.185</td>\n",
       "      <td>61.1</td>\n",
       "      <td>22.2</td>\n",
       "      <td>4.03</td>\n",
       "      <td>7.394</td>\n",
       "      <td>46.19856</td>\n",
       "      <td>38</td>\n",
       "      <td>0.045764</td>\n",
       "      <td>4.9675</td>\n",
       "      <td>1</td>\n",
       "      <td>0</td>\n",
       "      <td>0</td>\n",
       "      <td>0</td>\n",
       "      <td>1</td>\n",
       "      <td>0</td>\n",
       "    </tr>\n",
       "    <tr>\n",
       "      <th>3</th>\n",
       "      <td>33.4</td>\n",
       "      <td>0.031857</td>\n",
       "      <td>32.18</td>\n",
       "      <td>0.458</td>\n",
       "      <td>6.998</td>\n",
       "      <td>45.8</td>\n",
       "      <td>21.3</td>\n",
       "      <td>2.94</td>\n",
       "      <td>9.268</td>\n",
       "      <td>11.26720</td>\n",
       "      <td>45</td>\n",
       "      <td>0.047151</td>\n",
       "      <td>6.0650</td>\n",
       "      <td>0</td>\n",
       "      <td>1</td>\n",
       "      <td>1</td>\n",
       "      <td>0</td>\n",
       "      <td>0</td>\n",
       "      <td>0</td>\n",
       "    </tr>\n",
       "    <tr>\n",
       "      <th>4</th>\n",
       "      <td>36.2</td>\n",
       "      <td>0.066770</td>\n",
       "      <td>32.18</td>\n",
       "      <td>0.458</td>\n",
       "      <td>7.147</td>\n",
       "      <td>54.2</td>\n",
       "      <td>21.3</td>\n",
       "      <td>5.33</td>\n",
       "      <td>8.824</td>\n",
       "      <td>11.28960</td>\n",
       "      <td>55</td>\n",
       "      <td>0.039474</td>\n",
       "      <td>6.0625</td>\n",
       "      <td>1</td>\n",
       "      <td>0</td>\n",
       "      <td>1</td>\n",
       "      <td>0</td>\n",
       "      <td>0</td>\n",
       "      <td>0</td>\n",
       "    </tr>\n",
       "  </tbody>\n",
       "</table>\n",
       "</div>"
      ],
      "text/plain": [
       "   price  crime_rate  resid_area  air_qual  room_num   age  teachers  \\\n",
       "0   24.0    0.006300       32.31     0.538     6.575  65.2      24.7   \n",
       "1   21.6    0.026944       37.07     0.469     6.421  78.9      22.2   \n",
       "2   34.7    0.026924       37.07     0.469     7.185  61.1      22.2   \n",
       "3   33.4    0.031857       32.18     0.458     6.998  45.8      21.3   \n",
       "4   36.2    0.066770       32.18     0.458     7.147  54.2      21.3   \n",
       "\n",
       "   poor_prop  n_hos_beds  n_hot_rooms  rainfall     parks  avg_dist  \\\n",
       "0       4.98       5.480     11.19200        23  0.049347    4.0875   \n",
       "1       9.14       7.332     12.17280        42  0.046146    4.9675   \n",
       "2       4.03       7.394     46.19856        38  0.045764    4.9675   \n",
       "3       2.94       9.268     11.26720        45  0.047151    6.0650   \n",
       "4       5.33       8.824     11.28960        55  0.039474    6.0625   \n",
       "\n",
       "   airport_NO  airport_YES  waterbody_Lake  waterbody_Lake and River  \\\n",
       "0           0            1               0                         0   \n",
       "1           1            0               1                         0   \n",
       "2           1            0               0                         0   \n",
       "3           0            1               1                         0   \n",
       "4           1            0               1                         0   \n",
       "\n",
       "   waterbody_None  waterbody_River  \n",
       "0               0                1  \n",
       "1               0                0  \n",
       "2               1                0  \n",
       "3               0                0  \n",
       "4               0                0  "
      ]
     },
     "execution_count": 42,
     "metadata": {},
     "output_type": "execute_result"
    }
   ],
   "source": [
    "df.head()"
   ]
  },
  {
   "cell_type": "markdown",
   "metadata": {},
   "source": [
    "* understanding dummy variables...you would know that\n",
    "  total number of dummy variables = No of categorical levels - 1\n",
    "    \n",
    "* You can see why from the dummy variables created from airport\n",
    "  you see the redundancy there right...(full negative correlation)\n",
    "    \n",
    "* thus we go straigth into action...Deleting"
   ]
  },
  {
   "cell_type": "code",
   "execution_count": 43,
   "metadata": {},
   "outputs": [],
   "source": [
    "del df['airport_NO']\n",
    "del df['waterbody_None']"
   ]
  },
  {
   "cell_type": "code",
   "execution_count": 44,
   "metadata": {},
   "outputs": [
    {
     "data": {
      "text/html": [
       "<div>\n",
       "<style scoped>\n",
       "    .dataframe tbody tr th:only-of-type {\n",
       "        vertical-align: middle;\n",
       "    }\n",
       "\n",
       "    .dataframe tbody tr th {\n",
       "        vertical-align: top;\n",
       "    }\n",
       "\n",
       "    .dataframe thead th {\n",
       "        text-align: right;\n",
       "    }\n",
       "</style>\n",
       "<table border=\"1\" class=\"dataframe\">\n",
       "  <thead>\n",
       "    <tr style=\"text-align: right;\">\n",
       "      <th></th>\n",
       "      <th>price</th>\n",
       "      <th>crime_rate</th>\n",
       "      <th>resid_area</th>\n",
       "      <th>air_qual</th>\n",
       "      <th>room_num</th>\n",
       "      <th>age</th>\n",
       "      <th>teachers</th>\n",
       "      <th>poor_prop</th>\n",
       "      <th>n_hos_beds</th>\n",
       "      <th>n_hot_rooms</th>\n",
       "      <th>rainfall</th>\n",
       "      <th>parks</th>\n",
       "      <th>avg_dist</th>\n",
       "      <th>airport_YES</th>\n",
       "      <th>waterbody_Lake</th>\n",
       "      <th>waterbody_Lake and River</th>\n",
       "      <th>waterbody_River</th>\n",
       "    </tr>\n",
       "  </thead>\n",
       "  <tbody>\n",
       "    <tr>\n",
       "      <th>0</th>\n",
       "      <td>24.0</td>\n",
       "      <td>0.006300</td>\n",
       "      <td>32.31</td>\n",
       "      <td>0.538</td>\n",
       "      <td>6.575</td>\n",
       "      <td>65.2</td>\n",
       "      <td>24.7</td>\n",
       "      <td>4.98</td>\n",
       "      <td>5.480</td>\n",
       "      <td>11.19200</td>\n",
       "      <td>23</td>\n",
       "      <td>0.049347</td>\n",
       "      <td>4.0875</td>\n",
       "      <td>1</td>\n",
       "      <td>0</td>\n",
       "      <td>0</td>\n",
       "      <td>1</td>\n",
       "    </tr>\n",
       "    <tr>\n",
       "      <th>1</th>\n",
       "      <td>21.6</td>\n",
       "      <td>0.026944</td>\n",
       "      <td>37.07</td>\n",
       "      <td>0.469</td>\n",
       "      <td>6.421</td>\n",
       "      <td>78.9</td>\n",
       "      <td>22.2</td>\n",
       "      <td>9.14</td>\n",
       "      <td>7.332</td>\n",
       "      <td>12.17280</td>\n",
       "      <td>42</td>\n",
       "      <td>0.046146</td>\n",
       "      <td>4.9675</td>\n",
       "      <td>0</td>\n",
       "      <td>1</td>\n",
       "      <td>0</td>\n",
       "      <td>0</td>\n",
       "    </tr>\n",
       "    <tr>\n",
       "      <th>2</th>\n",
       "      <td>34.7</td>\n",
       "      <td>0.026924</td>\n",
       "      <td>37.07</td>\n",
       "      <td>0.469</td>\n",
       "      <td>7.185</td>\n",
       "      <td>61.1</td>\n",
       "      <td>22.2</td>\n",
       "      <td>4.03</td>\n",
       "      <td>7.394</td>\n",
       "      <td>46.19856</td>\n",
       "      <td>38</td>\n",
       "      <td>0.045764</td>\n",
       "      <td>4.9675</td>\n",
       "      <td>0</td>\n",
       "      <td>0</td>\n",
       "      <td>0</td>\n",
       "      <td>0</td>\n",
       "    </tr>\n",
       "    <tr>\n",
       "      <th>3</th>\n",
       "      <td>33.4</td>\n",
       "      <td>0.031857</td>\n",
       "      <td>32.18</td>\n",
       "      <td>0.458</td>\n",
       "      <td>6.998</td>\n",
       "      <td>45.8</td>\n",
       "      <td>21.3</td>\n",
       "      <td>2.94</td>\n",
       "      <td>9.268</td>\n",
       "      <td>11.26720</td>\n",
       "      <td>45</td>\n",
       "      <td>0.047151</td>\n",
       "      <td>6.0650</td>\n",
       "      <td>1</td>\n",
       "      <td>1</td>\n",
       "      <td>0</td>\n",
       "      <td>0</td>\n",
       "    </tr>\n",
       "    <tr>\n",
       "      <th>4</th>\n",
       "      <td>36.2</td>\n",
       "      <td>0.066770</td>\n",
       "      <td>32.18</td>\n",
       "      <td>0.458</td>\n",
       "      <td>7.147</td>\n",
       "      <td>54.2</td>\n",
       "      <td>21.3</td>\n",
       "      <td>5.33</td>\n",
       "      <td>8.824</td>\n",
       "      <td>11.28960</td>\n",
       "      <td>55</td>\n",
       "      <td>0.039474</td>\n",
       "      <td>6.0625</td>\n",
       "      <td>0</td>\n",
       "      <td>1</td>\n",
       "      <td>0</td>\n",
       "      <td>0</td>\n",
       "    </tr>\n",
       "  </tbody>\n",
       "</table>\n",
       "</div>"
      ],
      "text/plain": [
       "   price  crime_rate  resid_area  air_qual  room_num   age  teachers  \\\n",
       "0   24.0    0.006300       32.31     0.538     6.575  65.2      24.7   \n",
       "1   21.6    0.026944       37.07     0.469     6.421  78.9      22.2   \n",
       "2   34.7    0.026924       37.07     0.469     7.185  61.1      22.2   \n",
       "3   33.4    0.031857       32.18     0.458     6.998  45.8      21.3   \n",
       "4   36.2    0.066770       32.18     0.458     7.147  54.2      21.3   \n",
       "\n",
       "   poor_prop  n_hos_beds  n_hot_rooms  rainfall     parks  avg_dist  \\\n",
       "0       4.98       5.480     11.19200        23  0.049347    4.0875   \n",
       "1       9.14       7.332     12.17280        42  0.046146    4.9675   \n",
       "2       4.03       7.394     46.19856        38  0.045764    4.9675   \n",
       "3       2.94       9.268     11.26720        45  0.047151    6.0650   \n",
       "4       5.33       8.824     11.28960        55  0.039474    6.0625   \n",
       "\n",
       "   airport_YES  waterbody_Lake  waterbody_Lake and River  waterbody_River  \n",
       "0            1               0                         0                1  \n",
       "1            0               1                         0                0  \n",
       "2            0               0                         0                0  \n",
       "3            1               1                         0                0  \n",
       "4            0               1                         0                0  "
      ]
     },
     "execution_count": 44,
     "metadata": {},
     "output_type": "execute_result"
    }
   ],
   "source": [
    "df.head()"
   ]
  },
  {
   "cell_type": "code",
   "execution_count": 45,
   "metadata": {},
   "outputs": [
    {
     "data": {
      "text/html": [
       "<div>\n",
       "<style scoped>\n",
       "    .dataframe tbody tr th:only-of-type {\n",
       "        vertical-align: middle;\n",
       "    }\n",
       "\n",
       "    .dataframe tbody tr th {\n",
       "        vertical-align: top;\n",
       "    }\n",
       "\n",
       "    .dataframe thead th {\n",
       "        text-align: right;\n",
       "    }\n",
       "</style>\n",
       "<table border=\"1\" class=\"dataframe\">\n",
       "  <thead>\n",
       "    <tr style=\"text-align: right;\">\n",
       "      <th></th>\n",
       "      <th>price</th>\n",
       "      <th>crime_rate</th>\n",
       "      <th>resid_area</th>\n",
       "      <th>air_qual</th>\n",
       "      <th>room_num</th>\n",
       "      <th>age</th>\n",
       "      <th>teachers</th>\n",
       "      <th>poor_prop</th>\n",
       "      <th>n_hos_beds</th>\n",
       "      <th>n_hot_rooms</th>\n",
       "      <th>rainfall</th>\n",
       "      <th>parks</th>\n",
       "      <th>avg_dist</th>\n",
       "      <th>airport_YES</th>\n",
       "      <th>waterbody_Lake</th>\n",
       "      <th>waterbody_Lake and River</th>\n",
       "      <th>waterbody_River</th>\n",
       "    </tr>\n",
       "  </thead>\n",
       "  <tbody>\n",
       "    <tr>\n",
       "      <th>price</th>\n",
       "      <td>1.000000</td>\n",
       "      <td>-0.466527</td>\n",
       "      <td>-0.484754</td>\n",
       "      <td>-0.429300</td>\n",
       "      <td>0.696304</td>\n",
       "      <td>-0.377999</td>\n",
       "      <td>0.505655</td>\n",
       "      <td>-0.740836</td>\n",
       "      <td>0.108880</td>\n",
       "      <td>0.017007</td>\n",
       "      <td>-0.047200</td>\n",
       "      <td>-0.391574</td>\n",
       "      <td>0.249289</td>\n",
       "      <td>0.182867</td>\n",
       "      <td>0.036233</td>\n",
       "      <td>-0.037497</td>\n",
       "      <td>0.071751</td>\n",
       "    </tr>\n",
       "    <tr>\n",
       "      <th>crime_rate</th>\n",
       "      <td>-0.466527</td>\n",
       "      <td>1.000000</td>\n",
       "      <td>0.660283</td>\n",
       "      <td>0.707587</td>\n",
       "      <td>-0.288784</td>\n",
       "      <td>0.559591</td>\n",
       "      <td>-0.390052</td>\n",
       "      <td>0.608970</td>\n",
       "      <td>-0.004089</td>\n",
       "      <td>0.056570</td>\n",
       "      <td>0.082151</td>\n",
       "      <td>0.638951</td>\n",
       "      <td>-0.586371</td>\n",
       "      <td>-0.134486</td>\n",
       "      <td>-0.025390</td>\n",
       "      <td>0.009076</td>\n",
       "      <td>-0.060099</td>\n",
       "    </tr>\n",
       "    <tr>\n",
       "      <th>resid_area</th>\n",
       "      <td>-0.484754</td>\n",
       "      <td>0.660283</td>\n",
       "      <td>1.000000</td>\n",
       "      <td>0.763651</td>\n",
       "      <td>-0.391676</td>\n",
       "      <td>0.644779</td>\n",
       "      <td>-0.383248</td>\n",
       "      <td>0.603800</td>\n",
       "      <td>0.005799</td>\n",
       "      <td>-0.003761</td>\n",
       "      <td>0.055845</td>\n",
       "      <td>0.707635</td>\n",
       "      <td>-0.708022</td>\n",
       "      <td>-0.115401</td>\n",
       "      <td>-0.026590</td>\n",
       "      <td>0.051649</td>\n",
       "      <td>-0.098976</td>\n",
       "    </tr>\n",
       "    <tr>\n",
       "      <th>air_qual</th>\n",
       "      <td>-0.429300</td>\n",
       "      <td>0.707587</td>\n",
       "      <td>0.763651</td>\n",
       "      <td>1.000000</td>\n",
       "      <td>-0.302188</td>\n",
       "      <td>0.731470</td>\n",
       "      <td>-0.188933</td>\n",
       "      <td>0.590879</td>\n",
       "      <td>-0.049553</td>\n",
       "      <td>0.007238</td>\n",
       "      <td>0.091956</td>\n",
       "      <td>0.915544</td>\n",
       "      <td>-0.769247</td>\n",
       "      <td>-0.073903</td>\n",
       "      <td>-0.046393</td>\n",
       "      <td>0.013849</td>\n",
       "      <td>-0.037772</td>\n",
       "    </tr>\n",
       "    <tr>\n",
       "      <th>room_num</th>\n",
       "      <td>0.696304</td>\n",
       "      <td>-0.288784</td>\n",
       "      <td>-0.391676</td>\n",
       "      <td>-0.302188</td>\n",
       "      <td>1.000000</td>\n",
       "      <td>-0.240265</td>\n",
       "      <td>0.355501</td>\n",
       "      <td>-0.613808</td>\n",
       "      <td>0.032009</td>\n",
       "      <td>0.014583</td>\n",
       "      <td>-0.064718</td>\n",
       "      <td>-0.282817</td>\n",
       "      <td>0.205241</td>\n",
       "      <td>0.163774</td>\n",
       "      <td>-0.004195</td>\n",
       "      <td>0.010554</td>\n",
       "      <td>0.046251</td>\n",
       "    </tr>\n",
       "    <tr>\n",
       "      <th>age</th>\n",
       "      <td>-0.377999</td>\n",
       "      <td>0.559591</td>\n",
       "      <td>0.644779</td>\n",
       "      <td>0.731470</td>\n",
       "      <td>-0.240265</td>\n",
       "      <td>1.000000</td>\n",
       "      <td>-0.261515</td>\n",
       "      <td>0.602339</td>\n",
       "      <td>-0.021012</td>\n",
       "      <td>0.013918</td>\n",
       "      <td>0.074684</td>\n",
       "      <td>0.673850</td>\n",
       "      <td>-0.747906</td>\n",
       "      <td>0.005101</td>\n",
       "      <td>0.003452</td>\n",
       "      <td>-0.004354</td>\n",
       "      <td>-0.088609</td>\n",
       "    </tr>\n",
       "    <tr>\n",
       "      <th>teachers</th>\n",
       "      <td>0.505655</td>\n",
       "      <td>-0.390052</td>\n",
       "      <td>-0.383248</td>\n",
       "      <td>-0.188933</td>\n",
       "      <td>0.355501</td>\n",
       "      <td>-0.261515</td>\n",
       "      <td>1.000000</td>\n",
       "      <td>-0.374044</td>\n",
       "      <td>-0.008056</td>\n",
       "      <td>-0.037007</td>\n",
       "      <td>-0.045928</td>\n",
       "      <td>-0.187004</td>\n",
       "      <td>0.232452</td>\n",
       "      <td>0.069437</td>\n",
       "      <td>0.048717</td>\n",
       "      <td>-0.046981</td>\n",
       "      <td>0.094256</td>\n",
       "    </tr>\n",
       "    <tr>\n",
       "      <th>poor_prop</th>\n",
       "      <td>-0.740836</td>\n",
       "      <td>0.608970</td>\n",
       "      <td>0.603800</td>\n",
       "      <td>0.590879</td>\n",
       "      <td>-0.613808</td>\n",
       "      <td>0.602339</td>\n",
       "      <td>-0.374044</td>\n",
       "      <td>1.000000</td>\n",
       "      <td>-0.066008</td>\n",
       "      <td>0.017036</td>\n",
       "      <td>0.061444</td>\n",
       "      <td>0.552310</td>\n",
       "      <td>-0.496967</td>\n",
       "      <td>-0.095054</td>\n",
       "      <td>0.003197</td>\n",
       "      <td>0.020620</td>\n",
       "      <td>-0.109004</td>\n",
       "    </tr>\n",
       "    <tr>\n",
       "      <th>n_hos_beds</th>\n",
       "      <td>0.108880</td>\n",
       "      <td>-0.004089</td>\n",
       "      <td>0.005799</td>\n",
       "      <td>-0.049553</td>\n",
       "      <td>0.032009</td>\n",
       "      <td>-0.021012</td>\n",
       "      <td>-0.008056</td>\n",
       "      <td>-0.066008</td>\n",
       "      <td>1.000000</td>\n",
       "      <td>-0.003130</td>\n",
       "      <td>0.058596</td>\n",
       "      <td>-0.071272</td>\n",
       "      <td>-0.027871</td>\n",
       "      <td>-0.006365</td>\n",
       "      <td>0.042278</td>\n",
       "      <td>0.059482</td>\n",
       "      <td>-0.074148</td>\n",
       "    </tr>\n",
       "    <tr>\n",
       "      <th>n_hot_rooms</th>\n",
       "      <td>0.017007</td>\n",
       "      <td>0.056570</td>\n",
       "      <td>-0.003761</td>\n",
       "      <td>0.007238</td>\n",
       "      <td>0.014583</td>\n",
       "      <td>0.013918</td>\n",
       "      <td>-0.037007</td>\n",
       "      <td>0.017036</td>\n",
       "      <td>-0.003130</td>\n",
       "      <td>1.000000</td>\n",
       "      <td>0.014869</td>\n",
       "      <td>0.023757</td>\n",
       "      <td>-0.020700</td>\n",
       "      <td>-0.055338</td>\n",
       "      <td>0.037925</td>\n",
       "      <td>0.014755</td>\n",
       "      <td>-0.064096</td>\n",
       "    </tr>\n",
       "    <tr>\n",
       "      <th>rainfall</th>\n",
       "      <td>-0.047200</td>\n",
       "      <td>0.082151</td>\n",
       "      <td>0.055845</td>\n",
       "      <td>0.091956</td>\n",
       "      <td>-0.064718</td>\n",
       "      <td>0.074684</td>\n",
       "      <td>-0.045928</td>\n",
       "      <td>0.061444</td>\n",
       "      <td>0.058596</td>\n",
       "      <td>0.014869</td>\n",
       "      <td>1.000000</td>\n",
       "      <td>0.078278</td>\n",
       "      <td>-0.037285</td>\n",
       "      <td>-0.013171</td>\n",
       "      <td>-0.016170</td>\n",
       "      <td>0.109234</td>\n",
       "      <td>-0.037016</td>\n",
       "    </tr>\n",
       "    <tr>\n",
       "      <th>parks</th>\n",
       "      <td>-0.391574</td>\n",
       "      <td>0.638951</td>\n",
       "      <td>0.707635</td>\n",
       "      <td>0.915544</td>\n",
       "      <td>-0.282817</td>\n",
       "      <td>0.673850</td>\n",
       "      <td>-0.187004</td>\n",
       "      <td>0.552310</td>\n",
       "      <td>-0.071272</td>\n",
       "      <td>0.023757</td>\n",
       "      <td>0.078278</td>\n",
       "      <td>1.000000</td>\n",
       "      <td>-0.707924</td>\n",
       "      <td>-0.052503</td>\n",
       "      <td>-0.034991</td>\n",
       "      <td>0.013265</td>\n",
       "      <td>-0.048862</td>\n",
       "    </tr>\n",
       "    <tr>\n",
       "      <th>avg_dist</th>\n",
       "      <td>0.249289</td>\n",
       "      <td>-0.586371</td>\n",
       "      <td>-0.708022</td>\n",
       "      <td>-0.769247</td>\n",
       "      <td>0.205241</td>\n",
       "      <td>-0.747906</td>\n",
       "      <td>0.232452</td>\n",
       "      <td>-0.496967</td>\n",
       "      <td>-0.027871</td>\n",
       "      <td>-0.020700</td>\n",
       "      <td>-0.037285</td>\n",
       "      <td>-0.707924</td>\n",
       "      <td>1.000000</td>\n",
       "      <td>0.021402</td>\n",
       "      <td>0.034890</td>\n",
       "      <td>-0.021320</td>\n",
       "      <td>0.032247</td>\n",
       "    </tr>\n",
       "    <tr>\n",
       "      <th>airport_YES</th>\n",
       "      <td>0.182867</td>\n",
       "      <td>-0.134486</td>\n",
       "      <td>-0.115401</td>\n",
       "      <td>-0.073903</td>\n",
       "      <td>0.163774</td>\n",
       "      <td>0.005101</td>\n",
       "      <td>0.069437</td>\n",
       "      <td>-0.095054</td>\n",
       "      <td>-0.006365</td>\n",
       "      <td>-0.055338</td>\n",
       "      <td>-0.013171</td>\n",
       "      <td>-0.052503</td>\n",
       "      <td>0.021402</td>\n",
       "      <td>1.000000</td>\n",
       "      <td>0.035491</td>\n",
       "      <td>-0.070341</td>\n",
       "      <td>0.017341</td>\n",
       "    </tr>\n",
       "    <tr>\n",
       "      <th>waterbody_Lake</th>\n",
       "      <td>0.036233</td>\n",
       "      <td>-0.025390</td>\n",
       "      <td>-0.026590</td>\n",
       "      <td>-0.046393</td>\n",
       "      <td>-0.004195</td>\n",
       "      <td>0.003452</td>\n",
       "      <td>0.048717</td>\n",
       "      <td>0.003197</td>\n",
       "      <td>0.042278</td>\n",
       "      <td>0.037925</td>\n",
       "      <td>-0.016170</td>\n",
       "      <td>-0.034991</td>\n",
       "      <td>0.034890</td>\n",
       "      <td>0.035491</td>\n",
       "      <td>1.000000</td>\n",
       "      <td>-0.196747</td>\n",
       "      <td>-0.366563</td>\n",
       "    </tr>\n",
       "    <tr>\n",
       "      <th>waterbody_Lake and River</th>\n",
       "      <td>-0.037497</td>\n",
       "      <td>0.009076</td>\n",
       "      <td>0.051649</td>\n",
       "      <td>0.013849</td>\n",
       "      <td>0.010554</td>\n",
       "      <td>-0.004354</td>\n",
       "      <td>-0.046981</td>\n",
       "      <td>0.020620</td>\n",
       "      <td>0.059482</td>\n",
       "      <td>0.014755</td>\n",
       "      <td>0.109234</td>\n",
       "      <td>0.013265</td>\n",
       "      <td>-0.021320</td>\n",
       "      <td>-0.070341</td>\n",
       "      <td>-0.196747</td>\n",
       "      <td>1.000000</td>\n",
       "      <td>-0.304095</td>\n",
       "    </tr>\n",
       "    <tr>\n",
       "      <th>waterbody_River</th>\n",
       "      <td>0.071751</td>\n",
       "      <td>-0.060099</td>\n",
       "      <td>-0.098976</td>\n",
       "      <td>-0.037772</td>\n",
       "      <td>0.046251</td>\n",
       "      <td>-0.088609</td>\n",
       "      <td>0.094256</td>\n",
       "      <td>-0.109004</td>\n",
       "      <td>-0.074148</td>\n",
       "      <td>-0.064096</td>\n",
       "      <td>-0.037016</td>\n",
       "      <td>-0.048862</td>\n",
       "      <td>0.032247</td>\n",
       "      <td>0.017341</td>\n",
       "      <td>-0.366563</td>\n",
       "      <td>-0.304095</td>\n",
       "      <td>1.000000</td>\n",
       "    </tr>\n",
       "  </tbody>\n",
       "</table>\n",
       "</div>"
      ],
      "text/plain": [
       "                             price  crime_rate  resid_area  air_qual  \\\n",
       "price                     1.000000   -0.466527   -0.484754 -0.429300   \n",
       "crime_rate               -0.466527    1.000000    0.660283  0.707587   \n",
       "resid_area               -0.484754    0.660283    1.000000  0.763651   \n",
       "air_qual                 -0.429300    0.707587    0.763651  1.000000   \n",
       "room_num                  0.696304   -0.288784   -0.391676 -0.302188   \n",
       "age                      -0.377999    0.559591    0.644779  0.731470   \n",
       "teachers                  0.505655   -0.390052   -0.383248 -0.188933   \n",
       "poor_prop                -0.740836    0.608970    0.603800  0.590879   \n",
       "n_hos_beds                0.108880   -0.004089    0.005799 -0.049553   \n",
       "n_hot_rooms               0.017007    0.056570   -0.003761  0.007238   \n",
       "rainfall                 -0.047200    0.082151    0.055845  0.091956   \n",
       "parks                    -0.391574    0.638951    0.707635  0.915544   \n",
       "avg_dist                  0.249289   -0.586371   -0.708022 -0.769247   \n",
       "airport_YES               0.182867   -0.134486   -0.115401 -0.073903   \n",
       "waterbody_Lake            0.036233   -0.025390   -0.026590 -0.046393   \n",
       "waterbody_Lake and River -0.037497    0.009076    0.051649  0.013849   \n",
       "waterbody_River           0.071751   -0.060099   -0.098976 -0.037772   \n",
       "\n",
       "                          room_num       age  teachers  poor_prop  n_hos_beds  \\\n",
       "price                     0.696304 -0.377999  0.505655  -0.740836    0.108880   \n",
       "crime_rate               -0.288784  0.559591 -0.390052   0.608970   -0.004089   \n",
       "resid_area               -0.391676  0.644779 -0.383248   0.603800    0.005799   \n",
       "air_qual                 -0.302188  0.731470 -0.188933   0.590879   -0.049553   \n",
       "room_num                  1.000000 -0.240265  0.355501  -0.613808    0.032009   \n",
       "age                      -0.240265  1.000000 -0.261515   0.602339   -0.021012   \n",
       "teachers                  0.355501 -0.261515  1.000000  -0.374044   -0.008056   \n",
       "poor_prop                -0.613808  0.602339 -0.374044   1.000000   -0.066008   \n",
       "n_hos_beds                0.032009 -0.021012 -0.008056  -0.066008    1.000000   \n",
       "n_hot_rooms               0.014583  0.013918 -0.037007   0.017036   -0.003130   \n",
       "rainfall                 -0.064718  0.074684 -0.045928   0.061444    0.058596   \n",
       "parks                    -0.282817  0.673850 -0.187004   0.552310   -0.071272   \n",
       "avg_dist                  0.205241 -0.747906  0.232452  -0.496967   -0.027871   \n",
       "airport_YES               0.163774  0.005101  0.069437  -0.095054   -0.006365   \n",
       "waterbody_Lake           -0.004195  0.003452  0.048717   0.003197    0.042278   \n",
       "waterbody_Lake and River  0.010554 -0.004354 -0.046981   0.020620    0.059482   \n",
       "waterbody_River           0.046251 -0.088609  0.094256  -0.109004   -0.074148   \n",
       "\n",
       "                          n_hot_rooms  rainfall     parks  avg_dist  \\\n",
       "price                        0.017007 -0.047200 -0.391574  0.249289   \n",
       "crime_rate                   0.056570  0.082151  0.638951 -0.586371   \n",
       "resid_area                  -0.003761  0.055845  0.707635 -0.708022   \n",
       "air_qual                     0.007238  0.091956  0.915544 -0.769247   \n",
       "room_num                     0.014583 -0.064718 -0.282817  0.205241   \n",
       "age                          0.013918  0.074684  0.673850 -0.747906   \n",
       "teachers                    -0.037007 -0.045928 -0.187004  0.232452   \n",
       "poor_prop                    0.017036  0.061444  0.552310 -0.496967   \n",
       "n_hos_beds                  -0.003130  0.058596 -0.071272 -0.027871   \n",
       "n_hot_rooms                  1.000000  0.014869  0.023757 -0.020700   \n",
       "rainfall                     0.014869  1.000000  0.078278 -0.037285   \n",
       "parks                        0.023757  0.078278  1.000000 -0.707924   \n",
       "avg_dist                    -0.020700 -0.037285 -0.707924  1.000000   \n",
       "airport_YES                 -0.055338 -0.013171 -0.052503  0.021402   \n",
       "waterbody_Lake               0.037925 -0.016170 -0.034991  0.034890   \n",
       "waterbody_Lake and River     0.014755  0.109234  0.013265 -0.021320   \n",
       "waterbody_River             -0.064096 -0.037016 -0.048862  0.032247   \n",
       "\n",
       "                          airport_YES  waterbody_Lake  \\\n",
       "price                        0.182867        0.036233   \n",
       "crime_rate                  -0.134486       -0.025390   \n",
       "resid_area                  -0.115401       -0.026590   \n",
       "air_qual                    -0.073903       -0.046393   \n",
       "room_num                     0.163774       -0.004195   \n",
       "age                          0.005101        0.003452   \n",
       "teachers                     0.069437        0.048717   \n",
       "poor_prop                   -0.095054        0.003197   \n",
       "n_hos_beds                  -0.006365        0.042278   \n",
       "n_hot_rooms                 -0.055338        0.037925   \n",
       "rainfall                    -0.013171       -0.016170   \n",
       "parks                       -0.052503       -0.034991   \n",
       "avg_dist                     0.021402        0.034890   \n",
       "airport_YES                  1.000000        0.035491   \n",
       "waterbody_Lake               0.035491        1.000000   \n",
       "waterbody_Lake and River    -0.070341       -0.196747   \n",
       "waterbody_River              0.017341       -0.366563   \n",
       "\n",
       "                          waterbody_Lake and River  waterbody_River  \n",
       "price                                    -0.037497         0.071751  \n",
       "crime_rate                                0.009076        -0.060099  \n",
       "resid_area                                0.051649        -0.098976  \n",
       "air_qual                                  0.013849        -0.037772  \n",
       "room_num                                  0.010554         0.046251  \n",
       "age                                      -0.004354        -0.088609  \n",
       "teachers                                 -0.046981         0.094256  \n",
       "poor_prop                                 0.020620        -0.109004  \n",
       "n_hos_beds                                0.059482        -0.074148  \n",
       "n_hot_rooms                               0.014755        -0.064096  \n",
       "rainfall                                  0.109234        -0.037016  \n",
       "parks                                     0.013265        -0.048862  \n",
       "avg_dist                                 -0.021320         0.032247  \n",
       "airport_YES                              -0.070341         0.017341  \n",
       "waterbody_Lake                           -0.196747        -0.366563  \n",
       "waterbody_Lake and River                  1.000000        -0.304095  \n",
       "waterbody_River                          -0.304095         1.000000  "
      ]
     },
     "execution_count": 45,
     "metadata": {},
     "output_type": "execute_result"
    }
   ],
   "source": [
    "df.corr()"
   ]
  },
  {
   "cell_type": "markdown",
   "metadata": {},
   "source": [
    "* Hmm...Alright, have a nice read of what is going on here\n",
    "\n",
    "* Notice the independent variables.... parks and air_quality and \n",
    "  how they have high correlation....remember using this two as variables \n",
    "  for our model, leads to a problem called Multi-collinearity\n",
    "  thus we venture into deleting one\n",
    "    \n",
    "* We chose to delete park....based on their correlation with the price"
   ]
  },
  {
   "cell_type": "code",
   "execution_count": 46,
   "metadata": {},
   "outputs": [],
   "source": [
    "del df['parks']"
   ]
  },
  {
   "cell_type": "code",
   "execution_count": 48,
   "metadata": {},
   "outputs": [],
   "source": [
    "# Performing a Single regression Model, using one variable using the statsmodels library\n",
    "import statsmodels.api as sn"
   ]
  },
  {
   "cell_type": "code",
   "execution_count": 52,
   "metadata": {},
   "outputs": [
    {
     "data": {
      "text/html": [
       "<div>\n",
       "<style scoped>\n",
       "    .dataframe tbody tr th:only-of-type {\n",
       "        vertical-align: middle;\n",
       "    }\n",
       "\n",
       "    .dataframe tbody tr th {\n",
       "        vertical-align: top;\n",
       "    }\n",
       "\n",
       "    .dataframe thead th {\n",
       "        text-align: right;\n",
       "    }\n",
       "</style>\n",
       "<table border=\"1\" class=\"dataframe\">\n",
       "  <thead>\n",
       "    <tr style=\"text-align: right;\">\n",
       "      <th></th>\n",
       "      <th>const</th>\n",
       "      <th>room_num</th>\n",
       "    </tr>\n",
       "  </thead>\n",
       "  <tbody>\n",
       "    <tr>\n",
       "      <th>0</th>\n",
       "      <td>1.0</td>\n",
       "      <td>6.575</td>\n",
       "    </tr>\n",
       "    <tr>\n",
       "      <th>1</th>\n",
       "      <td>1.0</td>\n",
       "      <td>6.421</td>\n",
       "    </tr>\n",
       "    <tr>\n",
       "      <th>2</th>\n",
       "      <td>1.0</td>\n",
       "      <td>7.185</td>\n",
       "    </tr>\n",
       "    <tr>\n",
       "      <th>3</th>\n",
       "      <td>1.0</td>\n",
       "      <td>6.998</td>\n",
       "    </tr>\n",
       "    <tr>\n",
       "      <th>4</th>\n",
       "      <td>1.0</td>\n",
       "      <td>7.147</td>\n",
       "    </tr>\n",
       "    <tr>\n",
       "      <th>...</th>\n",
       "      <td>...</td>\n",
       "      <td>...</td>\n",
       "    </tr>\n",
       "    <tr>\n",
       "      <th>501</th>\n",
       "      <td>1.0</td>\n",
       "      <td>6.593</td>\n",
       "    </tr>\n",
       "    <tr>\n",
       "      <th>502</th>\n",
       "      <td>1.0</td>\n",
       "      <td>6.120</td>\n",
       "    </tr>\n",
       "    <tr>\n",
       "      <th>503</th>\n",
       "      <td>1.0</td>\n",
       "      <td>6.976</td>\n",
       "    </tr>\n",
       "    <tr>\n",
       "      <th>504</th>\n",
       "      <td>1.0</td>\n",
       "      <td>6.794</td>\n",
       "    </tr>\n",
       "    <tr>\n",
       "      <th>505</th>\n",
       "      <td>1.0</td>\n",
       "      <td>6.030</td>\n",
       "    </tr>\n",
       "  </tbody>\n",
       "</table>\n",
       "<p>506 rows × 2 columns</p>\n",
       "</div>"
      ],
      "text/plain": [
       "     const  room_num\n",
       "0      1.0     6.575\n",
       "1      1.0     6.421\n",
       "2      1.0     7.185\n",
       "3      1.0     6.998\n",
       "4      1.0     7.147\n",
       "..     ...       ...\n",
       "501    1.0     6.593\n",
       "502    1.0     6.120\n",
       "503    1.0     6.976\n",
       "504    1.0     6.794\n",
       "505    1.0     6.030\n",
       "\n",
       "[506 rows x 2 columns]"
      ]
     },
     "execution_count": 52,
     "metadata": {},
     "output_type": "execute_result"
    }
   ],
   "source": [
    "x = sn.add_constant(df['room_num'])\n",
    "x"
   ]
  },
  {
   "cell_type": "code",
   "execution_count": 51,
   "metadata": {},
   "outputs": [],
   "source": [
    "lm = sn.OLS(df.price, x).fit()"
   ]
  },
  {
   "cell_type": "code",
   "execution_count": 54,
   "metadata": {},
   "outputs": [
    {
     "data": {
      "text/html": [
       "<table class=\"simpletable\">\n",
       "<caption>OLS Regression Results</caption>\n",
       "<tr>\n",
       "  <th>Dep. Variable:</th>          <td>price</td>      <th>  R-squared:         </th> <td>   0.485</td>\n",
       "</tr>\n",
       "<tr>\n",
       "  <th>Model:</th>                   <td>OLS</td>       <th>  Adj. R-squared:    </th> <td>   0.484</td>\n",
       "</tr>\n",
       "<tr>\n",
       "  <th>Method:</th>             <td>Least Squares</td>  <th>  F-statistic:       </th> <td>   474.3</td>\n",
       "</tr>\n",
       "<tr>\n",
       "  <th>Date:</th>             <td>Sat, 28 Aug 2021</td> <th>  Prob (F-statistic):</th> <td>1.31e-74</td>\n",
       "</tr>\n",
       "<tr>\n",
       "  <th>Time:</th>                 <td>04:08:37</td>     <th>  Log-Likelihood:    </th> <td> -1671.6</td>\n",
       "</tr>\n",
       "<tr>\n",
       "  <th>No. Observations:</th>      <td>   506</td>      <th>  AIC:               </th> <td>   3347.</td>\n",
       "</tr>\n",
       "<tr>\n",
       "  <th>Df Residuals:</th>          <td>   504</td>      <th>  BIC:               </th> <td>   3356.</td>\n",
       "</tr>\n",
       "<tr>\n",
       "  <th>Df Model:</th>              <td>     1</td>      <th>                     </th>     <td> </td>   \n",
       "</tr>\n",
       "<tr>\n",
       "  <th>Covariance Type:</th>      <td>nonrobust</td>    <th>                     </th>     <td> </td>   \n",
       "</tr>\n",
       "</table>\n",
       "<table class=\"simpletable\">\n",
       "<tr>\n",
       "      <td></td>        <th>coef</th>     <th>std err</th>      <th>t</th>      <th>P>|t|</th>  <th>[0.025</th>    <th>0.975]</th>  \n",
       "</tr>\n",
       "<tr>\n",
       "  <th>const</th>    <td>  -34.6592</td> <td>    2.642</td> <td>  -13.118</td> <td> 0.000</td> <td>  -39.850</td> <td>  -29.468</td>\n",
       "</tr>\n",
       "<tr>\n",
       "  <th>room_num</th> <td>    9.0997</td> <td>    0.418</td> <td>   21.779</td> <td> 0.000</td> <td>    8.279</td> <td>    9.921</td>\n",
       "</tr>\n",
       "</table>\n",
       "<table class=\"simpletable\">\n",
       "<tr>\n",
       "  <th>Omnibus:</th>       <td>103.753</td> <th>  Durbin-Watson:     </th> <td>   0.681</td> \n",
       "</tr>\n",
       "<tr>\n",
       "  <th>Prob(Omnibus):</th> <td> 0.000</td>  <th>  Jarque-Bera (JB):  </th> <td> 633.429</td> \n",
       "</tr>\n",
       "<tr>\n",
       "  <th>Skew:</th>          <td> 0.729</td>  <th>  Prob(JB):          </th> <td>2.84e-138</td>\n",
       "</tr>\n",
       "<tr>\n",
       "  <th>Kurtosis:</th>      <td> 8.284</td>  <th>  Cond. No.          </th> <td>    58.4</td> \n",
       "</tr>\n",
       "</table><br/><br/>Notes:<br/>[1] Standard Errors assume that the covariance matrix of the errors is correctly specified."
      ],
      "text/plain": [
       "<class 'statsmodels.iolib.summary.Summary'>\n",
       "\"\"\"\n",
       "                            OLS Regression Results                            \n",
       "==============================================================================\n",
       "Dep. Variable:                  price   R-squared:                       0.485\n",
       "Model:                            OLS   Adj. R-squared:                  0.484\n",
       "Method:                 Least Squares   F-statistic:                     474.3\n",
       "Date:                Sat, 28 Aug 2021   Prob (F-statistic):           1.31e-74\n",
       "Time:                        04:08:37   Log-Likelihood:                -1671.6\n",
       "No. Observations:                 506   AIC:                             3347.\n",
       "Df Residuals:                     504   BIC:                             3356.\n",
       "Df Model:                           1                                         \n",
       "Covariance Type:            nonrobust                                         \n",
       "==============================================================================\n",
       "                 coef    std err          t      P>|t|      [0.025      0.975]\n",
       "------------------------------------------------------------------------------\n",
       "const        -34.6592      2.642    -13.118      0.000     -39.850     -29.468\n",
       "room_num       9.0997      0.418     21.779      0.000       8.279       9.921\n",
       "==============================================================================\n",
       "Omnibus:                      103.753   Durbin-Watson:                   0.681\n",
       "Prob(Omnibus):                  0.000   Jarque-Bera (JB):              633.429\n",
       "Skew:                           0.729   Prob(JB):                    2.84e-138\n",
       "Kurtosis:                       8.284   Cond. No.                         58.4\n",
       "==============================================================================\n",
       "\n",
       "Notes:\n",
       "[1] Standard Errors assume that the covariance matrix of the errors is correctly specified.\n",
       "\"\"\""
      ]
     },
     "execution_count": 54,
     "metadata": {},
     "output_type": "execute_result"
    }
   ],
   "source": [
    "lm.summary()"
   ]
  },
  {
   "cell_type": "markdown",
   "metadata": {},
   "source": [
    "* Notice the r_squared value...pretty good at least from a varible\n",
    "\n",
    "* as it suggests that with just a variable, we can account for 50% variability in our data"
   ]
  },
  {
   "cell_type": "code",
   "execution_count": 60,
   "metadata": {},
   "outputs": [],
   "source": [
    "# Performing a Single regression Model, using one variable using the sklearn library\n",
    "from sklearn.linear_model import LinearRegression"
   ]
  },
  {
   "cell_type": "code",
   "execution_count": 61,
   "metadata": {},
   "outputs": [],
   "source": [
    "y = df['price']"
   ]
  },
  {
   "cell_type": "code",
   "execution_count": 64,
   "metadata": {},
   "outputs": [
    {
     "data": {
      "text/html": [
       "<div>\n",
       "<style scoped>\n",
       "    .dataframe tbody tr th:only-of-type {\n",
       "        vertical-align: middle;\n",
       "    }\n",
       "\n",
       "    .dataframe tbody tr th {\n",
       "        vertical-align: top;\n",
       "    }\n",
       "\n",
       "    .dataframe thead th {\n",
       "        text-align: right;\n",
       "    }\n",
       "</style>\n",
       "<table border=\"1\" class=\"dataframe\">\n",
       "  <thead>\n",
       "    <tr style=\"text-align: right;\">\n",
       "      <th></th>\n",
       "      <th>room_num</th>\n",
       "    </tr>\n",
       "  </thead>\n",
       "  <tbody>\n",
       "    <tr>\n",
       "      <th>0</th>\n",
       "      <td>6.575</td>\n",
       "    </tr>\n",
       "    <tr>\n",
       "      <th>1</th>\n",
       "      <td>6.421</td>\n",
       "    </tr>\n",
       "    <tr>\n",
       "      <th>2</th>\n",
       "      <td>7.185</td>\n",
       "    </tr>\n",
       "    <tr>\n",
       "      <th>3</th>\n",
       "      <td>6.998</td>\n",
       "    </tr>\n",
       "    <tr>\n",
       "      <th>4</th>\n",
       "      <td>7.147</td>\n",
       "    </tr>\n",
       "    <tr>\n",
       "      <th>...</th>\n",
       "      <td>...</td>\n",
       "    </tr>\n",
       "    <tr>\n",
       "      <th>501</th>\n",
       "      <td>6.593</td>\n",
       "    </tr>\n",
       "    <tr>\n",
       "      <th>502</th>\n",
       "      <td>6.120</td>\n",
       "    </tr>\n",
       "    <tr>\n",
       "      <th>503</th>\n",
       "      <td>6.976</td>\n",
       "    </tr>\n",
       "    <tr>\n",
       "      <th>504</th>\n",
       "      <td>6.794</td>\n",
       "    </tr>\n",
       "    <tr>\n",
       "      <th>505</th>\n",
       "      <td>6.030</td>\n",
       "    </tr>\n",
       "  </tbody>\n",
       "</table>\n",
       "<p>506 rows × 1 columns</p>\n",
       "</div>"
      ],
      "text/plain": [
       "     room_num\n",
       "0       6.575\n",
       "1       6.421\n",
       "2       7.185\n",
       "3       6.998\n",
       "4       7.147\n",
       "..        ...\n",
       "501     6.593\n",
       "502     6.120\n",
       "503     6.976\n",
       "504     6.794\n",
       "505     6.030\n",
       "\n",
       "[506 rows x 1 columns]"
      ]
     },
     "execution_count": 64,
     "metadata": {},
     "output_type": "execute_result"
    }
   ],
   "source": [
    "x = df[['room_num']]\n",
    "x"
   ]
  },
  {
   "cell_type": "code",
   "execution_count": 65,
   "metadata": {},
   "outputs": [
    {
     "data": {
      "text/plain": [
       "LinearRegression()"
      ]
     },
     "execution_count": 65,
     "metadata": {},
     "output_type": "execute_result"
    }
   ],
   "source": [
    "lm2 = LinearRegression()\n",
    "lm2.fit(x,y)"
   ]
  },
  {
   "cell_type": "code",
   "execution_count": 66,
   "metadata": {},
   "outputs": [
    {
     "data": {
      "text/plain": [
       "-34.6592431230972"
      ]
     },
     "execution_count": 66,
     "metadata": {},
     "output_type": "execute_result"
    }
   ],
   "source": [
    "lm2.intercept_"
   ]
  },
  {
   "cell_type": "code",
   "execution_count": 67,
   "metadata": {},
   "outputs": [
    {
     "data": {
      "text/plain": [
       "array([9.09966966])"
      ]
     },
     "execution_count": 67,
     "metadata": {},
     "output_type": "execute_result"
    }
   ],
   "source": [
    "lm2.coef_"
   ]
  },
  {
   "cell_type": "code",
   "execution_count": null,
   "metadata": {},
   "outputs": [],
   "source": [
    "x2 = lm2.predict(x)"
   ]
  },
  {
   "cell_type": "code",
   "execution_count": 69,
   "metadata": {},
   "outputs": [],
   "source": [
    "#help(sns.jointplot)"
   ]
  },
  {
   "cell_type": "code",
   "execution_count": 73,
   "metadata": {},
   "outputs": [
    {
     "data": {
      "text/plain": [
       "<seaborn.axisgrid.JointGrid at 0x1f9e3885fa0>"
      ]
     },
     "execution_count": 73,
     "metadata": {},
     "output_type": "execute_result"
    },
    {
     "data": {
      "image/png": "[encoded data removed]",
      "text/plain": [
       "<Figure size 432x432 with 3 Axes>"
      ]
     },
     "metadata": {
      "needs_background": "light"
     },
     "output_type": "display_data"
    }
   ],
   "source": [
    "sns.jointplot(x = df['room_num'], y = df['price'], data = df, kind = 'reg')\n"
   ]
  },
  {
   "cell_type": "code",
   "execution_count": 76,
   "metadata": {},
   "outputs": [],
   "source": [
    "# Performing multiple regression with the statsmodel library\n",
    "x_multi = df.drop('price', axis = 1)\n",
    "y_multi = df.price"
   ]
  },
  {
   "cell_type": "code",
   "execution_count": 77,
   "metadata": {},
   "outputs": [],
   "source": [
    "# With statsmodel, we need to manually add constanst\n",
    "x_multi_cons = sn.add_constant(x_multi)"
   ]
  },
  {
   "cell_type": "code",
   "execution_count": 78,
   "metadata": {},
   "outputs": [],
   "source": [
    "# fit our model\n",
    "lm3 = sn.OLS(y_multi, x_multi_cons).fit()"
   ]
  },
  {
   "cell_type": "code",
   "execution_count": 81,
   "metadata": {},
   "outputs": [
    {
     "data": {
      "text/html": [
       "<table class=\"simpletable\">\n",
       "<caption>OLS Regression Results</caption>\n",
       "<tr>\n",
       "  <th>Dep. Variable:</th>          <td>price</td>      <th>  R-squared:         </th> <td>   0.721</td> \n",
       "</tr>\n",
       "<tr>\n",
       "  <th>Model:</th>                   <td>OLS</td>       <th>  Adj. R-squared:    </th> <td>   0.712</td> \n",
       "</tr>\n",
       "<tr>\n",
       "  <th>Method:</th>             <td>Least Squares</td>  <th>  F-statistic:       </th> <td>   84.34</td> \n",
       "</tr>\n",
       "<tr>\n",
       "  <th>Date:</th>             <td>Sat, 28 Aug 2021</td> <th>  Prob (F-statistic):</th> <td>4.19e-125</td>\n",
       "</tr>\n",
       "<tr>\n",
       "  <th>Time:</th>                 <td>11:56:38</td>     <th>  Log-Likelihood:    </th> <td> -1516.6</td> \n",
       "</tr>\n",
       "<tr>\n",
       "  <th>No. Observations:</th>      <td>   506</td>      <th>  AIC:               </th> <td>   3065.</td> \n",
       "</tr>\n",
       "<tr>\n",
       "  <th>Df Residuals:</th>          <td>   490</td>      <th>  BIC:               </th> <td>   3133.</td> \n",
       "</tr>\n",
       "<tr>\n",
       "  <th>Df Model:</th>              <td>    15</td>      <th>                     </th>     <td> </td>    \n",
       "</tr>\n",
       "<tr>\n",
       "  <th>Covariance Type:</th>      <td>nonrobust</td>    <th>                     </th>     <td> </td>    \n",
       "</tr>\n",
       "</table>\n",
       "<table class=\"simpletable\">\n",
       "<tr>\n",
       "              <td></td>                <th>coef</th>     <th>std err</th>      <th>t</th>      <th>P>|t|</th>  <th>[0.025</th>    <th>0.975]</th>  \n",
       "</tr>\n",
       "<tr>\n",
       "  <th>const</th>                    <td>   -6.4986</td> <td>    5.264</td> <td>   -1.235</td> <td> 0.218</td> <td>  -16.842</td> <td>    3.844</td>\n",
       "</tr>\n",
       "<tr>\n",
       "  <th>crime_rate</th>               <td>    0.0097</td> <td>    0.348</td> <td>    0.028</td> <td> 0.978</td> <td>   -0.674</td> <td>    0.694</td>\n",
       "</tr>\n",
       "<tr>\n",
       "  <th>resid_area</th>               <td>   -0.0409</td> <td>    0.058</td> <td>   -0.710</td> <td> 0.478</td> <td>   -0.154</td> <td>    0.072</td>\n",
       "</tr>\n",
       "<tr>\n",
       "  <th>air_qual</th>                 <td>  -15.8974</td> <td>    4.004</td> <td>   -3.971</td> <td> 0.000</td> <td>  -23.764</td> <td>   -8.031</td>\n",
       "</tr>\n",
       "<tr>\n",
       "  <th>room_num</th>                 <td>    4.0190</td> <td>    0.427</td> <td>    9.421</td> <td> 0.000</td> <td>    3.181</td> <td>    4.857</td>\n",
       "</tr>\n",
       "<tr>\n",
       "  <th>age</th>                      <td>   -0.0057</td> <td>    0.014</td> <td>   -0.420</td> <td> 0.675</td> <td>   -0.032</td> <td>    0.021</td>\n",
       "</tr>\n",
       "<tr>\n",
       "  <th>teachers</th>                 <td>    1.0070</td> <td>    0.122</td> <td>    8.247</td> <td> 0.000</td> <td>    0.767</td> <td>    1.247</td>\n",
       "</tr>\n",
       "<tr>\n",
       "  <th>poor_prop</th>                <td>   -0.5773</td> <td>    0.053</td> <td>  -10.955</td> <td> 0.000</td> <td>   -0.681</td> <td>   -0.474</td>\n",
       "</tr>\n",
       "<tr>\n",
       "  <th>n_hos_beds</th>               <td>    0.3292</td> <td>    0.152</td> <td>    2.163</td> <td> 0.031</td> <td>    0.030</td> <td>    0.628</td>\n",
       "</tr>\n",
       "<tr>\n",
       "  <th>n_hot_rooms</th>              <td>    0.0919</td> <td>    0.082</td> <td>    1.118</td> <td> 0.264</td> <td>   -0.070</td> <td>    0.253</td>\n",
       "</tr>\n",
       "<tr>\n",
       "  <th>rainfall</th>                 <td>    0.0161</td> <td>    0.018</td> <td>    0.904</td> <td> 0.367</td> <td>   -0.019</td> <td>    0.051</td>\n",
       "</tr>\n",
       "<tr>\n",
       "  <th>avg_dist</th>                 <td>   -1.2186</td> <td>    0.189</td> <td>   -6.450</td> <td> 0.000</td> <td>   -1.590</td> <td>   -0.847</td>\n",
       "</tr>\n",
       "<tr>\n",
       "  <th>airport_YES</th>              <td>    1.1315</td> <td>    0.454</td> <td>    2.491</td> <td> 0.013</td> <td>    0.239</td> <td>    2.024</td>\n",
       "</tr>\n",
       "<tr>\n",
       "  <th>waterbody_Lake</th>           <td>    0.2641</td> <td>    0.642</td> <td>    0.411</td> <td> 0.681</td> <td>   -0.997</td> <td>    1.525</td>\n",
       "</tr>\n",
       "<tr>\n",
       "  <th>waterbody_Lake and River</th> <td>   -0.6876</td> <td>    0.714</td> <td>   -0.963</td> <td> 0.336</td> <td>   -2.090</td> <td>    0.715</td>\n",
       "</tr>\n",
       "<tr>\n",
       "  <th>waterbody_River</th>          <td>   -0.2913</td> <td>    0.547</td> <td>   -0.533</td> <td> 0.594</td> <td>   -1.365</td> <td>    0.783</td>\n",
       "</tr>\n",
       "</table>\n",
       "<table class=\"simpletable\">\n",
       "<tr>\n",
       "  <th>Omnibus:</th>       <td>182.596</td> <th>  Durbin-Watson:     </th> <td>   0.990</td> \n",
       "</tr>\n",
       "<tr>\n",
       "  <th>Prob(Omnibus):</th> <td> 0.000</td>  <th>  Jarque-Bera (JB):  </th> <td> 826.137</td> \n",
       "</tr>\n",
       "<tr>\n",
       "  <th>Skew:</th>          <td> 1.554</td>  <th>  Prob(JB):          </th> <td>4.04e-180</td>\n",
       "</tr>\n",
       "<tr>\n",
       "  <th>Kurtosis:</th>      <td> 8.434</td>  <th>  Cond. No.          </th> <td>2.37e+03</td> \n",
       "</tr>\n",
       "</table><br/><br/>Notes:<br/>[1] Standard Errors assume that the covariance matrix of the errors is correctly specified.<br/>[2] The condition number is large, 2.37e+03. This might indicate that there are<br/>strong multicollinearity or other numerical problems."
      ],
      "text/plain": [
       "<class 'statsmodels.iolib.summary.Summary'>\n",
       "\"\"\"\n",
       "                            OLS Regression Results                            \n",
       "==============================================================================\n",
       "Dep. Variable:                  price   R-squared:                       0.721\n",
       "Model:                            OLS   Adj. R-squared:                  0.712\n",
       "Method:                 Least Squares   F-statistic:                     84.34\n",
       "Date:                Sat, 28 Aug 2021   Prob (F-statistic):          4.19e-125\n",
       "Time:                        11:56:38   Log-Likelihood:                -1516.6\n",
       "No. Observations:                 506   AIC:                             3065.\n",
       "Df Residuals:                     490   BIC:                             3133.\n",
       "Df Model:                          15                                         \n",
       "Covariance Type:            nonrobust                                         \n",
       "============================================================================================\n",
       "                               coef    std err          t      P>|t|      [0.025      0.975]\n",
       "--------------------------------------------------------------------------------------------\n",
       "const                       -6.4986      5.264     -1.235      0.218     -16.842       3.844\n",
       "crime_rate                   0.0097      0.348      0.028      0.978      -0.674       0.694\n",
       "resid_area                  -0.0409      0.058     -0.710      0.478      -0.154       0.072\n",
       "air_qual                   -15.8974      4.004     -3.971      0.000     -23.764      -8.031\n",
       "room_num                     4.0190      0.427      9.421      0.000       3.181       4.857\n",
       "age                         -0.0057      0.014     -0.420      0.675      -0.032       0.021\n",
       "teachers                     1.0070      0.122      8.247      0.000       0.767       1.247\n",
       "poor_prop                   -0.5773      0.053    -10.955      0.000      -0.681      -0.474\n",
       "n_hos_beds                   0.3292      0.152      2.163      0.031       0.030       0.628\n",
       "n_hot_rooms                  0.0919      0.082      1.118      0.264      -0.070       0.253\n",
       "rainfall                     0.0161      0.018      0.904      0.367      -0.019       0.051\n",
       "avg_dist                    -1.2186      0.189     -6.450      0.000      -1.590      -0.847\n",
       "airport_YES                  1.1315      0.454      2.491      0.013       0.239       2.024\n",
       "waterbody_Lake               0.2641      0.642      0.411      0.681      -0.997       1.525\n",
       "waterbody_Lake and River    -0.6876      0.714     -0.963      0.336      -2.090       0.715\n",
       "waterbody_River             -0.2913      0.547     -0.533      0.594      -1.365       0.783\n",
       "==============================================================================\n",
       "Omnibus:                      182.596   Durbin-Watson:                   0.990\n",
       "Prob(Omnibus):                  0.000   Jarque-Bera (JB):              826.137\n",
       "Skew:                           1.554   Prob(JB):                    4.04e-180\n",
       "Kurtosis:                       8.434   Cond. No.                     2.37e+03\n",
       "==============================================================================\n",
       "\n",
       "Notes:\n",
       "[1] Standard Errors assume that the covariance matrix of the errors is correctly specified.\n",
       "[2] The condition number is large, 2.37e+03. This might indicate that there are\n",
       "strong multicollinearity or other numerical problems.\n",
       "\"\"\""
      ]
     },
     "execution_count": 81,
     "metadata": {},
     "output_type": "execute_result"
    }
   ],
   "source": [
    "lm3.summary"
   ]
  },
  {
   "cell_type": "markdown",
   "metadata": {},
   "source": [
    "* Nice.....statsmodel, gives quite handy summary of our data :)"
   ]
  },
  {
   "cell_type": "code",
   "execution_count": 86,
   "metadata": {},
   "outputs": [
    {
     "data": {
      "text/plain": [
       "LinearRegression(normalize=True)"
      ]
     },
     "execution_count": 86,
     "metadata": {},
     "output_type": "execute_result"
    }
   ],
   "source": [
    "# Performing multiple regression with the sklearn library\n",
    "lm4 = LinearRegression()\n",
    "lm4.fit(x_multi, y_multi)"
   ]
  },
  {
   "cell_type": "code",
   "execution_count": 87,
   "metadata": {},
   "outputs": [
    {
     "name": "stdout",
     "output_type": "stream",
     "text": [
      "-6.498625198419791 [ 9.70998193e-03 -4.08746495e-02 -1.58973999e+01  4.01901676e+00\n",
      " -5.71475069e-03  1.00700068e+00 -5.77271243e-01  3.29221139e-01\n",
      "  9.18675603e-02  1.61185504e-02 -1.21863952e+00  1.13151586e+00\n",
      "  2.64086064e-01 -6.87555889e-01 -2.91318712e-01]\n"
     ]
    }
   ],
   "source": [
    "print(lm4.intercept_, lm4.coef_)"
   ]
  },
  {
   "cell_type": "code",
   "execution_count": 88,
   "metadata": {},
   "outputs": [
    {
     "data": {
      "text/plain": [
       "0.7208190287981402"
      ]
     },
     "execution_count": 88,
     "metadata": {},
     "output_type": "execute_result"
    }
   ],
   "source": [
    "# r_squared value on training data \n",
    "lm4.score(x_multi, y_multi)"
   ]
  },
  {
   "cell_type": "code",
   "execution_count": 90,
   "metadata": {},
   "outputs": [],
   "source": [
    "# Perform train_test_split\n",
    "from sklearn.model_selection import train_test_split"
   ]
  },
  {
   "cell_type": "code",
   "execution_count": 315,
   "metadata": {},
   "outputs": [],
   "source": [
    "# using validation set approach for train-test splitting\n",
    "x_train, x_test, y_train, y_test = train_test_split(x_multi, y_multi, test_size = 0.2, random_state = 10)"
   ]
  },
  {
   "cell_type": "code",
   "execution_count": 93,
   "metadata": {},
   "outputs": [
    {
     "name": "stdout",
     "output_type": "stream",
     "text": [
      "(404, 15) (102, 15)\n"
     ]
    }
   ],
   "source": [
    "print(x_train.shape, x_test.shape)"
   ]
  },
  {
   "cell_type": "code",
   "execution_count": 94,
   "metadata": {},
   "outputs": [
    {
     "data": {
      "text/plain": [
       "LinearRegression()"
      ]
     },
     "execution_count": 94,
     "metadata": {},
     "output_type": "execute_result"
    }
   ],
   "source": [
    "lm5 = LinearRegression()\n",
    "lm5.fit(x_train, y_train)"
   ]
  },
  {
   "cell_type": "code",
   "execution_count": 96,
   "metadata": {},
   "outputs": [],
   "source": [
    "y_test_a = lm5.predict(x_test)"
   ]
  },
  {
   "cell_type": "code",
   "execution_count": 97,
   "metadata": {},
   "outputs": [],
   "source": [
    "y_train_a = lm5.predict(x_train)"
   ]
  },
  {
   "cell_type": "code",
   "execution_count": 98,
   "metadata": {},
   "outputs": [
    {
     "data": {
      "text/plain": [
       "0.5496468288205669"
      ]
     },
     "execution_count": 98,
     "metadata": {},
     "output_type": "execute_result"
    }
   ],
   "source": [
    "# r_squared value over test set\n",
    "lm5.score(x_test, y_test)"
   ]
  },
  {
   "cell_type": "code",
   "execution_count": 99,
   "metadata": {},
   "outputs": [
    {
     "data": {
      "text/plain": [
       "0.756463540591123"
      ]
     },
     "execution_count": 99,
     "metadata": {},
     "output_type": "execute_result"
    }
   ],
   "source": [
    "# r_squared value over training set\n",
    "lm5.score(x_train, y_train)"
   ]
  },
  {
   "cell_type": "markdown",
   "metadata": {},
   "source": [
    "* Alternatively we can use the function r2_score from the sklearn.metric\n"
   ]
  },
  {
   "cell_type": "code",
   "execution_count": 108,
   "metadata": {},
   "outputs": [],
   "source": [
    "from sklearn.model_selection import cross_validate"
   ]
  },
  {
   "cell_type": "code",
   "execution_count": 113,
   "metadata": {},
   "outputs": [],
   "source": [
    "# using cross validation approach for train-test splitting\n",
    "score = cross_validate(lm5, x_multi, y_multi, return_train_score = True, cv = 7)"
   ]
  },
  {
   "cell_type": "code",
   "execution_count": 114,
   "metadata": {},
   "outputs": [
    {
     "data": {
      "text/plain": [
       "{'fit_time': array([0.01199198, 0.00999069, 0.00999403, 0.00999808, 0.00999331,\n",
       "        0.00899148, 0.00799608]),\n",
       " 'score_time': array([0.00499606, 0.00499773, 0.00599623, 0.0089972 , 0.00399709,\n",
       "        0.00599885, 0.00299692]),\n",
       " 'test_score': array([ 0.69237384,  0.51497019,  0.64806131,  0.65671763,  0.28064207,\n",
       "        -0.21176347,  0.44898493]),\n",
       " 'train_score': array([0.71994656, 0.725566  , 0.70043959, 0.66317125, 0.73483002,\n",
       "        0.84580744, 0.71163638])}"
      ]
     },
     "execution_count": 114,
     "metadata": {},
     "output_type": "execute_result"
    }
   ],
   "source": [
    "score"
   ]
  },
  {
   "cell_type": "markdown",
   "metadata": {},
   "source": [
    "* A Linear model is not really doing well\n",
    "\n",
    "* Lets try out Tecniques.. if we can increase accuracy"
   ]
  },
  {
   "cell_type": "code",
   "execution_count": 136,
   "metadata": {},
   "outputs": [
    {
     "data": {
      "text/plain": [
       "0.5496468288205669"
      ]
     },
     "execution_count": 136,
     "metadata": {},
     "output_type": "execute_result"
    }
   ],
   "source": [
    "#Performing Standardization\n",
    "from sklearn.preprocessing import StandardScaler\n",
    "scaler = StandardScaler()\n",
    "\n",
    "x_multi2 = scaler.fit_transform(x_multi)\n",
    "\n",
    "lm6 = LinearRegression()\n",
    "lm6.fit(x_train, y_train)\n",
    "lm6.score(x_test, y_test)"
   ]
  },
  {
   "cell_type": "markdown",
   "metadata": {},
   "source": [
    "* No changes to the test accuracy"
   ]
  },
  {
   "cell_type": "code",
   "execution_count": 131,
   "metadata": {},
   "outputs": [],
   "source": [
    "# Performing Subset Selection\n",
    "# we would remove all models with p-value above 0.5 and try out\n",
    "# we would remove all models with p-value above 0.1 and try out\n"
   ]
  },
  {
   "cell_type": "code",
   "execution_count": 133,
   "metadata": {},
   "outputs": [
    {
     "data": {
      "text/plain": [
       "Index(['price', 'crime_rate', 'resid_area', 'air_qual', 'room_num', 'age',\n",
       "       'teachers', 'poor_prop', 'n_hos_beds', 'n_hot_rooms', 'rainfall',\n",
       "       'avg_dist', 'airport_YES', 'waterbody_Lake', 'waterbody_Lake and River',\n",
       "       'waterbody_River'],\n",
       "      dtype='object')"
      ]
     },
     "execution_count": 133,
     "metadata": {},
     "output_type": "execute_result"
    }
   ],
   "source": [
    "df.columns"
   ]
  },
  {
   "cell_type": "markdown",
   "metadata": {},
   "source": [
    "### train with features with p-value below 0.5"
   ]
  },
  {
   "cell_type": "code",
   "execution_count": 176,
   "metadata": {},
   "outputs": [],
   "source": [
    "\n",
    "x_cut = df.drop(labels = ['crime_rate', 'age', 'waterbody_Lake', 'waterbody_River', 'price'], axis = 1)\n",
    "y_cut = df.price\n",
    "\n",
    "scaler2 = StandardScaler()\n",
    "x_cut = scaler2.fit_transform(x_cut)"
   ]
  },
  {
   "cell_type": "code",
   "execution_count": 160,
   "metadata": {},
   "outputs": [
    {
     "data": {
      "text/plain": [
       "{'fit_time': array([0.01299167, 0.0089941 , 0.08095074, 0.00999403, 0.00899506,\n",
       "        0.00999331, 0.00799608]),\n",
       " 'score_time': array([0.00799441, 0.00699568, 0.00699735, 0.0059948 , 0.00699568,\n",
       "        0.00599408, 0.00599551]),\n",
       " 'test_score': array([ 0.70060832,  0.52553256,  0.65555346,  0.65781852,  0.28428345,\n",
       "        -0.06340408,  0.46337127]),\n",
       " 'train_score': array([0.71936124, 0.7249772 , 0.69941154, 0.66260834, 0.73424559,\n",
       "        0.83348212, 0.71076325])}"
      ]
     },
     "execution_count": 160,
     "metadata": {},
     "output_type": "execute_result"
    }
   ],
   "source": [
    "lm7 = LinearRegression()\n",
    "\n",
    "score = cross_validate(lm7, x_cut, y_cut, return_train_score = True, cv = 7)\n",
    "score"
   ]
  },
  {
   "cell_type": "code",
   "execution_count": 177,
   "metadata": {},
   "outputs": [
    {
     "data": {
      "text/plain": [
       "[[0, 0.7555833338223847, 0.5559924909068463],\n",
       " [10, 0.7115684030079119, 0.7080953710607378],\n",
       " [20, 0.7189033568840912, 0.7138489519788884],\n",
       " [30, 0.7234904543971102, 0.6922609549266183],\n",
       " [40, 0.7376042511216383, 0.6622514773109704],\n",
       " [50, 0.739049276102524, 0.6176433460779381],\n",
       " [60, 0.7241805346438022, 0.6882992738032339],\n",
       " [70, 0.7144179013732757, 0.7357952178242773],\n",
       " [80, 0.7111978314129874, 0.7610875312766172],\n",
       " [90, 0.7325852831051461, 0.6671373769453187]]"
      ]
     },
     "execution_count": 177,
     "metadata": {},
     "output_type": "execute_result"
    }
   ],
   "source": [
    "scores = []\n",
    "test_score_sum = 0\n",
    "\n",
    "for i in range(0,100,10):\n",
    "    x_train1, x_test1, y_train1, y_test1 = train_test_split(x_cut, y_cut, test_size = 0.2, random_state = i)\n",
    "    \n",
    "    lm7 = LinearRegression()\n",
    "    lm7.fit(x_train1, y_train1)\n",
    "    \n",
    "    a = lm7.score(x_train1, y_train1)\n",
    "    b = lm7.score(x_test1, y_test1)\n",
    "    \n",
    "    test_score_sum += b\n",
    "    \n",
    "    scores.append([i, a, b] )\n",
    "    \n",
    "average_test_score = test_score_sum / len(scores)\n",
    "    \n",
    "\n",
    "scores"
   ]
  },
  {
   "cell_type": "code",
   "execution_count": 178,
   "metadata": {},
   "outputs": [
    {
     "name": "stdout",
     "output_type": "stream",
     "text": [
      "this is the average test score 0.6802411992111447\n"
     ]
    }
   ],
   "source": [
    "print('this is the average test score', average_test_score)"
   ]
  },
  {
   "cell_type": "code",
   "execution_count": 180,
   "metadata": {},
   "outputs": [
    {
     "name": "stdout",
     "output_type": "stream",
     "text": [
      "this is the average test score 0.6728002258699955\n"
     ]
    }
   ],
   "source": [
    "print('this is the average test score', average_test_score)"
   ]
  },
  {
   "cell_type": "markdown",
   "metadata": {},
   "source": [
    "### train with features with p-value below 0.1"
   ]
  },
  {
   "cell_type": "code",
   "execution_count": 184,
   "metadata": {},
   "outputs": [],
   "source": [
    "\n",
    "x_cut1 = df.drop(labels = ['crime_rate', 'age', 'waterbody_Lake', 'waterbody_River', 'price', 'waterbody_Lake and River', 'resid_area', 'n_hot_rooms', 'rainfall',], axis = 1)\n",
    "y_cut1 = df.price\n",
    "\n",
    "scaler3 = StandardScaler()\n",
    "x_cut1 = scaler3.fit_transform(x_cut1)"
   ]
  },
  {
   "cell_type": "code",
   "execution_count": 186,
   "metadata": {},
   "outputs": [
    {
     "data": {
      "text/plain": [
       "[[0, 0.7524426554441954, 0.5608102951035264],\n",
       " [10, 0.7089432607133703, 0.7111832461604517],\n",
       " [20, 0.7171428385019478, 0.7157979829832],\n",
       " [30, 0.7214007274096208, 0.6903397968842797],\n",
       " [40, 0.7349150195341833, 0.6628311804178522],\n",
       " [50, 0.7381944351329426, 0.6155816160632703],\n",
       " [60, 0.7228708352873497, 0.6835582558175839],\n",
       " [70, 0.7109142419332373, 0.7408056739154029],\n",
       " [80, 0.7102433027152644, 0.7545644280296248],\n",
       " [90, 0.7297055228705102, 0.6703558969349666]]"
      ]
     },
     "execution_count": 186,
     "metadata": {},
     "output_type": "execute_result"
    }
   ],
   "source": [
    "scores = []\n",
    "test_score_sum = 0\n",
    "\n",
    "for i in range(0,100,10):\n",
    "    x_train2, x_test2, y_train2, y_test2 = train_test_split(x_cut1, y_cut1, test_size = 0.2, random_state = i)\n",
    "    \n",
    "    lm8 = LinearRegression()\n",
    "    lm8.fit(x_train2, y_train2)\n",
    "    \n",
    "    a = lm8.score(x_train2, y_train2)\n",
    "    b = lm8.score(x_test2, y_test2)\n",
    "    \n",
    "    test_score_sum += b\n",
    "    \n",
    "    scores.append([i, a, b] )\n",
    "    \n",
    "average_test_score = test_score_sum / len(scores)\n",
    "    \n",
    "\n",
    "scores"
   ]
  },
  {
   "cell_type": "code",
   "execution_count": 187,
   "metadata": {},
   "outputs": [
    {
     "data": {
      "text/plain": [
       "0.6805828372310158"
      ]
     },
     "execution_count": 187,
     "metadata": {},
     "output_type": "execute_result"
    }
   ],
   "source": [
    "average_test_score"
   ]
  },
  {
   "cell_type": "markdown",
   "metadata": {},
   "source": [
    "* wow No change"
   ]
  },
  {
   "cell_type": "code",
   "execution_count": 189,
   "metadata": {},
   "outputs": [],
   "source": [
    "# Alright we still have two things we can try\n",
    "# shrinkage method( regularizing the estimated coefficients )\n",
    "# Polynomic models"
   ]
  },
  {
   "cell_type": "markdown",
   "metadata": {},
   "source": [
    "### Perform shrinkage techniques\n",
    "* Rgularization of the Estimated coefficients, trying out Rigde regression and Lasso regression"
   ]
  },
  {
   "cell_type": "code",
   "execution_count": 316,
   "metadata": {},
   "outputs": [],
   "source": [
    "# We need to standardize out data before running ridge and lasso regression\n",
    "scale = StandardScaler().fit(x_train)"
   ]
  },
  {
   "cell_type": "code",
   "execution_count": 317,
   "metadata": {},
   "outputs": [],
   "source": [
    "x_train_s = scale.transform(x_train)\n",
    "x_test_s = scale.transform(x_test)"
   ]
  },
  {
   "cell_type": "code",
   "execution_count": null,
   "metadata": {},
   "outputs": [],
   "source": []
  },
  {
   "cell_type": "markdown",
   "metadata": {},
   "source": [
    "**Ridge Regression**"
   ]
  },
  {
   "cell_type": "code",
   "execution_count": 195,
   "metadata": {},
   "outputs": [],
   "source": [
    "\n",
    "from sklearn.linear_model import Ridge"
   ]
  },
  {
   "cell_type": "code",
   "execution_count": 208,
   "metadata": {},
   "outputs": [
    {
     "data": {
      "text/plain": [
       "Ridge(alpha=0.5)"
      ]
     },
     "execution_count": 208,
     "metadata": {},
     "output_type": "execute_result"
    }
   ],
   "source": [
    "lm_r = Ridge(alpha = 0.5)\n",
    "lm_r.fit(x_train_s, y_train)"
   ]
  },
  {
   "cell_type": "code",
   "execution_count": 209,
   "metadata": {},
   "outputs": [
    {
     "data": {
      "text/plain": [
       "0.6601036266350062"
      ]
     },
     "execution_count": 209,
     "metadata": {},
     "output_type": "execute_result"
    }
   ],
   "source": [
    "lm_r.score(x_test_s, y_test)"
   ]
  },
  {
   "cell_type": "code",
   "execution_count": 229,
   "metadata": {},
   "outputs": [],
   "source": [
    "from sklearn.metrics import r2_score"
   ]
  },
  {
   "cell_type": "code",
   "execution_count": 230,
   "metadata": {},
   "outputs": [
    {
     "data": {
      "text/plain": [
       "0.6601036266350062"
      ]
     },
     "execution_count": 230,
     "metadata": {},
     "output_type": "execute_result"
    }
   ],
   "source": [
    "r2_score( y_test, lm_r.predict(x_test_s))"
   ]
  },
  {
   "cell_type": "code",
   "execution_count": 265,
   "metadata": {},
   "outputs": [],
   "source": [
    "# lets do crossvalidation\n",
    "score = cross_validate(lm_r, x_train_s, y_train, scoring = 'r2', return_train_score = True, cv = 15)"
   ]
  },
  {
   "cell_type": "code",
   "execution_count": 266,
   "metadata": {},
   "outputs": [
    {
     "data": {
      "text/plain": [
       "array([0.58745027, 0.8381822 , 0.70867895, 0.46706794, 0.73618465,\n",
       "       0.69184363, 0.70157995, 0.84586867, 0.13934592, 0.79037994,\n",
       "       0.86648555, 0.84972561, 0.30991938, 0.59685396, 0.66483148])"
      ]
     },
     "execution_count": 266,
     "metadata": {},
     "output_type": "execute_result"
    }
   ],
   "source": [
    "score['test_score']"
   ]
  },
  {
   "cell_type": "code",
   "execution_count": 267,
   "metadata": {},
   "outputs": [
    {
     "data": {
      "text/plain": [
       "0.6529598729982117"
      ]
     },
     "execution_count": 267,
     "metadata": {},
     "output_type": "execute_result"
    }
   ],
   "source": [
    "np.mean(score['test_score'])"
   ]
  },
  {
   "cell_type": "code",
   "execution_count": 232,
   "metadata": {},
   "outputs": [],
   "source": [
    "# Using grid search to try out different values of alpha\n",
    "from sklearn.model_selection import GridSearchCV"
   ]
  },
  {
   "cell_type": "code",
   "execution_count": 233,
   "metadata": {},
   "outputs": [],
   "source": [
    "grd = GridSearchCV(estimator = Ridge(),\n",
    "                    param_grid = \n",
    "                    {  'alpha' : [0.1, 1.0, 2.0, 5.0, 10],\n",
    "                    },\n",
    "                    cv = 5, \n",
    "                    scoring = 'r2',)"
   ]
  },
  {
   "cell_type": "code",
   "execution_count": 272,
   "metadata": {},
   "outputs": [],
   "source": [
    "grd_result = grd.fit(x_train_s, y_train)"
   ]
  },
  {
   "cell_type": "code",
   "execution_count": 273,
   "metadata": {},
   "outputs": [
    {
     "data": {
      "text/plain": [
       "{'alpha': 10}"
      ]
     },
     "execution_count": 273,
     "metadata": {},
     "output_type": "execute_result"
    }
   ],
   "source": [
    "grd_result.best_params_"
   ]
  },
  {
   "cell_type": "code",
   "execution_count": 239,
   "metadata": {},
   "outputs": [
    {
     "data": {
      "text/plain": [
       "0.6567552469325542"
      ]
     },
     "execution_count": 239,
     "metadata": {},
     "output_type": "execute_result"
    }
   ],
   "source": [
    "lm_r2 = Ridge(alpha = 10)\n",
    "lm_r2.fit(x_train_s, y_train)\n",
    "\n",
    "\n",
    "lm_r2.score(x_test_s, y_test)"
   ]
  },
  {
   "cell_type": "code",
   "execution_count": 244,
   "metadata": {},
   "outputs": [],
   "source": [
    "# just like GridCv, we could also use validation_curve function also in model_selection\n",
    "from sklearn.model_selection import validation_curve"
   ]
  },
  {
   "cell_type": "code",
   "execution_count": 309,
   "metadata": {},
   "outputs": [],
   "source": [
    "# creates 100 values betweeen 10^-2 and 10^8\n",
    "param = np.logspace(-2,8,100)\n",
    "\n",
    "# we will use this values as the value of our alpha"
   ]
  },
  {
   "cell_type": "code",
   "execution_count": 318,
   "metadata": {},
   "outputs": [
    {
     "name": "stderr",
     "output_type": "stream",
     "text": [
      "C:\\Users\\hp\\anaconda3\\lib\\site-packages\\sklearn\\utils\\validation.py:67: FutureWarning: Pass param_name=alpha, param_range=[1.00000000e-02 1.26185688e-02 1.59228279e-02 2.00923300e-02\n",
      " 2.53536449e-02 3.19926714e-02 4.03701726e-02 5.09413801e-02\n",
      " 6.42807312e-02 8.11130831e-02 1.02353102e-01 1.29154967e-01\n",
      " 1.62975083e-01 2.05651231e-01 2.59502421e-01 3.27454916e-01\n",
      " 4.13201240e-01 5.21400829e-01 6.57933225e-01 8.30217568e-01\n",
      " 1.04761575e+00 1.32194115e+00 1.66810054e+00 2.10490414e+00\n",
      " 2.65608778e+00 3.35160265e+00 4.22924287e+00 5.33669923e+00\n",
      " 6.73415066e+00 8.49753436e+00 1.07226722e+01 1.35304777e+01\n",
      " 1.70735265e+01 2.15443469e+01 2.71858824e+01 3.43046929e+01\n",
      " 4.32876128e+01 5.46227722e+01 6.89261210e+01 8.69749003e+01\n",
      " 1.09749877e+02 1.38488637e+02 1.74752840e+02 2.20513074e+02\n",
      " 2.78255940e+02 3.51119173e+02 4.43062146e+02 5.59081018e+02\n",
      " 7.05480231e+02 8.90215085e+02 1.12332403e+03 1.41747416e+03\n",
      " 1.78864953e+03 2.25701972e+03 2.84803587e+03 3.59381366e+03\n",
      " 4.53487851e+03 5.72236766e+03 7.22080902e+03 9.11162756e+03\n",
      " 1.14975700e+04 1.45082878e+04 1.83073828e+04 2.31012970e+04\n",
      " 2.91505306e+04 3.67837977e+04 4.64158883e+04 5.85702082e+04\n",
      " 7.39072203e+04 9.32603347e+04 1.17681195e+05 1.48496826e+05\n",
      " 1.87381742e+05 2.36448941e+05 2.98364724e+05 3.76493581e+05\n",
      " 4.75081016e+05 5.99484250e+05 7.56463328e+05 9.54548457e+05\n",
      " 1.20450354e+06 1.51991108e+06 1.91791026e+06 2.42012826e+06\n",
      " 3.05385551e+06 3.85352859e+06 4.86260158e+06 6.13590727e+06\n",
      " 7.74263683e+06 9.77009957e+06 1.23284674e+07 1.55567614e+07\n",
      " 1.96304065e+07 2.47707636e+07 3.12571585e+07 3.94420606e+07\n",
      " 4.97702356e+07 6.28029144e+07 7.92482898e+07 1.00000000e+08] as keyword args. From version 0.25 passing these as positional arguments will result in an error\n",
      "  warnings.warn(\"Pass {} as keyword args. From version 0.25 \"\n"
     ]
    }
   ],
   "source": [
    "train_scores, test_scores = validation_curve(Ridge(), x_train_s, y_train, \"alpha\", np.logspace(-2,8,100), scoring = \"r2\")"
   ]
  },
  {
   "cell_type": "code",
   "execution_count": 319,
   "metadata": {},
   "outputs": [
    {
     "data": {
      "text/plain": [
       "array([[7.33197030e-01, 6.96621301e-01, 7.09914917e-01, 7.01216258e-01,\n",
       "        7.43922955e-01],\n",
       "       [7.33197029e-01, 6.96621300e-01, 7.09914917e-01, 7.01216258e-01,\n",
       "        7.43922955e-01],\n",
       "       [7.33197029e-01, 6.96621299e-01, 7.09914915e-01, 7.01216257e-01,\n",
       "        7.43922954e-01],\n",
       "       [7.33197028e-01, 6.96621297e-01, 7.09914913e-01, 7.01216255e-01,\n",
       "        7.43922953e-01],\n",
       "       [7.33197026e-01, 6.96621294e-01, 7.09914910e-01, 7.01216253e-01,\n",
       "        7.43922951e-01],\n",
       "       [7.33197023e-01, 6.96621289e-01, 7.09914905e-01, 7.01216249e-01,\n",
       "        7.43922947e-01],\n",
       "       [7.33197018e-01, 6.96621282e-01, 7.09914897e-01, 7.01216242e-01,\n",
       "        7.43922942e-01],\n",
       "       [7.33197011e-01, 6.96621270e-01, 7.09914885e-01, 7.01216232e-01,\n",
       "        7.43922934e-01],\n",
       "       [7.33197000e-01, 6.96621250e-01, 7.09914865e-01, 7.01216217e-01,\n",
       "        7.43922922e-01],\n",
       "       [7.33196981e-01, 6.96621220e-01, 7.09914833e-01, 7.01216191e-01,\n",
       "        7.43922901e-01],\n",
       "       [7.33196952e-01, 6.96621171e-01, 7.09914782e-01, 7.01216151e-01,\n",
       "        7.43922869e-01],\n",
       "       [7.33196906e-01, 6.96621093e-01, 7.09914702e-01, 7.01216088e-01,\n",
       "        7.43922818e-01],\n",
       "       [7.33196832e-01, 6.96620970e-01, 7.09914574e-01, 7.01215986e-01,\n",
       "        7.43922736e-01],\n",
       "       [7.33196715e-01, 6.96620774e-01, 7.09914370e-01, 7.01215825e-01,\n",
       "        7.43922606e-01],\n",
       "       [7.33196530e-01, 6.96620462e-01, 7.09914046e-01, 7.01215569e-01,\n",
       "        7.43922400e-01],\n",
       "       [7.33196234e-01, 6.96619967e-01, 7.09913532e-01, 7.01215162e-01,\n",
       "        7.43922072e-01],\n",
       "       [7.33195765e-01, 6.96619181e-01, 7.09912716e-01, 7.01214516e-01,\n",
       "        7.43921551e-01],\n",
       "       [7.33195020e-01, 6.96617935e-01, 7.09911423e-01, 7.01213491e-01,\n",
       "        7.43920724e-01],\n",
       "       [7.33193840e-01, 6.96615961e-01, 7.09909375e-01, 7.01211867e-01,\n",
       "        7.43919414e-01],\n",
       "       [7.33191971e-01, 6.96612839e-01, 7.09906135e-01, 7.01209296e-01,\n",
       "        7.43917338e-01],\n",
       "       [7.33189015e-01, 6.96607907e-01, 7.09901020e-01, 7.01205232e-01,\n",
       "        7.43914056e-01],\n",
       "       [7.33184348e-01, 6.96600135e-01, 7.09892961e-01, 7.01198819e-01,\n",
       "        7.43908874e-01],\n",
       "       [7.33176997e-01, 6.96587918e-01, 7.09880299e-01, 7.01188725e-01,\n",
       "        7.43900709e-01],\n",
       "       [7.33165446e-01, 6.96568774e-01, 7.09860468e-01, 7.01172881e-01,\n",
       "        7.43887882e-01],\n",
       "       [7.33147358e-01, 6.96538895e-01, 7.09829538e-01, 7.01148100e-01,\n",
       "        7.43867794e-01],\n",
       "       [7.33119146e-01, 6.96492488e-01, 7.09781536e-01, 7.01109507e-01,\n",
       "        7.43836464e-01],\n",
       "       [7.33075356e-01, 6.96420837e-01, 7.09707492e-01, 7.01049720e-01,\n",
       "        7.43787841e-01],\n",
       "       [7.33007784e-01, 6.96311002e-01, 7.09594116e-01, 7.00957686e-01,\n",
       "        7.43712835e-01],\n",
       "       [7.32904240e-01, 6.96144072e-01, 7.09422031e-01, 7.00817087e-01,\n",
       "        7.43597965e-01],\n",
       "       [7.32746869e-01, 6.95892937e-01, 7.09163523e-01, 7.00604209e-01,\n",
       "        7.43423552e-01],\n",
       "       [7.32509935e-01, 6.95519563e-01, 7.08779816e-01, 7.00285232e-01,\n",
       "        7.43161387e-01],\n",
       "       [7.32157010e-01, 6.94971918e-01, 7.08217967e-01, 6.99812920e-01,\n",
       "        7.42771864e-01],\n",
       "       [7.31637492e-01, 6.94180737e-01, 7.07407593e-01, 6.99122782e-01,\n",
       "        7.42200640e-01],\n",
       "       [7.30882439e-01, 6.93056473e-01, 7.06257637e-01, 6.98128873e-01,\n",
       "        7.41374969e-01],\n",
       "       [7.29799674e-01, 6.91486696e-01, 7.04653318e-01, 6.96719439e-01,\n",
       "        7.40199882e-01],\n",
       "       [7.28268120e-01, 6.89334072e-01, 7.02453191e-01, 6.94752659e-01,\n",
       "        7.38554376e-01],\n",
       "       [7.26131385e-01, 6.86434773e-01, 6.99485978e-01, 6.92052752e-01,\n",
       "        7.36287645e-01],\n",
       "       [7.23190835e-01, 6.82596953e-01, 6.95546863e-01, 6.88406929e-01,\n",
       "        7.33215282e-01],\n",
       "       [7.19199038e-01, 6.77599159e-01, 6.90393568e-01, 6.83564052e-01,\n",
       "        7.29115527e-01],\n",
       "       [7.13855404e-01, 6.71189265e-01, 6.83743930e-01, 6.77236547e-01,\n",
       "        7.23726128e-01],\n",
       "       [7.06806946e-01, 6.63085805e-01, 6.75278384e-01, 6.69107741e-01,\n",
       "        7.16743398e-01],\n",
       "       [6.97657721e-01, 6.52984612e-01, 6.64651707e-01, 6.58846691e-01,\n",
       "        7.07826010e-01],\n",
       "       [6.85989775e-01, 6.40573667e-01, 6.51517061e-01, 6.46131244e-01,\n",
       "        6.96606342e-01],\n",
       "       [6.71395763e-01, 6.25557031e-01, 6.35561119e-01, 6.30677099e-01,\n",
       "        6.82710881e-01],\n",
       "       [6.53519113e-01, 6.07684783e-01, 6.16543045e-01, 6.12267095e-01,\n",
       "        6.65788257e-01],\n",
       "       [6.32093570e-01, 5.86781912e-01, 5.94325734e-01, 5.90772790e-01,\n",
       "        6.45540155e-01],\n",
       "       [6.06973196e-01, 5.62768119e-01, 5.68889282e-01, 5.66162391e-01,\n",
       "        6.21749113e-01],\n",
       "       [5.78148546e-01, 5.35664921e-01, 5.40325430e-01, 5.38495889e-01,\n",
       "        5.94300159e-01],\n",
       "       [5.45753016e-01, 5.05594731e-01, 5.08823465e-01, 5.07916886e-01,\n",
       "        5.63199402e-01],\n",
       "       [5.10069336e-01, 4.72783052e-01, 4.74664296e-01, 4.74654805e-01,\n",
       "        5.28597096e-01],\n",
       "       [4.71543583e-01, 4.37572960e-01, 4.38233689e-01, 4.39045593e-01,\n",
       "        4.90819680e-01],\n",
       "       [4.30802480e-01, 4.00449613e-01, 4.00049704e-01, 4.01564808e-01,\n",
       "        4.50403867e-01],\n",
       "       [3.88656911e-01, 3.62058539e-01, 3.60783486e-01, 3.62852476e-01,\n",
       "        4.08113144e-01],\n",
       "       [3.46071561e-01, 3.23195775e-01, 3.21248642e-01, 3.23705351e-01,\n",
       "        3.64913998e-01],\n",
       "       [3.04092085e-01, 2.84756654e-01, 2.82346633e-01, 2.85023685e-01,\n",
       "        3.21901369e-01],\n",
       "       [2.63741166e-01, 2.47648855e-01, 2.44976772e-01, 2.47720391e-01,\n",
       "        2.80184598e-01],\n",
       "       [2.25910303e-01, 2.12692542e-01, 2.09936295e-01, 2.12617851e-01,\n",
       "        2.40763233e-01],\n",
       "       [1.91276212e-01, 1.80535744e-01, 1.77839331e-01, 1.80361900e-01,\n",
       "        2.04425844e-01],\n",
       "       [1.60259686e-01, 1.51605289e-01, 1.49073652e-01, 1.51373283e-01,\n",
       "        1.71693995e-01],\n",
       "       [1.33028752e-01, 1.26098939e-01, 1.23798734e-01, 1.25841380e-01,\n",
       "        1.42815883e-01],\n",
       "       [1.09535397e-01, 1.04011339e-01, 1.01976092e-01, 1.03751921e-01,\n",
       "        1.17799413e-01],\n",
       "       [8.95699177e-02, 8.51798605e-02, 8.34173796e-02, 8.49341610e-02,\n",
       "        9.64676339e-02],\n",
       "       [7.28183865e-02, 6.93363817e-02, 6.78365216e-02, 6.91133734e-02,\n",
       "        7.85201144e-02],\n",
       "       [5.89133840e-02, 5.61548645e-02, 5.48964097e-02, 5.59586253e-02,\n",
       "        6.35886979e-02],\n",
       "       [4.74733499e-02, 4.52893929e-02, 4.42454762e-02, 4.51206726e-02,\n",
       "        5.12817115e-02],\n",
       "       [3.81297813e-02, 3.64012137e-02, 3.55431877e-02, 3.62587017e-02,\n",
       "        4.12152133e-02],\n",
       "       [3.05437884e-02, 2.91757524e-02, 2.84757054e-02, 2.90570143e-02,\n",
       "        3.30325666e-02],\n",
       "       [2.44144234e-02, 2.33316639e-02, 2.27638795e-02, 2.32337820e-02,\n",
       "        2.64148155e-02],\n",
       "       [1.94812489e-02, 1.86241759e-02, 1.81658399e-02, 1.85441565e-02,\n",
       "        2.10845075e-02],\n",
       "       [1.55232384e-02, 1.48447125e-02, 1.44761225e-02, 1.47797225e-02,\n",
       "        1.68052643e-02],\n",
       "       [1.23555921e-02, 1.18183382e-02, 1.15228128e-02, 1.17658257e-02,\n",
       "        1.33788697e-02],\n",
       "       [9.82557116e-03, 9.40011641e-03, 9.16373991e-03, 9.35785773e-03,\n",
       "        1.06411275e-02],\n",
       "       [7.80806364e-03, 7.47110111e-03, 7.28239536e-03, 7.43720283e-03,\n",
       "        8.45730653e-03],\n",
       "       [6.20130310e-03, 5.93439792e-03, 5.78397735e-03, 5.90727476e-03,\n",
       "        6.71766762e-03],\n",
       "       [4.92296640e-03, 4.71153361e-03, 4.59177519e-03, 4.68987484e-03,\n",
       "        5.33334449e-03],\n",
       "       [3.90674607e-03, 3.73924367e-03, 3.64398833e-03, 3.72197576e-03,\n",
       "        4.23270014e-03],\n",
       "       [3.09941595e-03, 2.96670791e-03, 2.89099973e-03, 2.95295795e-03,\n",
       "        3.35819292e-03],\n",
       "       [2.45836499e-03, 2.35321824e-03, 2.29308222e-03, 2.34228038e-03,\n",
       "        2.66373342e-03],\n",
       "       [1.94955246e-03, 1.86623948e-03, 1.81849547e-03, 1.85754542e-03,\n",
       "        2.11248724e-03],\n",
       "       [1.54582971e-03, 1.47981447e-03, 1.44192325e-03, 1.47290822e-03,\n",
       "        1.67506835e-03],\n",
       "       [1.22557336e-03, 1.17326302e-03, 1.14320034e-03, 1.16777964e-03,\n",
       "        1.32806547e-03],\n",
       "       [9.71578880e-04, 9.30127366e-04, 9.06281494e-04, 9.25775406e-04,\n",
       "        1.05284783e-03],\n",
       "       [7.70168873e-04, 7.37321488e-04, 7.18410391e-04, 7.33868563e-04,\n",
       "        8.34601850e-04],\n",
       "       [6.10477123e-04, 5.84447537e-04, 5.69452236e-04, 5.81708594e-04,\n",
       "        6.61557207e-04],\n",
       "       [4.83875273e-04, 4.63248156e-04, 4.51359244e-04, 4.61075981e-04,\n",
       "        5.24366708e-04],\n",
       "       [3.83514765e-04, 3.67168684e-04, 3.57743537e-04, 3.65446262e-04,\n",
       "        4.15610660e-04],\n",
       "       [3.03961486e-04, 2.91007847e-04, 2.83536450e-04, 2.89642222e-04,\n",
       "        3.29401411e-04],\n",
       "       [2.40904753e-04, 2.30639435e-04, 2.24717144e-04, 2.29556802e-04,\n",
       "        2.61068271e-04],\n",
       "       [1.90925757e-04, 1.82790807e-04, 1.78096652e-04, 1.81932587e-04,\n",
       "        2.06906766e-04],\n",
       "       [1.51313475e-04, 1.44866752e-04, 1.41146187e-04, 1.44186471e-04,\n",
       "        1.63979261e-04],\n",
       "       [1.19918414e-04, 1.14809552e-04, 1.11860736e-04, 1.14270341e-04,\n",
       "        1.29956530e-04],\n",
       "       [9.50364788e-05, 9.09878271e-05, 8.86507330e-05, 9.05604500e-05,\n",
       "        1.02991952e-04],\n",
       "       [7.53167855e-05, 7.21083198e-05, 7.02560819e-05, 7.17695917e-05,\n",
       "        8.16216366e-05],\n",
       "       [5.96885213e-05, 5.71458807e-05, 5.56779318e-05, 5.68774200e-05,\n",
       "        6.46851807e-05],\n",
       "       [4.73029218e-05, 4.52879311e-05, 4.41245551e-05, 4.50751652e-05,\n",
       "        5.12627973e-05],\n",
       "       [3.74872524e-05, 3.58904120e-05, 3.49684240e-05, 3.57217890e-05,\n",
       "        4.06254541e-05],\n",
       "       [2.97083178e-05, 2.84428525e-05, 2.77121724e-05, 2.83092155e-05,\n",
       "        3.21953318e-05],\n",
       "       [2.35435293e-05, 2.25406718e-05, 2.19616076e-05, 2.24347630e-05,\n",
       "        2.55144723e-05],\n",
       "       [1.86579672e-05, 1.78632211e-05, 1.74043146e-05, 1.77792878e-05,\n",
       "        2.02199226e-05],\n",
       "       [1.47861970e-05, 1.41563752e-05, 1.37926946e-05, 1.40898580e-05,\n",
       "        1.60240306e-05]])"
      ]
     },
     "execution_count": 319,
     "metadata": {},
     "output_type": "execute_result"
    }
   ],
   "source": [
    "train_scores"
   ]
  },
  {
   "cell_type": "code",
   "execution_count": 297,
   "metadata": {},
   "outputs": [
    {
     "data": {
      "text/plain": [
       "array([[ 7.42126815e-01,  6.35608428e-01,  6.73680141e-01,\n",
       "         8.33804377e-01,  4.69974537e-01],\n",
       "       [ 7.42127349e-01,  6.35606888e-01,  6.73680313e-01,\n",
       "         8.33804442e-01,  4.69982258e-01],\n",
       "       [ 7.42128024e-01,  6.35604944e-01,  6.73680530e-01,\n",
       "         8.33804524e-01,  4.69991999e-01],\n",
       "       [ 7.42128875e-01,  6.35602491e-01,  6.73680803e-01,\n",
       "         8.33804626e-01,  4.70004291e-01],\n",
       "       [ 7.42129948e-01,  6.35599396e-01,  6.73681148e-01,\n",
       "         8.33804755e-01,  4.70019799e-01],\n",
       "       [ 7.42131301e-01,  6.35595490e-01,  6.73681582e-01,\n",
       "         8.33804917e-01,  4.70039366e-01],\n",
       "       [ 7.42133007e-01,  6.35590561e-01,  6.73682130e-01,\n",
       "         8.33805119e-01,  4.70064052e-01],\n",
       "       [ 7.42135156e-01,  6.35584341e-01,  6.73682819e-01,\n",
       "         8.33805372e-01,  4.70095196e-01],\n",
       "       [ 7.42137864e-01,  6.35576491e-01,  6.73683688e-01,\n",
       "         8.33805688e-01,  4.70134483e-01],\n",
       "       [ 7.42141275e-01,  6.35566584e-01,  6.73684781e-01,\n",
       "         8.33806079e-01,  4.70184041e-01],\n",
       "       [ 7.42145569e-01,  6.35554080e-01,  6.73686156e-01,\n",
       "         8.33806563e-01,  4.70246548e-01],\n",
       "       [ 7.42150970e-01,  6.35538300e-01,  6.73687883e-01,\n",
       "         8.33807158e-01,  4.70325379e-01],\n",
       "       [ 7.42157759e-01,  6.35518382e-01,  6.73690052e-01,\n",
       "         8.33807883e-01,  4.70424782e-01],\n",
       "       [ 7.42166283e-01,  6.35493239e-01,  6.73692770e-01,\n",
       "         8.33808758e-01,  4.70550103e-01],\n",
       "       [ 7.42176972e-01,  6.35461500e-01,  6.73696172e-01,\n",
       "         8.33809797e-01,  4.70708062e-01],\n",
       "       [ 7.42190354e-01,  6.35421429e-01,  6.73700419e-01,\n",
       "         8.33811007e-01,  4.70907101e-01],\n",
       "       [ 7.42207071e-01,  6.35370831e-01,  6.73705706e-01,\n",
       "         8.33812374e-01,  4.71157813e-01],\n",
       "       [ 7.42227898e-01,  6.35306932e-01,  6.73712264e-01,\n",
       "         8.33813843e-01,  4.71473466e-01],\n",
       "       [ 7.42253758e-01,  6.35226220e-01,  6.73720359e-01,\n",
       "         8.33815295e-01,  4.71870649e-01],\n",
       "       [ 7.42285724e-01,  6.35124244e-01,  6.73730292e-01,\n",
       "         8.33816493e-01,  4.72370059e-01],\n",
       "       [ 7.42325015e-01,  6.34995368e-01,  6.73742379e-01,\n",
       "         8.33817006e-01,  4.72997433e-01],\n",
       "       [ 7.42372956e-01,  6.34832438e-01,  6.73756935e-01,\n",
       "         8.33816088e-01,  4.73784659e-01],\n",
       "       [ 7.42430892e-01,  6.34626376e-01,  6.73774215e-01,\n",
       "         8.33812486e-01,  4.74771061e-01],\n",
       "       [ 7.42500022e-01,  6.34365645e-01,  6.73794332e-01,\n",
       "         8.33804142e-01,  4.76004846e-01],\n",
       "       [ 7.42581117e-01,  6.34035578e-01,  6.73817112e-01,\n",
       "         8.33787744e-01,  4.77544666e-01],\n",
       "       [ 7.42674042e-01,  6.33617520e-01,  6.73841869e-01,\n",
       "         8.33758053e-01,  4.79461223e-01],\n",
       "       [ 7.42777025e-01,  6.33087749e-01,  6.73867059e-01,\n",
       "         8.33706918e-01,  4.81838740e-01],\n",
       "       [ 7.42885558e-01,  6.32416126e-01,  6.73889763e-01,\n",
       "         8.33621863e-01,  4.84776078e-01],\n",
       "       [ 7.42990828e-01,  6.31564448e-01,  6.73904949e-01,\n",
       "         8.33484132e-01,  4.88387103e-01],\n",
       "       [ 7.43077580e-01,  6.30484465e-01,  6.73904437e-01,\n",
       "         8.33266056e-01,  4.92799843e-01],\n",
       "       [ 7.43121363e-01,  6.29115586e-01,  6.73875487e-01,\n",
       "         8.32927685e-01,  4.98153767e-01],\n",
       "       [ 7.43085191e-01,  6.27382322e-01,  6.73798904e-01,\n",
       "         8.32412661e-01,  5.04594427e-01],\n",
       "       [ 7.42915777e-01,  6.25191588e-01,  6.73646492e-01,\n",
       "         8.31643499e-01,  5.12264612e-01],\n",
       "       [ 7.42539611e-01,  6.22430062e-01,  6.73377602e-01,\n",
       "         8.30516539e-01,  5.21291150e-01],\n",
       "       [ 7.41859211e-01,  6.18961889e-01,  6.72934318e-01,\n",
       "         8.28896978e-01,  5.31766600e-01],\n",
       "       [ 7.40749693e-01,  6.14627122e-01,  6.72234651e-01,\n",
       "         8.26614387e-01,  5.43725448e-01],\n",
       "       [ 7.39055543e-01,  6.09241452e-01,  6.71163037e-01,\n",
       "         8.23458994e-01,  5.57115102e-01],\n",
       "       [ 7.36587026e-01,  6.02598000e-01,  6.69557785e-01,\n",
       "         8.19178873e-01,  5.71763330e-01],\n",
       "       [ 7.33115587e-01,  5.94472188e-01,  6.67196174e-01,\n",
       "         8.13478241e-01,  5.87345787e-01],\n",
       "       [ 7.28368150e-01,  5.84630862e-01,  6.63779873e-01,\n",
       "         8.06017568e-01,  6.03359766e-01],\n",
       "       [ 7.22021683e-01,  5.72846745e-01,  6.58925776e-01,\n",
       "         7.96417197e-01,  6.19112534e-01],\n",
       "       [ 7.13701359e-01,  5.58918542e-01,  6.52169194e-01,\n",
       "         7.84267136e-01,  6.33733237e-01],\n",
       "       [ 7.02987091e-01,  5.42695424e-01,  6.42986051e-01,\n",
       "         7.69145844e-01,  6.46214911e-01],\n",
       "       [ 6.89432709e-01,  5.24101992e-01,  6.30836951e-01,\n",
       "         7.50649307e-01,  6.55486725e-01],\n",
       "       [ 6.72598932e-01,  5.03156909e-01,  6.15228842e-01,\n",
       "         7.28428369e-01,  6.60506890e-01],\n",
       "       [ 6.52096552e-01,  4.79977202e-01,  5.95782237e-01,\n",
       "         7.02228599e-01,  6.60357325e-01],\n",
       "       [ 6.27632644e-01,  4.54763065e-01,  5.72288000e-01,\n",
       "         6.71925303e-01,  6.54318218e-01],\n",
       "       [ 5.99052967e-01,  4.27766029e-01,  5.44741249e-01,\n",
       "         6.37548729e-01,  6.41908983e-01],\n",
       "       [ 5.66377991e-01,  3.99253462e-01,  5.13350019e-01,\n",
       "         5.99300160e-01,  6.22900276e-01],\n",
       "       [ 5.29834068e-01,  3.69487963e-01,  4.78526556e-01,\n",
       "         5.57564014e-01,  5.97318490e-01],\n",
       "       [ 4.89879876e-01,  3.38735116e-01,  4.40871895e-01,\n",
       "         5.12919219e-01,  5.65465614e-01],\n",
       "       [ 4.47220623e-01,  3.07297642e-01,  4.01157410e-01,\n",
       "         4.66144627e-01,  5.27958087e-01],\n",
       "       [ 4.02794676e-01,  2.75556629e-01,  3.60296536e-01,\n",
       "         4.18204230e-01,  4.85760160e-01],\n",
       "       [ 3.57718272e-01,  2.43993115e-01,  3.19295497e-01,\n",
       "         3.70197502e-01,  4.40171904e-01],\n",
       "       [ 3.13187129e-01,  2.13171523e-01,  2.79178680e-01,\n",
       "         3.23271754e-01,  3.92743829e-01],\n",
       "       [ 2.70352487e-01,  1.83685553e-01,  2.40898086e-01,\n",
       "         2.78511043e-01,  3.45123381e-01],\n",
       "       [ 2.30201637e-01,  1.56084942e-01,  2.05247117e-01,\n",
       "         2.36828677e-01,  2.98871519e-01],\n",
       "       [ 1.93471728e-01,  1.30808151e-01,  1.72799667e-01,\n",
       "         1.98890062e-01,  2.55300047e-01],\n",
       "       [ 1.60612384e-01,  1.08140080e-01,  1.43886484e-01,\n",
       "         1.65080749e-01,  2.15368256e-01],\n",
       "       [ 1.31795931e-01,  8.82014503e-02,  1.18608123e-01,\n",
       "         1.35518953e-01,  1.79651826e-01],\n",
       "       [ 1.06961906e-01,  7.09651661e-02,  9.68742881e-02,\n",
       "         1.10100183e-01,  1.48373303e-01],\n",
       "       [ 8.58783161e-02,  5.62890534e-02,  7.84558269e-02,\n",
       "         8.85574551e-02,  1.21470871e-01],\n",
       "       [ 6.82043860e-02,  4.39539992e-02,  6.30372673e-02,\n",
       "         7.05225632e-02,  9.86812099e-02],\n",
       "       [ 5.35449378e-02,  3.36994246e-02,  5.02620303e-02,\n",
       "         5.55789551e-02,  7.96183424e-02],\n",
       "       [ 4.14919743e-02,  2.52517657e-02,  3.97668144e-02,\n",
       "         4.33020119e-02,  6.38384226e-02],\n",
       "       [ 3.16530753e-02,  1.83447136e-02,  3.12049061e-02,\n",
       "         3.32863761e-02,  5.08872102e-02],\n",
       "       [ 2.36684472e-02,  1.27318878e-02,  2.42599952e-02,\n",
       "         2.51621634e-02,  4.03312443e-02],\n",
       "       [ 1.72193107e-02,  8.19348357e-03,  1.86527632e-02,\n",
       "         1.86027042e-02,  3.17757793e-02],\n",
       "       [ 1.20302833e-02,  4.53860435e-03,  1.41424768e-02,\n",
       "         1.33264313e-02,  2.48730355e-02],\n",
       "       [ 7.86797452e-03,  1.60478958e-03,  1.05254504e-02,\n",
       "         9.09509544e-03,  1.93239692e-02],\n",
       "       [ 4.53745506e-03, -7.44090178e-04,  7.63177169e-03,\n",
       "         5.70994353e-03,  1.48760924e-02],\n",
       "       [ 1.87774904e-03, -2.62073993e-03,  5.32125101e-03,\n",
       "         3.00698590e-03,  1.13191700e-02],\n",
       "       [-2.42916215e-04, -4.11760377e-03,  3.47920929e-03,\n",
       "         8.52071600e-04,  8.48001373e-03],\n",
       "       [-1.93166937e-03, -5.30995590e-03,  2.01246304e-03,\n",
       "        -8.63806447e-04,  6.21713367e-03],\n",
       "       [-3.27513589e-03, -6.25873996e-03,  8.45693002e-04,\n",
       "        -2.22875846e-03,  4.41568332e-03],\n",
       "       [-4.34306611e-03, -7.01307578e-03, -8.17287740e-05,\n",
       "        -3.31370899e-03,  2.98291365e-03],\n",
       "       [-5.19143552e-03, -7.61241342e-03, -8.18445365e-04,\n",
       "        -4.17556262e-03,  1.84421891e-03],\n",
       "       [-5.86504718e-03, -8.08834831e-03, -1.40338364e-03,\n",
       "        -4.85985771e-03,  9.39775025e-04],\n",
       "       [-6.39968723e-03, -8.46612944e-03, -1.86763167e-03,\n",
       "        -5.40296259e-03,  2.21729081e-04],\n",
       "       [-6.82389275e-03, -8.76589900e-03, -2.23597731e-03,\n",
       "        -5.83387535e-03, -3.48121755e-04],\n",
       "       [-7.16039071e-03, -9.00370310e-03, -2.52815980e-03,\n",
       "        -6.17568804e-03, -8.00229460e-04],\n",
       "       [-7.42726228e-03, -9.19231090e-03, -2.75988229e-03,\n",
       "        -6.44677105e-03, -1.15883824e-03],\n",
       "       [-7.63888084e-03, -9.34187497e-03, -2.94362707e-03,\n",
       "        -6.66172686e-03, -1.44323148e-03],\n",
       "       [-7.80666502e-03, -9.46046205e-03, -3.08930995e-03,\n",
       "        -6.83215560e-03, -1.66873517e-03],\n",
       "       [-7.93968145e-03, -9.55447805e-03, -3.20480407e-03,\n",
       "        -6.96726769e-03, -1.84752276e-03],\n",
       "       [-8.04512631e-03, -9.62900786e-03, -3.29635816e-03,\n",
       "        -7.07437327e-03, -1.98925898e-03],\n",
       "       [-8.12870942e-03, -9.68808638e-03, -3.36893014e-03,\n",
       "        -7.15927244e-03, -2.10161401e-03],\n",
       "       [-8.19496010e-03, -9.73491446e-03, -3.42645285e-03,\n",
       "        -7.22656604e-03, -2.19067323e-03],\n",
       "       [-8.24747046e-03, -9.77203080e-03, -3.47204529e-03,\n",
       "        -7.27990289e-03, -2.26126357e-03],\n",
       "       [-8.28908895e-03, -9.80144856e-03, -3.50818073e-03,\n",
       "        -7.32217635e-03, -2.31721301e-03],\n",
       "       [-8.32207399e-03, -9.82476395e-03, -3.53682008e-03,\n",
       "        -7.35568043e-03, -2.36155689e-03],\n",
       "       [-8.34821601e-03, -9.84324246e-03, -3.55951793e-03,\n",
       "        -7.38223378e-03, -2.39670174e-03],\n",
       "       [-8.36893433e-03, -9.85788728e-03, -3.57750664e-03,\n",
       "        -7.40327807e-03, -2.42455536e-03],\n",
       "       [-8.38535402e-03, -9.86949362e-03, -3.59176303e-03,\n",
       "        -7.41995608e-03, -2.44663010e-03],\n",
       "       [-8.39836682e-03, -9.87869182e-03, -3.60306138e-03,\n",
       "        -7.43317360e-03, -2.46412471e-03],\n",
       "       [-8.40867954e-03, -9.88598145e-03, -3.61201540e-03,\n",
       "        -7.44364855e-03, -2.47798937e-03],\n",
       "       [-8.41685239e-03, -9.89175851e-03, -3.61911146e-03,\n",
       "        -7.45194997e-03, -2.48897718e-03],\n",
       "       [-8.42332935e-03, -9.89633681e-03, -3.62473507e-03,\n",
       "        -7.45852882e-03, -2.49768502e-03],\n",
       "       [-8.42846231e-03, -9.89996510e-03, -3.62919175e-03,\n",
       "        -7.46374251e-03, -2.50458595e-03],\n",
       "       [-8.43253013e-03, -9.90284049e-03, -3.63272363e-03,\n",
       "        -7.46787433e-03, -2.51005490e-03]])"
      ]
     },
     "execution_count": 297,
     "metadata": {},
     "output_type": "execute_result"
    }
   ],
   "source": [
    "test_scores"
   ]
  },
  {
   "cell_type": "code",
   "execution_count": 320,
   "metadata": {},
   "outputs": [],
   "source": [
    "train_mean = np.mean(train_scores, axis = 1)\n",
    "test_mean = np.mean(test_scores, axis = 1)"
   ]
  },
  {
   "cell_type": "code",
   "execution_count": 321,
   "metadata": {},
   "outputs": [
    {
     "data": {
      "text/plain": [
       "array([ 0.67715701,  0.67715792,  0.67715906,  0.6771605 ,  0.67716232,\n",
       "        0.67716462,  0.67716751,  0.67717115,  0.67717575,  0.67718153,\n",
       "        0.67718882,  0.677198  ,  0.67720955,  0.67722406,  0.67724228,\n",
       "        0.67726514,  0.67729376,  0.67732953,  0.67737411,  0.67742949,\n",
       "        0.67749801,  0.67758232,  0.67768535,  0.67781017,  0.67795964,\n",
       "        0.67813596,  0.67833982,  0.6785691 ,  0.67881709,  0.67906994,\n",
       "        0.67930335,  0.67947853,  0.67953764,  0.67939883,  0.67895147,\n",
       "        0.67805172,  0.67651864,  0.67413111,  0.67062582,  0.66569773,\n",
       "        0.6590052 ,  0.65018281,  0.63886372,  0.62471064,  0.60745001,\n",
       "        0.58690046,  0.56298791,  0.53574602,  0.50531041,  0.47192062,\n",
       "        0.43593851,  0.39787819,  0.35842715,  0.31843412,  0.27885125,\n",
       "        0.24063865,  0.20465771,  0.17158305,  0.14185372,  0.11566804,\n",
       "        0.09301323,  0.07371475,  0.0574908 ,  0.04400171,  0.032889  ,\n",
       "        0.02380287,  0.01641938,  0.0104494 ,  0.00564176,  0.00178271,\n",
       "       -0.00130687, -0.00377525, -0.00574407, -0.00731234, -0.00856024,\n",
       "       -0.00955238, -0.01034065, -0.01096661, -0.01146348, -0.01185774,\n",
       "       -0.01217051, -0.01241856, -0.01261527, -0.01277124, -0.01289489,\n",
       "       -0.01299291, -0.01307061, -0.0131322 , -0.01318102, -0.01321971,\n",
       "       -0.01325037, -0.01327467, -0.01329393, -0.0133092 , -0.0133213 ,\n",
       "       -0.01333088, -0.01333848, -0.0133445 , -0.01334927, -0.01335306])"
      ]
     },
     "execution_count": 321,
     "metadata": {},
     "output_type": "execute_result"
    }
   ],
   "source": [
    "test_mean"
   ]
  },
  {
   "cell_type": "code",
   "execution_count": 300,
   "metadata": {},
   "outputs": [
    {
     "data": {
      "text/plain": [
       "array([7.38418272e-01, 7.38418271e-01, 7.38418270e-01, 7.38418269e-01,\n",
       "       7.38418267e-01, 7.38418264e-01, 7.38418260e-01, 7.38418252e-01,\n",
       "       7.38418240e-01, 7.38418221e-01, 7.38418190e-01, 7.38418142e-01,\n",
       "       7.38418065e-01, 7.38417942e-01, 7.38417747e-01, 7.38417437e-01,\n",
       "       7.38416945e-01, 7.38416164e-01, 7.38414927e-01, 7.38412967e-01,\n",
       "       7.38409869e-01, 7.38404979e-01, 7.38397279e-01, 7.38385186e-01,\n",
       "       7.38366258e-01, 7.38336757e-01, 7.38291008e-01, 7.38220491e-01,\n",
       "       7.38112584e-01, 7.37948865e-01, 7.37702909e-01, 7.37337522e-01,\n",
       "       7.36801407e-01, 7.36025262e-01, 7.34917311e-01, 7.33358187e-01,\n",
       "       7.31195062e-01, 7.28235009e-01, 7.24238096e-01, 7.18911670e-01,\n",
       "       7.11908701e-01, 7.02834157e-01, 6.91263260e-01, 6.76773148e-01,\n",
       "       6.58984828e-01, 6.37607322e-01, 6.12473748e-01, 5.83562740e-01,\n",
       "       5.51007011e-01, 5.15098220e-01, 4.76296593e-01, 4.35243403e-01,\n",
       "       3.92761379e-01, 3.49823784e-01, 3.07482898e-01, 2.66767796e-01,\n",
       "       2.28577133e-01, 1.93595410e-01, 1.62250955e-01, 1.34718044e-01,\n",
       "       1.10952917e-01, 9.07479151e-02, 7.37891443e-02, 5.97076601e-02,\n",
       "       4.81193406e-02, 3.86525626e-02, 3.09651341e-02, 2.47528847e-02,\n",
       "       1.97523965e-02, 1.57399866e-02, 1.25285512e-02, 9.96339408e-03,\n",
       "       7.91776482e-03, 6.28854228e-03, 4.99229325e-03, 3.96180709e-03,\n",
       "       3.14312691e-03, 2.49305308e-03, 1.97707233e-03, 1.56765770e-03,\n",
       "       1.24288360e-03, 9.85304447e-04, 7.81050865e-04, 6.19103878e-04,\n",
       "       4.90713691e-04, 3.88935264e-04, 3.08257874e-04, 2.44310028e-04,\n",
       "       1.93624669e-04, 1.53452499e-04, 1.21613669e-04, 9.63800108e-05,\n",
       "       7.63815567e-05, 6.05323627e-05, 4.79716694e-05, 3.80172346e-05,\n",
       "       3.01283267e-05, 2.38763836e-05, 1.89217513e-05, 1.49952432e-05])"
      ]
     },
     "execution_count": 300,
     "metadata": {},
     "output_type": "execute_result"
    }
   ],
   "source": [
    "train_mean"
   ]
  },
  {
   "cell_type": "code",
   "execution_count": 322,
   "metadata": {},
   "outputs": [
    {
     "data": {
      "text/plain": [
       "0.679537636528121"
      ]
     },
     "execution_count": 322,
     "metadata": {},
     "output_type": "execute_result"
    }
   ],
   "source": [
    "max(test_mean)"
   ]
  },
  {
   "cell_type": "code",
   "execution_count": 323,
   "metadata": {},
   "outputs": [
    {
     "data": {
      "text/plain": [
       "(array([32], dtype=int64),)"
      ]
     },
     "execution_count": 323,
     "metadata": {},
     "output_type": "execute_result"
    }
   ],
   "source": [
    "np.where(test_mean == max(test_mean))"
   ]
  },
  {
   "cell_type": "code",
   "execution_count": 325,
   "metadata": {},
   "outputs": [
    {
     "data": {
      "text/plain": [
       "17.073526474706906"
      ]
     },
     "execution_count": 325,
     "metadata": {},
     "output_type": "execute_result"
    }
   ],
   "source": [
    "param[32]"
   ]
  },
  {
   "cell_type": "code",
   "execution_count": 310,
   "metadata": {},
   "outputs": [
    {
     "data": {
      "text/plain": [
       "<seaborn.axisgrid.JointGrid at 0x1f9e37f51f0>"
      ]
     },
     "execution_count": 310,
     "metadata": {},
     "output_type": "execute_result"
    },
    {
     "data": {
      "image/png": "[encoded data removed]",
      "text/plain": [
       "<Figure size 432x432 with 3 Axes>"
      ]
     },
     "metadata": {
      "needs_background": "light"
     },
     "output_type": "display_data"
    }
   ],
   "source": [
    "# how about we look at a plot\n",
    "sns.jointplot(x = np.log(param), y = test_mean)\n",
    "\n",
    "# using log since param is in exponential form...for better xlabel view"
   ]
  },
  {
   "cell_type": "code",
   "execution_count": null,
   "metadata": {},
   "outputs": [],
   "source": [
    "train_mean = list"
   ]
  },
  {
   "cell_type": "code",
   "execution_count": 326,
   "metadata": {},
   "outputs": [
    {
     "data": {
      "text/plain": [
       "0.694816784473469"
      ]
     },
     "execution_count": 326,
     "metadata": {},
     "output_type": "execute_result"
    }
   ],
   "source": [
    "lm_r2 = Ridge(alpha = param[32])\n",
    "lm_r2.fit(x_train_s, y_train)\n",
    "\n",
    "\n",
    "lm_r2.score(x_test_s, y_test)"
   ]
  },
  {
   "cell_type": "markdown",
   "metadata": {},
   "source": [
    "### Lasso Technique"
   ]
  },
  {
   "cell_type": "code",
   "execution_count": 328,
   "metadata": {},
   "outputs": [],
   "source": [
    "from sklearn.linear_model import Lasso"
   ]
  },
  {
   "cell_type": "code",
   "execution_count": 370,
   "metadata": {},
   "outputs": [
    {
     "data": {
      "text/plain": [
       "Lasso(alpha=0.5)"
      ]
     },
     "execution_count": 370,
     "metadata": {},
     "output_type": "execute_result"
    }
   ],
   "source": [
    "lm_l = Lasso(alpha = 0.5)\n",
    "lm_l.fit(x_train_s, y_train)"
   ]
  },
  {
   "cell_type": "code",
   "execution_count": 371,
   "metadata": {},
   "outputs": [
    {
     "data": {
      "text/plain": [
       "0.6436685622895042"
      ]
     },
     "execution_count": 371,
     "metadata": {},
     "output_type": "execute_result"
    }
   ],
   "source": [
    "lm_l.score(x_test_s, y_test )"
   ]
  },
  {
   "cell_type": "code",
   "execution_count": 372,
   "metadata": {},
   "outputs": [
    {
     "name": "stderr",
     "output_type": "stream",
     "text": [
      "C:\\Users\\hp\\anaconda3\\lib\\site-packages\\sklearn\\utils\\validation.py:67: FutureWarning: Pass param_name=alpha, param_range=[1.00000000e-02 1.26185688e-02 1.59228279e-02 2.00923300e-02\n",
      " 2.53536449e-02 3.19926714e-02 4.03701726e-02 5.09413801e-02\n",
      " 6.42807312e-02 8.11130831e-02 1.02353102e-01 1.29154967e-01\n",
      " 1.62975083e-01 2.05651231e-01 2.59502421e-01 3.27454916e-01\n",
      " 4.13201240e-01 5.21400829e-01 6.57933225e-01 8.30217568e-01\n",
      " 1.04761575e+00 1.32194115e+00 1.66810054e+00 2.10490414e+00\n",
      " 2.65608778e+00 3.35160265e+00 4.22924287e+00 5.33669923e+00\n",
      " 6.73415066e+00 8.49753436e+00 1.07226722e+01 1.35304777e+01\n",
      " 1.70735265e+01 2.15443469e+01 2.71858824e+01 3.43046929e+01\n",
      " 4.32876128e+01 5.46227722e+01 6.89261210e+01 8.69749003e+01\n",
      " 1.09749877e+02 1.38488637e+02 1.74752840e+02 2.20513074e+02\n",
      " 2.78255940e+02 3.51119173e+02 4.43062146e+02 5.59081018e+02\n",
      " 7.05480231e+02 8.90215085e+02 1.12332403e+03 1.41747416e+03\n",
      " 1.78864953e+03 2.25701972e+03 2.84803587e+03 3.59381366e+03\n",
      " 4.53487851e+03 5.72236766e+03 7.22080902e+03 9.11162756e+03\n",
      " 1.14975700e+04 1.45082878e+04 1.83073828e+04 2.31012970e+04\n",
      " 2.91505306e+04 3.67837977e+04 4.64158883e+04 5.85702082e+04\n",
      " 7.39072203e+04 9.32603347e+04 1.17681195e+05 1.48496826e+05\n",
      " 1.87381742e+05 2.36448941e+05 2.98364724e+05 3.76493581e+05\n",
      " 4.75081016e+05 5.99484250e+05 7.56463328e+05 9.54548457e+05\n",
      " 1.20450354e+06 1.51991108e+06 1.91791026e+06 2.42012826e+06\n",
      " 3.05385551e+06 3.85352859e+06 4.86260158e+06 6.13590727e+06\n",
      " 7.74263683e+06 9.77009957e+06 1.23284674e+07 1.55567614e+07\n",
      " 1.96304065e+07 2.47707636e+07 3.12571585e+07 3.94420606e+07\n",
      " 4.97702356e+07 6.28029144e+07 7.92482898e+07 1.00000000e+08] as keyword args. From version 0.25 passing these as positional arguments will result in an error\n",
      "  warnings.warn(\"Pass {} as keyword args. From version 0.25 \"\n"
     ]
    }
   ],
   "source": [
    "train_scores2, test_scores2 = validation_curve(Lasso(), x_train_s, y_train, \"alpha\", np.logspace(-2,8,100), scoring = \"r2\")"
   ]
  },
  {
   "cell_type": "code",
   "execution_count": 373,
   "metadata": {},
   "outputs": [
    {
     "data": {
      "text/plain": [
       "0.6815504467146309"
      ]
     },
     "execution_count": 373,
     "metadata": {},
     "output_type": "execute_result"
    }
   ],
   "source": [
    "test_mean2 = np.mean(test_scores2, axis = 1)\n",
    "max(test_mean2)"
   ]
  },
  {
   "cell_type": "code",
   "execution_count": 374,
   "metadata": {},
   "outputs": [
    {
     "data": {
      "text/plain": [
       "array([ 0.6780121 ,  0.67820577,  0.67839427,  0.67862424,  0.67889765,\n",
       "        0.67926274,  0.67969759,  0.6801897 ,  0.68070614,  0.68122798,\n",
       "        0.68155045,  0.68146741,  0.68084301,  0.67885506,  0.67504017,\n",
       "        0.6697527 ,  0.6622934 ,  0.65570189,  0.65274178,  0.64809779,\n",
       "        0.639746  ,  0.6257302 ,  0.60248749,  0.56539233,  0.51269015,\n",
       "        0.44154596,  0.33042427,  0.18217345, -0.00937996, -0.0133675 ,\n",
       "       -0.0133675 , -0.0133675 , -0.0133675 , -0.0133675 , -0.0133675 ,\n",
       "       -0.0133675 , -0.0133675 , -0.0133675 , -0.0133675 , -0.0133675 ,\n",
       "       -0.0133675 , -0.0133675 , -0.0133675 , -0.0133675 , -0.0133675 ,\n",
       "       -0.0133675 , -0.0133675 , -0.0133675 , -0.0133675 , -0.0133675 ,\n",
       "       -0.0133675 , -0.0133675 , -0.0133675 , -0.0133675 , -0.0133675 ,\n",
       "       -0.0133675 , -0.0133675 , -0.0133675 , -0.0133675 , -0.0133675 ,\n",
       "       -0.0133675 , -0.0133675 , -0.0133675 , -0.0133675 , -0.0133675 ,\n",
       "       -0.0133675 , -0.0133675 , -0.0133675 , -0.0133675 , -0.0133675 ,\n",
       "       -0.0133675 , -0.0133675 , -0.0133675 , -0.0133675 , -0.0133675 ,\n",
       "       -0.0133675 , -0.0133675 , -0.0133675 , -0.0133675 , -0.0133675 ,\n",
       "       -0.0133675 , -0.0133675 , -0.0133675 , -0.0133675 , -0.0133675 ,\n",
       "       -0.0133675 , -0.0133675 , -0.0133675 , -0.0133675 , -0.0133675 ,\n",
       "       -0.0133675 , -0.0133675 , -0.0133675 , -0.0133675 , -0.0133675 ,\n",
       "       -0.0133675 , -0.0133675 , -0.0133675 , -0.0133675 , -0.0133675 ])"
      ]
     },
     "execution_count": 374,
     "metadata": {},
     "output_type": "execute_result"
    }
   ],
   "source": [
    "test_mean2"
   ]
  },
  {
   "cell_type": "code",
   "execution_count": 375,
   "metadata": {},
   "outputs": [
    {
     "data": {
      "text/plain": [
       "(array([10], dtype=int64),)"
      ]
     },
     "execution_count": 375,
     "metadata": {},
     "output_type": "execute_result"
    }
   ],
   "source": [
    "np.where(test_mean2 == max(test_mean2))"
   ]
  },
  {
   "cell_type": "code",
   "execution_count": 379,
   "metadata": {},
   "outputs": [
    {
     "data": {
      "text/plain": [
       "0.6959017428122183"
      ]
     },
     "execution_count": 379,
     "metadata": {},
     "output_type": "execute_result"
    }
   ],
   "source": [
    "lm_l_best = Lasso(alpha = param[10])\n",
    "lm_l_best.fit(x_train_s, y_train)\n",
    "\n",
    "lm_l_best.score(x_test_s, y_test )"
   ]
  },
  {
   "cell_type": "code",
   "execution_count": 366,
   "metadata": {},
   "outputs": [
    {
     "data": {
      "text/plain": [
       "0.10235310218990264"
      ]
     },
     "execution_count": 366,
     "metadata": {},
     "output_type": "execute_result"
    }
   ],
   "source": [
    "* Nice"
   ]
  },
  {
   "cell_type": "code",
   "execution_count": null,
   "metadata": {},
   "outputs": [],
   "source": [
    "## How about we check if there is an heterodacedity proble\n",
    "## thus we view a plot of residuals over target variable y\n"
   ]
  },
  {
   "cell_type": "code",
   "execution_count": 380,
   "metadata": {},
   "outputs": [],
   "source": [
    "y_pred = lm_l_best.predict(x_test_s)"
   ]
  },
  {
   "cell_type": "code",
   "execution_count": 385,
   "metadata": {},
   "outputs": [],
   "source": [
    "residual = abs(np.array(y_test) - y_pred)"
   ]
  },
  {
   "cell_type": "code",
   "execution_count": 387,
   "metadata": {},
   "outputs": [
    {
     "data": {
      "text/plain": [
       "<seaborn.axisgrid.JointGrid at 0x1f9e5094430>"
      ]
     },
     "execution_count": 387,
     "metadata": {},
     "output_type": "execute_result"
    },
    {
     "data": {
      "image/png": "[encoded data removed]",
      "text/plain": [
       "<Figure size 432x432 with 3 Axes>"
      ]
     },
     "metadata": {
      "needs_background": "light"
     },
     "output_type": "display_data"
    }
   ],
   "source": [
    "sns.jointplot(x = np.array(y_test), y = residual )"
   ]
  },
  {
   "cell_type": "code",
   "execution_count": 389,
   "metadata": {},
   "outputs": [
    {
     "data": {
      "text/plain": [
       "<seaborn.axisgrid.JointGrid at 0x1f9e55c2a60>"
      ]
     },
     "execution_count": 389,
     "metadata": {},
     "output_type": "execute_result"
    },
    {
     "data": {
      "image/png": "[encoded data removed]",
      "text/plain": [
       "<Figure size 432x432 with 3 Axes>"
      ]
     },
     "metadata": {
      "needs_background": "light"
     },
     "output_type": "display_data"
    }
   ],
   "source": [
    "y_pred2 = lm_l_best.predict(x_train_s)\n",
    "residual2 = abs(np.array(y_train) - y_pred2)\n",
    "sns.jointplot(x = np.array(y_train), y = residual2 )"
   ]
  },
  {
   "cell_type": "code",
   "execution_count": null,
   "metadata": {},
   "outputs": [],
   "source": [
    "* Since there appear to be a Scattered plot we assume there is no heterodascedity problems here\n",
    "\n",
    "* Assuming one was sighted then we would have proceeded to do either a log(y) or squareroot(y) on target variable "
   ]
  },
  {
   "cell_type": "code",
   "execution_count": null,
   "metadata": {},
   "outputs": [],
   "source": []
  },
  {
   "cell_type": "markdown",
   "metadata": {},
   "source": [
    "### Higher Order Linear Models"
   ]
  },
  {
   "cell_type": "code",
   "execution_count": 426,
   "metadata": {},
   "outputs": [],
   "source": [
    "from sklearn.preprocessing import PolynomialFeatures\n",
    "poly = PolynomialFeatures( degree = 2)\n",
    "x_train_p = poly.fit_transform(x_train_s)\n",
    "x_test_p = poly.transform(x_test_s)"
   ]
  },
  {
   "cell_type": "code",
   "execution_count": 427,
   "metadata": {},
   "outputs": [
    {
     "name": "stdout",
     "output_type": "stream",
     "text": [
      " This is the train accuracy using a linear polynomic model 0.9158515019275522\n",
      " This is the test accuracy using a linear polynomic model 0.8473268328041097\n"
     ]
    }
   ],
   "source": [
    "model = LinearRegression()\n",
    "model.fit(x_train_p, y_train)\n",
    "\n",
    "print(\" This is the train accuracy using a linear polynomic model\", model.score(x_train_p, y_train))\n",
    "print(\" This is the test accuracy using a linear polynomic model\", model.score(x_test_p, y_test))"
   ]
  },
  {
   "cell_type": "code",
   "execution_count": 428,
   "metadata": {},
   "outputs": [
    {
     "name": "stdout",
     "output_type": "stream",
     "text": [
      " This is the train accuracy using a Ridge polynomic model 0.9137349629126285\n",
      " This is the test accuracy using a Ridge polynomic model 0.8533484201083292\n"
     ]
    }
   ],
   "source": [
    "model_r = Ridge(alpha = 5)\n",
    "model_r.fit(x_train_p, y_train)\n",
    "\n",
    "print(\" This is the train accuracy using a Ridge polynomic model\", model_r.score(x_train_p, y_train))\n",
    "print(\" This is the test accuracy using a Ridge polynomic model\", model_r.score(x_test_p, y_test))"
   ]
  },
  {
   "cell_type": "code",
   "execution_count": 429,
   "metadata": {},
   "outputs": [
    {
     "name": "stdout",
     "output_type": "stream",
     "text": [
      " This is the train accuracy using a Ridge polynomic model 0.8817071033485779\n",
      " This is the test accuracy using a Ridge polynomic model 0.851229370682787\n"
     ]
    }
   ],
   "source": [
    "model_l = Lasso(alpha = 0.1)\n",
    "model_l.fit(x_train_p, y_train)\n",
    "\n",
    "print(\" This is the train accuracy using a Ridge polynomic model\", model_l.score(x_train_p, y_train))\n",
    "print(\" This is the test accuracy using a Ridge polynomic model\", model_l.score(x_test_p, y_test))"
   ]
  },
  {
   "cell_type": "code",
   "execution_count": 437,
   "metadata": {},
   "outputs": [
    {
     "data": {
      "text/plain": [
       "<seaborn.axisgrid.JointGrid at 0x1f9e5731520>"
      ]
     },
     "execution_count": 437,
     "metadata": {},
     "output_type": "execute_result"
    },
    {
     "data": {
      "image/png": "[encoded data removed]",
      "text/plain": [
       "<Figure size 432x432 with 3 Axes>"
      ]
     },
     "metadata": {
      "needs_background": "light"
     },
     "output_type": "display_data"
    }
   ],
   "source": [
    "y_pred3= model_r.predict(x_train_p)\n",
    "residual3 = abs(np.array(y_train) - y_pred3)\n",
    "sns.jointplot(x = np.array(y_train), y = residual3 )"
   ]
  }
 ],
 "metadata": {
  "kernelspec": {
   "display_name": "Python 3",
   "language": "python",
   "name": "python3"
  },
  "language_info": {
   "codemirror_mode": {
    "name": "ipython",
    "version": 3
   },
   "file_extension": ".py",
   "mimetype": "text/x-python",
   "name": "python",
   "nbconvert_exporter": "python",
   "pygments_lexer": "ipython3",
   "version": "3.8.5"
  }
 },
 "nbformat": 4,
 "nbformat_minor": 4
}
